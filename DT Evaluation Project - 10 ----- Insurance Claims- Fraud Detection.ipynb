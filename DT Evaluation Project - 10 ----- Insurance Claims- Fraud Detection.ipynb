{
 "cells": [
  {
   "cell_type": "code",
   "execution_count": 1,
   "id": "02154ab1",
   "metadata": {},
   "outputs": [],
   "source": [
    "import pandas as pd\n",
    "import warnings\n",
    "warnings.filterwarnings('ignore')"
   ]
  },
  {
   "cell_type": "code",
   "execution_count": 2,
   "id": "39fd7cb2",
   "metadata": {},
   "outputs": [
    {
     "data": {
      "text/html": [
       "<div>\n",
       "<style scoped>\n",
       "    .dataframe tbody tr th:only-of-type {\n",
       "        vertical-align: middle;\n",
       "    }\n",
       "\n",
       "    .dataframe tbody tr th {\n",
       "        vertical-align: top;\n",
       "    }\n",
       "\n",
       "    .dataframe thead th {\n",
       "        text-align: right;\n",
       "    }\n",
       "</style>\n",
       "<table border=\"1\" class=\"dataframe\">\n",
       "  <thead>\n",
       "    <tr style=\"text-align: right;\">\n",
       "      <th></th>\n",
       "      <th>months_as_customer</th>\n",
       "      <th>age</th>\n",
       "      <th>policy_number</th>\n",
       "      <th>policy_bind_date</th>\n",
       "      <th>policy_state</th>\n",
       "      <th>policy_csl</th>\n",
       "      <th>policy_deductable</th>\n",
       "      <th>policy_annual_premium</th>\n",
       "      <th>umbrella_limit</th>\n",
       "      <th>insured_zip</th>\n",
       "      <th>insured_sex</th>\n",
       "      <th>insured_education_level</th>\n",
       "      <th>insured_occupation</th>\n",
       "      <th>insured_hobbies</th>\n",
       "      <th>insured_relationship</th>\n",
       "      <th>capital-gains</th>\n",
       "      <th>capital-loss</th>\n",
       "      <th>incident_date</th>\n",
       "      <th>incident_type</th>\n",
       "      <th>collision_type</th>\n",
       "      <th>incident_severity</th>\n",
       "      <th>authorities_contacted</th>\n",
       "      <th>incident_state</th>\n",
       "      <th>incident_city</th>\n",
       "      <th>incident_location</th>\n",
       "      <th>incident_hour_of_the_day</th>\n",
       "      <th>number_of_vehicles_involved</th>\n",
       "      <th>property_damage</th>\n",
       "      <th>bodily_injuries</th>\n",
       "      <th>witnesses</th>\n",
       "      <th>police_report_available</th>\n",
       "      <th>total_claim_amount</th>\n",
       "      <th>injury_claim</th>\n",
       "      <th>property_claim</th>\n",
       "      <th>vehicle_claim</th>\n",
       "      <th>auto_make</th>\n",
       "      <th>auto_model</th>\n",
       "      <th>auto_year</th>\n",
       "      <th>fraud_reported</th>\n",
       "      <th>_c39</th>\n",
       "    </tr>\n",
       "  </thead>\n",
       "  <tbody>\n",
       "    <tr>\n",
       "      <th>0</th>\n",
       "      <td>328</td>\n",
       "      <td>48</td>\n",
       "      <td>521585</td>\n",
       "      <td>17-10-2014</td>\n",
       "      <td>OH</td>\n",
       "      <td>250/500</td>\n",
       "      <td>1000</td>\n",
       "      <td>1406.91</td>\n",
       "      <td>0</td>\n",
       "      <td>466132</td>\n",
       "      <td>MALE</td>\n",
       "      <td>MD</td>\n",
       "      <td>craft-repair</td>\n",
       "      <td>sleeping</td>\n",
       "      <td>husband</td>\n",
       "      <td>53300</td>\n",
       "      <td>0</td>\n",
       "      <td>25-01-2015</td>\n",
       "      <td>Single Vehicle Collision</td>\n",
       "      <td>Side Collision</td>\n",
       "      <td>Major Damage</td>\n",
       "      <td>Police</td>\n",
       "      <td>SC</td>\n",
       "      <td>Columbus</td>\n",
       "      <td>9935 4th Drive</td>\n",
       "      <td>5</td>\n",
       "      <td>1</td>\n",
       "      <td>YES</td>\n",
       "      <td>1</td>\n",
       "      <td>2</td>\n",
       "      <td>YES</td>\n",
       "      <td>71610</td>\n",
       "      <td>6510</td>\n",
       "      <td>13020</td>\n",
       "      <td>52080</td>\n",
       "      <td>Saab</td>\n",
       "      <td>92x</td>\n",
       "      <td>2004</td>\n",
       "      <td>Y</td>\n",
       "      <td>NaN</td>\n",
       "    </tr>\n",
       "    <tr>\n",
       "      <th>1</th>\n",
       "      <td>228</td>\n",
       "      <td>42</td>\n",
       "      <td>342868</td>\n",
       "      <td>27-06-2006</td>\n",
       "      <td>IN</td>\n",
       "      <td>250/500</td>\n",
       "      <td>2000</td>\n",
       "      <td>1197.22</td>\n",
       "      <td>5000000</td>\n",
       "      <td>468176</td>\n",
       "      <td>MALE</td>\n",
       "      <td>MD</td>\n",
       "      <td>machine-op-inspct</td>\n",
       "      <td>reading</td>\n",
       "      <td>other-relative</td>\n",
       "      <td>0</td>\n",
       "      <td>0</td>\n",
       "      <td>21-01-2015</td>\n",
       "      <td>Vehicle Theft</td>\n",
       "      <td>?</td>\n",
       "      <td>Minor Damage</td>\n",
       "      <td>Police</td>\n",
       "      <td>VA</td>\n",
       "      <td>Riverwood</td>\n",
       "      <td>6608 MLK Hwy</td>\n",
       "      <td>8</td>\n",
       "      <td>1</td>\n",
       "      <td>?</td>\n",
       "      <td>0</td>\n",
       "      <td>0</td>\n",
       "      <td>?</td>\n",
       "      <td>5070</td>\n",
       "      <td>780</td>\n",
       "      <td>780</td>\n",
       "      <td>3510</td>\n",
       "      <td>Mercedes</td>\n",
       "      <td>E400</td>\n",
       "      <td>2007</td>\n",
       "      <td>Y</td>\n",
       "      <td>NaN</td>\n",
       "    </tr>\n",
       "    <tr>\n",
       "      <th>2</th>\n",
       "      <td>134</td>\n",
       "      <td>29</td>\n",
       "      <td>687698</td>\n",
       "      <td>06-09-2000</td>\n",
       "      <td>OH</td>\n",
       "      <td>100/300</td>\n",
       "      <td>2000</td>\n",
       "      <td>1413.14</td>\n",
       "      <td>5000000</td>\n",
       "      <td>430632</td>\n",
       "      <td>FEMALE</td>\n",
       "      <td>PhD</td>\n",
       "      <td>sales</td>\n",
       "      <td>board-games</td>\n",
       "      <td>own-child</td>\n",
       "      <td>35100</td>\n",
       "      <td>0</td>\n",
       "      <td>22-02-2015</td>\n",
       "      <td>Multi-vehicle Collision</td>\n",
       "      <td>Rear Collision</td>\n",
       "      <td>Minor Damage</td>\n",
       "      <td>Police</td>\n",
       "      <td>NY</td>\n",
       "      <td>Columbus</td>\n",
       "      <td>7121 Francis Lane</td>\n",
       "      <td>7</td>\n",
       "      <td>3</td>\n",
       "      <td>NO</td>\n",
       "      <td>2</td>\n",
       "      <td>3</td>\n",
       "      <td>NO</td>\n",
       "      <td>34650</td>\n",
       "      <td>7700</td>\n",
       "      <td>3850</td>\n",
       "      <td>23100</td>\n",
       "      <td>Dodge</td>\n",
       "      <td>RAM</td>\n",
       "      <td>2007</td>\n",
       "      <td>N</td>\n",
       "      <td>NaN</td>\n",
       "    </tr>\n",
       "    <tr>\n",
       "      <th>3</th>\n",
       "      <td>256</td>\n",
       "      <td>41</td>\n",
       "      <td>227811</td>\n",
       "      <td>25-05-1990</td>\n",
       "      <td>IL</td>\n",
       "      <td>250/500</td>\n",
       "      <td>2000</td>\n",
       "      <td>1415.74</td>\n",
       "      <td>6000000</td>\n",
       "      <td>608117</td>\n",
       "      <td>FEMALE</td>\n",
       "      <td>PhD</td>\n",
       "      <td>armed-forces</td>\n",
       "      <td>board-games</td>\n",
       "      <td>unmarried</td>\n",
       "      <td>48900</td>\n",
       "      <td>-62400</td>\n",
       "      <td>10-01-2015</td>\n",
       "      <td>Single Vehicle Collision</td>\n",
       "      <td>Front Collision</td>\n",
       "      <td>Major Damage</td>\n",
       "      <td>Police</td>\n",
       "      <td>OH</td>\n",
       "      <td>Arlington</td>\n",
       "      <td>6956 Maple Drive</td>\n",
       "      <td>5</td>\n",
       "      <td>1</td>\n",
       "      <td>?</td>\n",
       "      <td>1</td>\n",
       "      <td>2</td>\n",
       "      <td>NO</td>\n",
       "      <td>63400</td>\n",
       "      <td>6340</td>\n",
       "      <td>6340</td>\n",
       "      <td>50720</td>\n",
       "      <td>Chevrolet</td>\n",
       "      <td>Tahoe</td>\n",
       "      <td>2014</td>\n",
       "      <td>Y</td>\n",
       "      <td>NaN</td>\n",
       "    </tr>\n",
       "    <tr>\n",
       "      <th>4</th>\n",
       "      <td>228</td>\n",
       "      <td>44</td>\n",
       "      <td>367455</td>\n",
       "      <td>06-06-2014</td>\n",
       "      <td>IL</td>\n",
       "      <td>500/1000</td>\n",
       "      <td>1000</td>\n",
       "      <td>1583.91</td>\n",
       "      <td>6000000</td>\n",
       "      <td>610706</td>\n",
       "      <td>MALE</td>\n",
       "      <td>Associate</td>\n",
       "      <td>sales</td>\n",
       "      <td>board-games</td>\n",
       "      <td>unmarried</td>\n",
       "      <td>66000</td>\n",
       "      <td>-46000</td>\n",
       "      <td>17-02-2015</td>\n",
       "      <td>Vehicle Theft</td>\n",
       "      <td>?</td>\n",
       "      <td>Minor Damage</td>\n",
       "      <td>None</td>\n",
       "      <td>NY</td>\n",
       "      <td>Arlington</td>\n",
       "      <td>3041 3rd Ave</td>\n",
       "      <td>20</td>\n",
       "      <td>1</td>\n",
       "      <td>NO</td>\n",
       "      <td>0</td>\n",
       "      <td>1</td>\n",
       "      <td>NO</td>\n",
       "      <td>6500</td>\n",
       "      <td>1300</td>\n",
       "      <td>650</td>\n",
       "      <td>4550</td>\n",
       "      <td>Accura</td>\n",
       "      <td>RSX</td>\n",
       "      <td>2009</td>\n",
       "      <td>N</td>\n",
       "      <td>NaN</td>\n",
       "    </tr>\n",
       "  </tbody>\n",
       "</table>\n",
       "</div>"
      ],
      "text/plain": [
       "   months_as_customer  age  policy_number policy_bind_date policy_state  \\\n",
       "0                 328   48         521585       17-10-2014           OH   \n",
       "1                 228   42         342868       27-06-2006           IN   \n",
       "2                 134   29         687698       06-09-2000           OH   \n",
       "3                 256   41         227811       25-05-1990           IL   \n",
       "4                 228   44         367455       06-06-2014           IL   \n",
       "\n",
       "  policy_csl  policy_deductable  policy_annual_premium  umbrella_limit  \\\n",
       "0    250/500               1000                1406.91               0   \n",
       "1    250/500               2000                1197.22         5000000   \n",
       "2    100/300               2000                1413.14         5000000   \n",
       "3    250/500               2000                1415.74         6000000   \n",
       "4   500/1000               1000                1583.91         6000000   \n",
       "\n",
       "   insured_zip insured_sex insured_education_level insured_occupation  \\\n",
       "0       466132        MALE                      MD       craft-repair   \n",
       "1       468176        MALE                      MD  machine-op-inspct   \n",
       "2       430632      FEMALE                     PhD              sales   \n",
       "3       608117      FEMALE                     PhD       armed-forces   \n",
       "4       610706        MALE               Associate              sales   \n",
       "\n",
       "  insured_hobbies insured_relationship  capital-gains  capital-loss  \\\n",
       "0        sleeping              husband          53300             0   \n",
       "1         reading       other-relative              0             0   \n",
       "2     board-games            own-child          35100             0   \n",
       "3     board-games            unmarried          48900        -62400   \n",
       "4     board-games            unmarried          66000        -46000   \n",
       "\n",
       "  incident_date             incident_type   collision_type incident_severity  \\\n",
       "0    25-01-2015  Single Vehicle Collision   Side Collision      Major Damage   \n",
       "1    21-01-2015             Vehicle Theft                ?      Minor Damage   \n",
       "2    22-02-2015   Multi-vehicle Collision   Rear Collision      Minor Damage   \n",
       "3    10-01-2015  Single Vehicle Collision  Front Collision      Major Damage   \n",
       "4    17-02-2015             Vehicle Theft                ?      Minor Damage   \n",
       "\n",
       "  authorities_contacted incident_state incident_city  incident_location  \\\n",
       "0                Police             SC      Columbus     9935 4th Drive   \n",
       "1                Police             VA     Riverwood       6608 MLK Hwy   \n",
       "2                Police             NY      Columbus  7121 Francis Lane   \n",
       "3                Police             OH     Arlington   6956 Maple Drive   \n",
       "4                  None             NY     Arlington       3041 3rd Ave   \n",
       "\n",
       "   incident_hour_of_the_day  number_of_vehicles_involved property_damage  \\\n",
       "0                         5                            1             YES   \n",
       "1                         8                            1               ?   \n",
       "2                         7                            3              NO   \n",
       "3                         5                            1               ?   \n",
       "4                        20                            1              NO   \n",
       "\n",
       "   bodily_injuries  witnesses police_report_available  total_claim_amount  \\\n",
       "0                1          2                     YES               71610   \n",
       "1                0          0                       ?                5070   \n",
       "2                2          3                      NO               34650   \n",
       "3                1          2                      NO               63400   \n",
       "4                0          1                      NO                6500   \n",
       "\n",
       "   injury_claim  property_claim  vehicle_claim  auto_make auto_model  \\\n",
       "0          6510           13020          52080       Saab        92x   \n",
       "1           780             780           3510   Mercedes       E400   \n",
       "2          7700            3850          23100      Dodge        RAM   \n",
       "3          6340            6340          50720  Chevrolet      Tahoe   \n",
       "4          1300             650           4550     Accura        RSX   \n",
       "\n",
       "   auto_year fraud_reported  _c39  \n",
       "0       2004              Y   NaN  \n",
       "1       2007              Y   NaN  \n",
       "2       2007              N   NaN  \n",
       "3       2014              Y   NaN  \n",
       "4       2009              N   NaN  "
      ]
     },
     "execution_count": 2,
     "metadata": {},
     "output_type": "execute_result"
    }
   ],
   "source": [
    "df = pd.read_csv('Automobile_insurance_fraud.csv')\n",
    "pd.set_option('display.max_columns', None)\n",
    "df.head()"
   ]
  },
  {
   "cell_type": "code",
   "execution_count": 4,
   "id": "8d2c932d",
   "metadata": {},
   "outputs": [
    {
     "data": {
      "text/plain": [
       "(1000, 39)"
      ]
     },
     "execution_count": 4,
     "metadata": {},
     "output_type": "execute_result"
    }
   ],
   "source": [
    "df.shape"
   ]
  },
  {
   "cell_type": "code",
   "execution_count": 5,
   "id": "43d2c509",
   "metadata": {},
   "outputs": [
    {
     "name": "stdout",
     "output_type": "stream",
     "text": [
      "<class 'pandas.core.frame.DataFrame'>\n",
      "RangeIndex: 1000 entries, 0 to 999\n",
      "Data columns (total 39 columns):\n",
      " #   Column                       Non-Null Count  Dtype  \n",
      "---  ------                       --------------  -----  \n",
      " 0   months_as_customer           1000 non-null   int64  \n",
      " 1   age                          1000 non-null   int64  \n",
      " 2   policy_number                1000 non-null   int64  \n",
      " 3   policy_bind_date             1000 non-null   object \n",
      " 4   policy_state                 1000 non-null   object \n",
      " 5   policy_csl                   1000 non-null   object \n",
      " 6   policy_deductable            1000 non-null   int64  \n",
      " 7   policy_annual_premium        1000 non-null   float64\n",
      " 8   umbrella_limit               1000 non-null   int64  \n",
      " 9   insured_zip                  1000 non-null   int64  \n",
      " 10  insured_sex                  1000 non-null   object \n",
      " 11  insured_education_level      1000 non-null   object \n",
      " 12  insured_occupation           1000 non-null   object \n",
      " 13  insured_hobbies              1000 non-null   object \n",
      " 14  insured_relationship         1000 non-null   object \n",
      " 15  capital-gains                1000 non-null   int64  \n",
      " 16  capital-loss                 1000 non-null   int64  \n",
      " 17  incident_date                1000 non-null   object \n",
      " 18  incident_type                1000 non-null   object \n",
      " 19  collision_type               1000 non-null   object \n",
      " 20  incident_severity            1000 non-null   object \n",
      " 21  authorities_contacted        1000 non-null   object \n",
      " 22  incident_state               1000 non-null   object \n",
      " 23  incident_city                1000 non-null   object \n",
      " 24  incident_location            1000 non-null   object \n",
      " 25  incident_hour_of_the_day     1000 non-null   int64  \n",
      " 26  number_of_vehicles_involved  1000 non-null   int64  \n",
      " 27  property_damage              1000 non-null   object \n",
      " 28  bodily_injuries              1000 non-null   int64  \n",
      " 29  witnesses                    1000 non-null   int64  \n",
      " 30  police_report_available      1000 non-null   object \n",
      " 31  total_claim_amount           1000 non-null   int64  \n",
      " 32  injury_claim                 1000 non-null   int64  \n",
      " 33  property_claim               1000 non-null   int64  \n",
      " 34  vehicle_claim                1000 non-null   int64  \n",
      " 35  auto_make                    1000 non-null   object \n",
      " 36  auto_model                   1000 non-null   object \n",
      " 37  auto_year                    1000 non-null   int64  \n",
      " 38  fraud_reported               1000 non-null   object \n",
      "dtypes: float64(1), int64(17), object(21)\n",
      "memory usage: 304.8+ KB\n"
     ]
    }
   ],
   "source": [
    "df.info()"
   ]
  },
  {
   "cell_type": "code",
   "execution_count": 5,
   "id": "66188f29",
   "metadata": {},
   "outputs": [
    {
     "data": {
      "text/plain": [
       "months_as_customer                0\n",
       "age                               0\n",
       "policy_number                     0\n",
       "policy_bind_date                  0\n",
       "policy_state                      0\n",
       "policy_csl                        0\n",
       "policy_deductable                 0\n",
       "policy_annual_premium             0\n",
       "umbrella_limit                    0\n",
       "insured_zip                       0\n",
       "insured_sex                       0\n",
       "insured_education_level           0\n",
       "insured_occupation                0\n",
       "insured_hobbies                   0\n",
       "insured_relationship              0\n",
       "capital-gains                     0\n",
       "capital-loss                      0\n",
       "incident_date                     0\n",
       "incident_type                     0\n",
       "collision_type                    0\n",
       "incident_severity                 0\n",
       "authorities_contacted             0\n",
       "incident_state                    0\n",
       "incident_city                     0\n",
       "incident_location                 0\n",
       "incident_hour_of_the_day          0\n",
       "number_of_vehicles_involved       0\n",
       "property_damage                   0\n",
       "bodily_injuries                   0\n",
       "witnesses                         0\n",
       "police_report_available           0\n",
       "total_claim_amount                0\n",
       "injury_claim                      0\n",
       "property_claim                    0\n",
       "vehicle_claim                     0\n",
       "auto_make                         0\n",
       "auto_model                        0\n",
       "auto_year                         0\n",
       "fraud_reported                    0\n",
       "_c39                           1000\n",
       "dtype: int64"
      ]
     },
     "execution_count": 5,
     "metadata": {},
     "output_type": "execute_result"
    }
   ],
   "source": [
    "df.isnull().sum()"
   ]
  },
  {
   "cell_type": "code",
   "execution_count": 3,
   "id": "975f5675",
   "metadata": {},
   "outputs": [],
   "source": [
    "df.drop(['_c39'], axis = 1, inplace = True)"
   ]
  },
  {
   "cell_type": "markdown",
   "id": "8219c707",
   "metadata": {},
   "source": [
    "Dropping irrelevant column as it has all null values"
   ]
  },
  {
   "cell_type": "code",
   "execution_count": 6,
   "id": "746ef41b",
   "metadata": {},
   "outputs": [
    {
     "data": {
      "text/plain": [
       "months_as_customer               0\n",
       "age                              0\n",
       "policy_number                    0\n",
       "policy_bind_date                 0\n",
       "policy_state                     0\n",
       "policy_csl                       0\n",
       "policy_deductable                0\n",
       "policy_annual_premium            0\n",
       "umbrella_limit                   0\n",
       "insured_zip                      0\n",
       "insured_sex                      0\n",
       "insured_education_level          0\n",
       "insured_occupation               0\n",
       "insured_hobbies                  0\n",
       "insured_relationship             0\n",
       "capital-gains                    0\n",
       "capital-loss                     0\n",
       "incident_date                    0\n",
       "incident_type                    0\n",
       "collision_type                 178\n",
       "incident_severity                0\n",
       "authorities_contacted            0\n",
       "incident_state                   0\n",
       "incident_city                    0\n",
       "incident_location                0\n",
       "incident_hour_of_the_day         0\n",
       "number_of_vehicles_involved      0\n",
       "property_damage                360\n",
       "bodily_injuries                  0\n",
       "witnesses                        0\n",
       "police_report_available        343\n",
       "total_claim_amount               0\n",
       "injury_claim                     0\n",
       "property_claim                   0\n",
       "vehicle_claim                    0\n",
       "auto_make                        0\n",
       "auto_model                       0\n",
       "auto_year                        0\n",
       "fraud_reported                   0\n",
       "dtype: int64"
      ]
     },
     "execution_count": 6,
     "metadata": {},
     "output_type": "execute_result"
    }
   ],
   "source": [
    "import numpy as np\n",
    "\n",
    "df = df.replace('?',np.NaN)\n",
    "df.isnull().sum()"
   ]
  },
  {
   "cell_type": "markdown",
   "id": "0adc45dc",
   "metadata": {},
   "source": [
    "However there is no null value, but '?' is appearing the data, hence we have replaced ? with null value and now we are getting null values in 3 columns"
   ]
  },
  {
   "cell_type": "code",
   "execution_count": 7,
   "id": "62f00ca1",
   "metadata": {},
   "outputs": [],
   "source": [
    "df['collision_type'].fillna(df['collision_type'].mode()[0], inplace = True)\n",
    "\n",
    "df['property_damage'].fillna('NO', inplace = True)\n",
    "\n",
    "df['police_report_available'].fillna('NO', inplace = True)"
   ]
  },
  {
   "cell_type": "markdown",
   "id": "e1f1d35a",
   "metadata": {},
   "source": [
    "We are filling missing values of these 3 columns :-\n",
    "\n",
    "1) we are updating the most common value of collision_type in the null values.\n",
    "\n",
    "2) In case of blank property_damage, NO value is updated with property_damage.\n",
    "\n",
    "3) Again, in case of blank police_report_available, NO value is updated with police_report_available."
   ]
  },
  {
   "cell_type": "code",
   "execution_count": 9,
   "id": "eb549e1d",
   "metadata": {},
   "outputs": [
    {
     "data": {
      "text/plain": [
       "months_as_customer             0\n",
       "age                            0\n",
       "policy_number                  0\n",
       "policy_bind_date               0\n",
       "policy_state                   0\n",
       "policy_csl                     0\n",
       "policy_deductable              0\n",
       "policy_annual_premium          0\n",
       "umbrella_limit                 0\n",
       "insured_zip                    0\n",
       "insured_sex                    0\n",
       "insured_education_level        0\n",
       "insured_occupation             0\n",
       "insured_hobbies                0\n",
       "insured_relationship           0\n",
       "capital-gains                  0\n",
       "capital-loss                   0\n",
       "incident_date                  0\n",
       "incident_type                  0\n",
       "collision_type                 0\n",
       "incident_severity              0\n",
       "authorities_contacted          0\n",
       "incident_state                 0\n",
       "incident_city                  0\n",
       "incident_location              0\n",
       "incident_hour_of_the_day       0\n",
       "number_of_vehicles_involved    0\n",
       "property_damage                0\n",
       "bodily_injuries                0\n",
       "witnesses                      0\n",
       "police_report_available        0\n",
       "total_claim_amount             0\n",
       "injury_claim                   0\n",
       "property_claim                 0\n",
       "vehicle_claim                  0\n",
       "auto_make                      0\n",
       "auto_model                     0\n",
       "auto_year                      0\n",
       "fraud_reported                 0\n",
       "dtype: int64"
      ]
     },
     "execution_count": 9,
     "metadata": {},
     "output_type": "execute_result"
    }
   ],
   "source": [
    "df.isnull().sum()"
   ]
  },
  {
   "cell_type": "code",
   "execution_count": 10,
   "id": "773a4fa9",
   "metadata": {},
   "outputs": [
    {
     "data": {
      "text/html": [
       "<div>\n",
       "<style scoped>\n",
       "    .dataframe tbody tr th:only-of-type {\n",
       "        vertical-align: middle;\n",
       "    }\n",
       "\n",
       "    .dataframe tbody tr th {\n",
       "        vertical-align: top;\n",
       "    }\n",
       "\n",
       "    .dataframe thead th {\n",
       "        text-align: right;\n",
       "    }\n",
       "</style>\n",
       "<table border=\"1\" class=\"dataframe\">\n",
       "  <thead>\n",
       "    <tr style=\"text-align: right;\">\n",
       "      <th></th>\n",
       "      <th>months_as_customer</th>\n",
       "      <th>age</th>\n",
       "      <th>policy_number</th>\n",
       "      <th>policy_deductable</th>\n",
       "      <th>policy_annual_premium</th>\n",
       "      <th>umbrella_limit</th>\n",
       "      <th>insured_zip</th>\n",
       "      <th>capital-gains</th>\n",
       "      <th>capital-loss</th>\n",
       "      <th>incident_hour_of_the_day</th>\n",
       "      <th>number_of_vehicles_involved</th>\n",
       "      <th>bodily_injuries</th>\n",
       "      <th>witnesses</th>\n",
       "      <th>total_claim_amount</th>\n",
       "      <th>injury_claim</th>\n",
       "      <th>property_claim</th>\n",
       "      <th>vehicle_claim</th>\n",
       "      <th>auto_year</th>\n",
       "    </tr>\n",
       "  </thead>\n",
       "  <tbody>\n",
       "    <tr>\n",
       "      <th>count</th>\n",
       "      <td>1000.000000</td>\n",
       "      <td>1000.000000</td>\n",
       "      <td>1000.000000</td>\n",
       "      <td>1000.000000</td>\n",
       "      <td>1000.000000</td>\n",
       "      <td>1.000000e+03</td>\n",
       "      <td>1000.000000</td>\n",
       "      <td>1000.000000</td>\n",
       "      <td>1000.000000</td>\n",
       "      <td>1000.000000</td>\n",
       "      <td>1000.00000</td>\n",
       "      <td>1000.000000</td>\n",
       "      <td>1000.000000</td>\n",
       "      <td>1000.00000</td>\n",
       "      <td>1000.000000</td>\n",
       "      <td>1000.000000</td>\n",
       "      <td>1000.000000</td>\n",
       "      <td>1000.000000</td>\n",
       "    </tr>\n",
       "    <tr>\n",
       "      <th>mean</th>\n",
       "      <td>203.954000</td>\n",
       "      <td>38.948000</td>\n",
       "      <td>546238.648000</td>\n",
       "      <td>1136.000000</td>\n",
       "      <td>1256.406150</td>\n",
       "      <td>1.101000e+06</td>\n",
       "      <td>501214.488000</td>\n",
       "      <td>25126.100000</td>\n",
       "      <td>-26793.700000</td>\n",
       "      <td>11.644000</td>\n",
       "      <td>1.83900</td>\n",
       "      <td>0.992000</td>\n",
       "      <td>1.487000</td>\n",
       "      <td>52761.94000</td>\n",
       "      <td>7433.420000</td>\n",
       "      <td>7399.570000</td>\n",
       "      <td>37928.950000</td>\n",
       "      <td>2005.103000</td>\n",
       "    </tr>\n",
       "    <tr>\n",
       "      <th>std</th>\n",
       "      <td>115.113174</td>\n",
       "      <td>9.140287</td>\n",
       "      <td>257063.005276</td>\n",
       "      <td>611.864673</td>\n",
       "      <td>244.167395</td>\n",
       "      <td>2.297407e+06</td>\n",
       "      <td>71701.610941</td>\n",
       "      <td>27872.187708</td>\n",
       "      <td>28104.096686</td>\n",
       "      <td>6.951373</td>\n",
       "      <td>1.01888</td>\n",
       "      <td>0.820127</td>\n",
       "      <td>1.111335</td>\n",
       "      <td>26401.53319</td>\n",
       "      <td>4880.951853</td>\n",
       "      <td>4824.726179</td>\n",
       "      <td>18886.252893</td>\n",
       "      <td>6.015861</td>\n",
       "    </tr>\n",
       "    <tr>\n",
       "      <th>min</th>\n",
       "      <td>0.000000</td>\n",
       "      <td>19.000000</td>\n",
       "      <td>100804.000000</td>\n",
       "      <td>500.000000</td>\n",
       "      <td>433.330000</td>\n",
       "      <td>-1.000000e+06</td>\n",
       "      <td>430104.000000</td>\n",
       "      <td>0.000000</td>\n",
       "      <td>-111100.000000</td>\n",
       "      <td>0.000000</td>\n",
       "      <td>1.00000</td>\n",
       "      <td>0.000000</td>\n",
       "      <td>0.000000</td>\n",
       "      <td>100.00000</td>\n",
       "      <td>0.000000</td>\n",
       "      <td>0.000000</td>\n",
       "      <td>70.000000</td>\n",
       "      <td>1995.000000</td>\n",
       "    </tr>\n",
       "    <tr>\n",
       "      <th>25%</th>\n",
       "      <td>115.750000</td>\n",
       "      <td>32.000000</td>\n",
       "      <td>335980.250000</td>\n",
       "      <td>500.000000</td>\n",
       "      <td>1089.607500</td>\n",
       "      <td>0.000000e+00</td>\n",
       "      <td>448404.500000</td>\n",
       "      <td>0.000000</td>\n",
       "      <td>-51500.000000</td>\n",
       "      <td>6.000000</td>\n",
       "      <td>1.00000</td>\n",
       "      <td>0.000000</td>\n",
       "      <td>1.000000</td>\n",
       "      <td>41812.50000</td>\n",
       "      <td>4295.000000</td>\n",
       "      <td>4445.000000</td>\n",
       "      <td>30292.500000</td>\n",
       "      <td>2000.000000</td>\n",
       "    </tr>\n",
       "    <tr>\n",
       "      <th>50%</th>\n",
       "      <td>199.500000</td>\n",
       "      <td>38.000000</td>\n",
       "      <td>533135.000000</td>\n",
       "      <td>1000.000000</td>\n",
       "      <td>1257.200000</td>\n",
       "      <td>0.000000e+00</td>\n",
       "      <td>466445.500000</td>\n",
       "      <td>0.000000</td>\n",
       "      <td>-23250.000000</td>\n",
       "      <td>12.000000</td>\n",
       "      <td>1.00000</td>\n",
       "      <td>1.000000</td>\n",
       "      <td>1.000000</td>\n",
       "      <td>58055.00000</td>\n",
       "      <td>6775.000000</td>\n",
       "      <td>6750.000000</td>\n",
       "      <td>42100.000000</td>\n",
       "      <td>2005.000000</td>\n",
       "    </tr>\n",
       "    <tr>\n",
       "      <th>75%</th>\n",
       "      <td>276.250000</td>\n",
       "      <td>44.000000</td>\n",
       "      <td>759099.750000</td>\n",
       "      <td>2000.000000</td>\n",
       "      <td>1415.695000</td>\n",
       "      <td>0.000000e+00</td>\n",
       "      <td>603251.000000</td>\n",
       "      <td>51025.000000</td>\n",
       "      <td>0.000000</td>\n",
       "      <td>17.000000</td>\n",
       "      <td>3.00000</td>\n",
       "      <td>2.000000</td>\n",
       "      <td>2.000000</td>\n",
       "      <td>70592.50000</td>\n",
       "      <td>11305.000000</td>\n",
       "      <td>10885.000000</td>\n",
       "      <td>50822.500000</td>\n",
       "      <td>2010.000000</td>\n",
       "    </tr>\n",
       "    <tr>\n",
       "      <th>max</th>\n",
       "      <td>479.000000</td>\n",
       "      <td>64.000000</td>\n",
       "      <td>999435.000000</td>\n",
       "      <td>2000.000000</td>\n",
       "      <td>2047.590000</td>\n",
       "      <td>1.000000e+07</td>\n",
       "      <td>620962.000000</td>\n",
       "      <td>100500.000000</td>\n",
       "      <td>0.000000</td>\n",
       "      <td>23.000000</td>\n",
       "      <td>4.00000</td>\n",
       "      <td>2.000000</td>\n",
       "      <td>3.000000</td>\n",
       "      <td>114920.00000</td>\n",
       "      <td>21450.000000</td>\n",
       "      <td>23670.000000</td>\n",
       "      <td>79560.000000</td>\n",
       "      <td>2015.000000</td>\n",
       "    </tr>\n",
       "  </tbody>\n",
       "</table>\n",
       "</div>"
      ],
      "text/plain": [
       "       months_as_customer          age  policy_number  policy_deductable  \\\n",
       "count         1000.000000  1000.000000    1000.000000        1000.000000   \n",
       "mean           203.954000    38.948000  546238.648000        1136.000000   \n",
       "std            115.113174     9.140287  257063.005276         611.864673   \n",
       "min              0.000000    19.000000  100804.000000         500.000000   \n",
       "25%            115.750000    32.000000  335980.250000         500.000000   \n",
       "50%            199.500000    38.000000  533135.000000        1000.000000   \n",
       "75%            276.250000    44.000000  759099.750000        2000.000000   \n",
       "max            479.000000    64.000000  999435.000000        2000.000000   \n",
       "\n",
       "       policy_annual_premium  umbrella_limit    insured_zip  capital-gains  \\\n",
       "count            1000.000000    1.000000e+03    1000.000000    1000.000000   \n",
       "mean             1256.406150    1.101000e+06  501214.488000   25126.100000   \n",
       "std               244.167395    2.297407e+06   71701.610941   27872.187708   \n",
       "min               433.330000   -1.000000e+06  430104.000000       0.000000   \n",
       "25%              1089.607500    0.000000e+00  448404.500000       0.000000   \n",
       "50%              1257.200000    0.000000e+00  466445.500000       0.000000   \n",
       "75%              1415.695000    0.000000e+00  603251.000000   51025.000000   \n",
       "max              2047.590000    1.000000e+07  620962.000000  100500.000000   \n",
       "\n",
       "        capital-loss  incident_hour_of_the_day  number_of_vehicles_involved  \\\n",
       "count    1000.000000               1000.000000                   1000.00000   \n",
       "mean   -26793.700000                 11.644000                      1.83900   \n",
       "std     28104.096686                  6.951373                      1.01888   \n",
       "min   -111100.000000                  0.000000                      1.00000   \n",
       "25%    -51500.000000                  6.000000                      1.00000   \n",
       "50%    -23250.000000                 12.000000                      1.00000   \n",
       "75%         0.000000                 17.000000                      3.00000   \n",
       "max         0.000000                 23.000000                      4.00000   \n",
       "\n",
       "       bodily_injuries    witnesses  total_claim_amount  injury_claim  \\\n",
       "count      1000.000000  1000.000000          1000.00000   1000.000000   \n",
       "mean          0.992000     1.487000         52761.94000   7433.420000   \n",
       "std           0.820127     1.111335         26401.53319   4880.951853   \n",
       "min           0.000000     0.000000           100.00000      0.000000   \n",
       "25%           0.000000     1.000000         41812.50000   4295.000000   \n",
       "50%           1.000000     1.000000         58055.00000   6775.000000   \n",
       "75%           2.000000     2.000000         70592.50000  11305.000000   \n",
       "max           2.000000     3.000000        114920.00000  21450.000000   \n",
       "\n",
       "       property_claim  vehicle_claim    auto_year  \n",
       "count     1000.000000    1000.000000  1000.000000  \n",
       "mean      7399.570000   37928.950000  2005.103000  \n",
       "std       4824.726179   18886.252893     6.015861  \n",
       "min          0.000000      70.000000  1995.000000  \n",
       "25%       4445.000000   30292.500000  2000.000000  \n",
       "50%       6750.000000   42100.000000  2005.000000  \n",
       "75%      10885.000000   50822.500000  2010.000000  \n",
       "max      23670.000000   79560.000000  2015.000000  "
      ]
     },
     "execution_count": 10,
     "metadata": {},
     "output_type": "execute_result"
    }
   ],
   "source": [
    "df.describe()"
   ]
  },
  {
   "cell_type": "markdown",
   "id": "ccf98364",
   "metadata": {},
   "source": [
    "# Data Visualization"
   ]
  },
  {
   "cell_type": "code",
   "execution_count": 11,
   "id": "8966aaab",
   "metadata": {},
   "outputs": [],
   "source": [
    "import seaborn as sns\n",
    "import matplotlib.pyplot as plt"
   ]
  },
  {
   "cell_type": "code",
   "execution_count": 43,
   "id": "cb74a421",
   "metadata": {},
   "outputs": [
    {
     "data": {
      "text/plain": [
       "<AxesSubplot:xlabel='insured_sex', ylabel='count'>"
      ]
     },
     "execution_count": 43,
     "metadata": {},
     "output_type": "execute_result"
    },
    {
     "data": {
      "image/png": "[encoded data removed]",
      "text/plain": [
       "<Figure size 432x288 with 1 Axes>"
      ]
     },
     "metadata": {
      "needs_background": "light"
     },
     "output_type": "display_data"
    }
   ],
   "source": [
    "sns.countplot (x = 'insured_sex', data = df, hue = 'fraud_reported')"
   ]
  },
  {
   "cell_type": "markdown",
   "id": "5ba44e92",
   "metadata": {},
   "source": [
    "Fraud reported is equally distributed as per gender in the dataset"
   ]
  },
  {
   "cell_type": "code",
   "execution_count": 44,
   "id": "8638e3b6",
   "metadata": {},
   "outputs": [
    {
     "data": {
      "text/plain": [
       "(array([0, 1, 2, 3, 4, 5, 6]),\n",
       " [Text(0, 0, 'MD'),\n",
       "  Text(1, 0, 'PhD'),\n",
       "  Text(2, 0, 'Associate'),\n",
       "  Text(3, 0, 'Masters'),\n",
       "  Text(4, 0, 'High School'),\n",
       "  Text(5, 0, 'College'),\n",
       "  Text(6, 0, 'JD')])"
      ]
     },
     "execution_count": 44,
     "metadata": {},
     "output_type": "execute_result"
    },
    {
     "data": {
      "image/png": "[encoded data removed]",
      "text/plain": [
       "<Figure size 432x288 with 1 Axes>"
      ]
     },
     "metadata": {
      "needs_background": "light"
     },
     "output_type": "display_data"
    }
   ],
   "source": [
    "sns.countplot (x = 'insured_education_level', data = df, hue = 'fraud_reported')\n",
    "plt.xticks(rotation = 90)"
   ]
  },
  {
   "cell_type": "markdown",
   "id": "f7fa0ade",
   "metadata": {},
   "source": [
    "Fraud reported w.r.t. education level is also equally distributed"
   ]
  },
  {
   "cell_type": "code",
   "execution_count": 45,
   "id": "da8144c2",
   "metadata": {},
   "outputs": [
    {
     "data": {
      "text/plain": [
       "(array([ 0,  1,  2,  3,  4,  5,  6,  7,  8,  9, 10, 11, 12, 13]),\n",
       " [Text(0, 0, 'craft-repair'),\n",
       "  Text(1, 0, 'machine-op-inspct'),\n",
       "  Text(2, 0, 'sales'),\n",
       "  Text(3, 0, 'armed-forces'),\n",
       "  Text(4, 0, 'tech-support'),\n",
       "  Text(5, 0, 'prof-specialty'),\n",
       "  Text(6, 0, 'other-service'),\n",
       "  Text(7, 0, 'priv-house-serv'),\n",
       "  Text(8, 0, 'exec-managerial'),\n",
       "  Text(9, 0, 'protective-serv'),\n",
       "  Text(10, 0, 'transport-moving'),\n",
       "  Text(11, 0, 'handlers-cleaners'),\n",
       "  Text(12, 0, 'adm-clerical'),\n",
       "  Text(13, 0, 'farming-fishing')])"
      ]
     },
     "execution_count": 45,
     "metadata": {},
     "output_type": "execute_result"
    },
    {
     "data": {
      "image/png": "[encoded data removed]",
      "text/plain": [
       "<Figure size 432x288 with 1 Axes>"
      ]
     },
     "metadata": {
      "needs_background": "light"
     },
     "output_type": "display_data"
    }
   ],
   "source": [
    "sns.countplot (x = 'insured_occupation', data = df, hue = 'fraud_reported')\n",
    "plt.xticks(rotation = 90)"
   ]
  },
  {
   "cell_type": "code",
   "execution_count": 46,
   "id": "466d3a70",
   "metadata": {},
   "outputs": [
    {
     "data": {
      "text/plain": [
       "(array([ 0,  1,  2,  3,  4,  5,  6,  7,  8,  9, 10, 11, 12, 13, 14, 15, 16,\n",
       "        17, 18, 19]),\n",
       " [Text(0, 0, 'sleeping'),\n",
       "  Text(1, 0, 'reading'),\n",
       "  Text(2, 0, 'board-games'),\n",
       "  Text(3, 0, 'bungie-jumping'),\n",
       "  Text(4, 0, 'base-jumping'),\n",
       "  Text(5, 0, 'golf'),\n",
       "  Text(6, 0, 'camping'),\n",
       "  Text(7, 0, 'dancing'),\n",
       "  Text(8, 0, 'skydiving'),\n",
       "  Text(9, 0, 'movies'),\n",
       "  Text(10, 0, 'hiking'),\n",
       "  Text(11, 0, 'yachting'),\n",
       "  Text(12, 0, 'paintball'),\n",
       "  Text(13, 0, 'chess'),\n",
       "  Text(14, 0, 'kayaking'),\n",
       "  Text(15, 0, 'polo'),\n",
       "  Text(16, 0, 'basketball'),\n",
       "  Text(17, 0, 'video-games'),\n",
       "  Text(18, 0, 'cross-fit'),\n",
       "  Text(19, 0, 'exercise')])"
      ]
     },
     "execution_count": 46,
     "metadata": {},
     "output_type": "execute_result"
    },
    {
     "data": {
      "image/png": "[encoded data removed]",
      "text/plain": [
       "<Figure size 432x288 with 1 Axes>"
      ]
     },
     "metadata": {
      "needs_background": "light"
     },
     "output_type": "display_data"
    }
   ],
   "source": [
    "sns.countplot (x = 'insured_hobbies', data = df, hue = 'fraud_reported')\n",
    "plt.xticks(rotation = 90)"
   ]
  },
  {
   "cell_type": "markdown",
   "id": "e47a6ee0",
   "metadata": {},
   "source": [
    "Customer having chess as hobbies are doing fraud most"
   ]
  },
  {
   "cell_type": "code",
   "execution_count": 47,
   "id": "533bfc1f",
   "metadata": {},
   "outputs": [
    {
     "data": {
      "text/plain": [
       "(array([0, 1, 2, 3]),\n",
       " [Text(0, 0, 'Single Vehicle Collision'),\n",
       "  Text(1, 0, 'Vehicle Theft'),\n",
       "  Text(2, 0, 'Multi-vehicle Collision'),\n",
       "  Text(3, 0, 'Parked Car')])"
      ]
     },
     "execution_count": 47,
     "metadata": {},
     "output_type": "execute_result"
    },
    {
     "data": {
      "image/png": "[encoded data removed]",
      "text/plain": [
       "<Figure size 432x288 with 1 Axes>"
      ]
     },
     "metadata": {
      "needs_background": "light"
     },
     "output_type": "display_data"
    }
   ],
   "source": [
    "sns.countplot (x = 'incident_type', data = df, hue = 'fraud_reported')\n",
    "plt.xticks(rotation = 90) "
   ]
  },
  {
   "cell_type": "markdown",
   "id": "9bc0c190",
   "metadata": {},
   "source": [
    "Frauds are high where incidents are Single Vehicle & Multi vehicle collision"
   ]
  },
  {
   "cell_type": "code",
   "execution_count": 49,
   "id": "f7fe698c",
   "metadata": {},
   "outputs": [
    {
     "data": {
      "text/plain": [
       "<AxesSubplot:xlabel='collision_type', ylabel='count'>"
      ]
     },
     "execution_count": 49,
     "metadata": {},
     "output_type": "execute_result"
    },
    {
     "data": {
      "image/png": "[encoded data removed]",
      "text/plain": [
       "<Figure size 432x288 with 1 Axes>"
      ]
     },
     "metadata": {
      "needs_background": "light"
     },
     "output_type": "display_data"
    }
   ],
   "source": [
    "sns.countplot (x = 'collision_type', data = df, hue = 'fraud_reported')"
   ]
  },
  {
   "cell_type": "code",
   "execution_count": 50,
   "id": "460d652f",
   "metadata": {},
   "outputs": [
    {
     "data": {
      "text/plain": [
       "<AxesSubplot:xlabel='incident_severity', ylabel='count'>"
      ]
     },
     "execution_count": 50,
     "metadata": {},
     "output_type": "execute_result"
    },
    {
     "data": {
      "image/png": "[encoded data removed]",
      "text/plain": [
       "<Figure size 432x288 with 1 Axes>"
      ]
     },
     "metadata": {
      "needs_background": "light"
     },
     "output_type": "display_data"
    }
   ],
   "source": [
    "sns.countplot (x = 'incident_severity', data = df, hue = 'fraud_reported')"
   ]
  },
  {
   "cell_type": "markdown",
   "id": "3715f0f1",
   "metadata": {},
   "source": [
    "Frauds are high where severity are Major Damage"
   ]
  },
  {
   "cell_type": "code",
   "execution_count": 51,
   "id": "e261e7bd",
   "metadata": {},
   "outputs": [
    {
     "data": {
      "text/plain": [
       "<AxesSubplot:xlabel='authorities_contacted', ylabel='count'>"
      ]
     },
     "execution_count": 51,
     "metadata": {},
     "output_type": "execute_result"
    },
    {
     "data": {
      "image/png": "[encoded data removed]",
      "text/plain": [
       "<Figure size 432x288 with 1 Axes>"
      ]
     },
     "metadata": {
      "needs_background": "light"
     },
     "output_type": "display_data"
    }
   ],
   "source": [
    "sns.countplot (x = 'authorities_contacted', data = df, hue = 'fraud_reported')"
   ]
  },
  {
   "cell_type": "code",
   "execution_count": 52,
   "id": "2a97d287",
   "metadata": {},
   "outputs": [
    {
     "data": {
      "text/plain": [
       "<AxesSubplot:xlabel='incident_state', ylabel='count'>"
      ]
     },
     "execution_count": 52,
     "metadata": {},
     "output_type": "execute_result"
    },
    {
     "data": {
      "image/png": "[encoded data removed]",
      "text/plain": [
       "<Figure size 432x288 with 1 Axes>"
      ]
     },
     "metadata": {
      "needs_background": "light"
     },
     "output_type": "display_data"
    }
   ],
   "source": [
    "sns.countplot (x = 'incident_state', data = df, hue = 'fraud_reported')"
   ]
  },
  {
   "cell_type": "markdown",
   "id": "d53fd217",
   "metadata": {},
   "source": [
    "Frauds are high in state SC"
   ]
  },
  {
   "cell_type": "code",
   "execution_count": 54,
   "id": "c680ea2c",
   "metadata": {},
   "outputs": [
    {
     "data": {
      "text/plain": [
       "(array([0, 1, 2, 3, 4, 5, 6]),\n",
       " [Text(0, 0, 'Columbus'),\n",
       "  Text(1, 0, 'Riverwood'),\n",
       "  Text(2, 0, 'Arlington'),\n",
       "  Text(3, 0, 'Springfield'),\n",
       "  Text(4, 0, 'Hillsdale'),\n",
       "  Text(5, 0, 'Northbend'),\n",
       "  Text(6, 0, 'Northbrook')])"
      ]
     },
     "execution_count": 54,
     "metadata": {},
     "output_type": "execute_result"
    },
    {
     "data": {
      "image/png": "[encoded data removed]",
      "text/plain": [
       "<Figure size 432x288 with 1 Axes>"
      ]
     },
     "metadata": {
      "needs_background": "light"
     },
     "output_type": "display_data"
    }
   ],
   "source": [
    "sns.countplot (x = 'incident_city', data = df, hue = 'fraud_reported')\n",
    "plt.xticks(rotation = 90)"
   ]
  },
  {
   "cell_type": "code",
   "execution_count": 55,
   "id": "2f76f6f3",
   "metadata": {},
   "outputs": [
    {
     "data": {
      "text/plain": [
       "<AxesSubplot:xlabel='property_damage', ylabel='count'>"
      ]
     },
     "execution_count": 55,
     "metadata": {},
     "output_type": "execute_result"
    },
    {
     "data": {
      "image/png": "[encoded data removed]",
      "text/plain": [
       "<Figure size 432x288 with 1 Axes>"
      ]
     },
     "metadata": {
      "needs_background": "light"
     },
     "output_type": "display_data"
    }
   ],
   "source": [
    "sns.countplot (x = 'property_damage', data = df, hue = 'fraud_reported')"
   ]
  },
  {
   "cell_type": "markdown",
   "id": "d6d7ef30",
   "metadata": {},
   "source": [
    "Fraud claims are high when property is not damaged"
   ]
  },
  {
   "cell_type": "code",
   "execution_count": 56,
   "id": "d2cf273a",
   "metadata": {
    "scrolled": true
   },
   "outputs": [
    {
     "data": {
      "text/plain": [
       "<AxesSubplot:xlabel='bodily_injuries', ylabel='count'>"
      ]
     },
     "execution_count": 56,
     "metadata": {},
     "output_type": "execute_result"
    },
    {
     "data": {
      "image/png": "[encoded data removed]",
      "text/plain": [
       "<Figure size 432x288 with 1 Axes>"
      ]
     },
     "metadata": {
      "needs_background": "light"
     },
     "output_type": "display_data"
    }
   ],
   "source": [
    "sns.countplot (x = 'bodily_injuries', data = df, hue = 'fraud_reported')"
   ]
  },
  {
   "cell_type": "code",
   "execution_count": 57,
   "id": "e0e95418",
   "metadata": {},
   "outputs": [
    {
     "data": {
      "text/plain": [
       "<AxesSubplot:xlabel='witnesses', ylabel='count'>"
      ]
     },
     "execution_count": 57,
     "metadata": {},
     "output_type": "execute_result"
    },
    {
     "data": {
      "image/png": "[encoded data removed]",
      "text/plain": [
       "<Figure size 432x288 with 1 Axes>"
      ]
     },
     "metadata": {
      "needs_background": "light"
     },
     "output_type": "display_data"
    }
   ],
   "source": [
    "sns.countplot (x = 'witnesses', data = df, hue = 'fraud_reported')"
   ]
  },
  {
   "cell_type": "code",
   "execution_count": 58,
   "id": "9a1a8cc7",
   "metadata": {},
   "outputs": [
    {
     "data": {
      "text/plain": [
       "<AxesSubplot:xlabel='police_report_available', ylabel='count'>"
      ]
     },
     "execution_count": 58,
     "metadata": {},
     "output_type": "execute_result"
    },
    {
     "data": {
      "image/png": "[encoded data removed]",
      "text/plain": [
       "<Figure size 432x288 with 1 Axes>"
      ]
     },
     "metadata": {
      "needs_background": "light"
     },
     "output_type": "display_data"
    }
   ],
   "source": [
    "sns.countplot (x = 'police_report_available', data = df, hue = 'fraud_reported')"
   ]
  },
  {
   "cell_type": "markdown",
   "id": "0cd42f7f",
   "metadata": {},
   "source": [
    "Fraud reported are high when there is no Police Report available"
   ]
  },
  {
   "cell_type": "code",
   "execution_count": 62,
   "id": "a3db50d7",
   "metadata": {},
   "outputs": [
    {
     "data": {
      "text/plain": [
       "(array([ 0,  1,  2,  3,  4,  5,  6,  7,  8,  9, 10, 11, 12, 13]),\n",
       " [Text(0, 0, 'Saab'),\n",
       "  Text(1, 0, 'Mercedes'),\n",
       "  Text(2, 0, 'Dodge'),\n",
       "  Text(3, 0, 'Chevrolet'),\n",
       "  Text(4, 0, 'Accura'),\n",
       "  Text(5, 0, 'Nissan'),\n",
       "  Text(6, 0, 'Audi'),\n",
       "  Text(7, 0, 'Toyota'),\n",
       "  Text(8, 0, 'Ford'),\n",
       "  Text(9, 0, 'Suburu'),\n",
       "  Text(10, 0, 'BMW'),\n",
       "  Text(11, 0, 'Jeep'),\n",
       "  Text(12, 0, 'Honda'),\n",
       "  Text(13, 0, 'Volkswagen')])"
      ]
     },
     "execution_count": 62,
     "metadata": {},
     "output_type": "execute_result"
    },
    {
     "data": {
      "image/png": "[encoded data removed]",
      "text/plain": [
       "<Figure size 432x288 with 1 Axes>"
      ]
     },
     "metadata": {
      "needs_background": "light"
     },
     "output_type": "display_data"
    }
   ],
   "source": [
    "sns.countplot (x = 'auto_make', data = df, hue = 'fraud_reported')\n",
    "plt.xticks(rotation = 90)"
   ]
  },
  {
   "cell_type": "code",
   "execution_count": 8,
   "id": "97d8a29b",
   "metadata": {},
   "outputs": [],
   "source": [
    "df['incident_date'] = pd.to_datetime(df['incident_date'], errors = 'coerce')\n",
    "\n",
    "df['incident_month'] = df['incident_date'].dt.month\n",
    "df['incident_day'] = df['incident_date'].dt.day\n",
    "\n",
    "df = df.drop(['policy_number','policy_bind_date', 'incident_date','incident_location','auto_model'], axis = 1)"
   ]
  },
  {
   "cell_type": "code",
   "execution_count": 9,
   "id": "2d832f02",
   "metadata": {},
   "outputs": [
    {
     "data": {
      "text/html": [
       "<div>\n",
       "<style scoped>\n",
       "    .dataframe tbody tr th:only-of-type {\n",
       "        vertical-align: middle;\n",
       "    }\n",
       "\n",
       "    .dataframe tbody tr th {\n",
       "        vertical-align: top;\n",
       "    }\n",
       "\n",
       "    .dataframe thead th {\n",
       "        text-align: right;\n",
       "    }\n",
       "</style>\n",
       "<table border=\"1\" class=\"dataframe\">\n",
       "  <thead>\n",
       "    <tr style=\"text-align: right;\">\n",
       "      <th></th>\n",
       "      <th>months_as_customer</th>\n",
       "      <th>age</th>\n",
       "      <th>policy_state</th>\n",
       "      <th>policy_csl</th>\n",
       "      <th>policy_deductable</th>\n",
       "      <th>policy_annual_premium</th>\n",
       "      <th>umbrella_limit</th>\n",
       "      <th>insured_zip</th>\n",
       "      <th>insured_sex</th>\n",
       "      <th>insured_education_level</th>\n",
       "      <th>insured_occupation</th>\n",
       "      <th>insured_hobbies</th>\n",
       "      <th>insured_relationship</th>\n",
       "      <th>capital-gains</th>\n",
       "      <th>capital-loss</th>\n",
       "      <th>incident_type</th>\n",
       "      <th>collision_type</th>\n",
       "      <th>incident_severity</th>\n",
       "      <th>authorities_contacted</th>\n",
       "      <th>incident_state</th>\n",
       "      <th>incident_city</th>\n",
       "      <th>incident_hour_of_the_day</th>\n",
       "      <th>number_of_vehicles_involved</th>\n",
       "      <th>property_damage</th>\n",
       "      <th>bodily_injuries</th>\n",
       "      <th>witnesses</th>\n",
       "      <th>police_report_available</th>\n",
       "      <th>total_claim_amount</th>\n",
       "      <th>injury_claim</th>\n",
       "      <th>property_claim</th>\n",
       "      <th>vehicle_claim</th>\n",
       "      <th>auto_make</th>\n",
       "      <th>auto_year</th>\n",
       "      <th>fraud_reported</th>\n",
       "      <th>incident_month</th>\n",
       "      <th>incident_day</th>\n",
       "    </tr>\n",
       "  </thead>\n",
       "  <tbody>\n",
       "    <tr>\n",
       "      <th>0</th>\n",
       "      <td>328</td>\n",
       "      <td>48</td>\n",
       "      <td>2</td>\n",
       "      <td>1</td>\n",
       "      <td>1000</td>\n",
       "      <td>1406.91</td>\n",
       "      <td>0</td>\n",
       "      <td>466132</td>\n",
       "      <td>1</td>\n",
       "      <td>4</td>\n",
       "      <td>2</td>\n",
       "      <td>17</td>\n",
       "      <td>0</td>\n",
       "      <td>53300</td>\n",
       "      <td>0</td>\n",
       "      <td>2</td>\n",
       "      <td>2</td>\n",
       "      <td>0</td>\n",
       "      <td>4</td>\n",
       "      <td>4</td>\n",
       "      <td>1</td>\n",
       "      <td>5</td>\n",
       "      <td>1</td>\n",
       "      <td>1</td>\n",
       "      <td>1</td>\n",
       "      <td>2</td>\n",
       "      <td>1</td>\n",
       "      <td>71610</td>\n",
       "      <td>6510</td>\n",
       "      <td>13020</td>\n",
       "      <td>52080</td>\n",
       "      <td>10</td>\n",
       "      <td>2004</td>\n",
       "      <td>1</td>\n",
       "      <td>1</td>\n",
       "      <td>25</td>\n",
       "    </tr>\n",
       "    <tr>\n",
       "      <th>1</th>\n",
       "      <td>228</td>\n",
       "      <td>42</td>\n",
       "      <td>1</td>\n",
       "      <td>1</td>\n",
       "      <td>2000</td>\n",
       "      <td>1197.22</td>\n",
       "      <td>5000000</td>\n",
       "      <td>468176</td>\n",
       "      <td>1</td>\n",
       "      <td>4</td>\n",
       "      <td>6</td>\n",
       "      <td>15</td>\n",
       "      <td>2</td>\n",
       "      <td>0</td>\n",
       "      <td>0</td>\n",
       "      <td>3</td>\n",
       "      <td>1</td>\n",
       "      <td>1</td>\n",
       "      <td>4</td>\n",
       "      <td>5</td>\n",
       "      <td>5</td>\n",
       "      <td>8</td>\n",
       "      <td>1</td>\n",
       "      <td>0</td>\n",
       "      <td>0</td>\n",
       "      <td>0</td>\n",
       "      <td>0</td>\n",
       "      <td>5070</td>\n",
       "      <td>780</td>\n",
       "      <td>780</td>\n",
       "      <td>3510</td>\n",
       "      <td>8</td>\n",
       "      <td>2007</td>\n",
       "      <td>1</td>\n",
       "      <td>1</td>\n",
       "      <td>21</td>\n",
       "    </tr>\n",
       "    <tr>\n",
       "      <th>2</th>\n",
       "      <td>134</td>\n",
       "      <td>29</td>\n",
       "      <td>2</td>\n",
       "      <td>0</td>\n",
       "      <td>2000</td>\n",
       "      <td>1413.14</td>\n",
       "      <td>5000000</td>\n",
       "      <td>430632</td>\n",
       "      <td>0</td>\n",
       "      <td>6</td>\n",
       "      <td>11</td>\n",
       "      <td>2</td>\n",
       "      <td>3</td>\n",
       "      <td>35100</td>\n",
       "      <td>0</td>\n",
       "      <td>0</td>\n",
       "      <td>1</td>\n",
       "      <td>1</td>\n",
       "      <td>4</td>\n",
       "      <td>1</td>\n",
       "      <td>1</td>\n",
       "      <td>7</td>\n",
       "      <td>3</td>\n",
       "      <td>0</td>\n",
       "      <td>2</td>\n",
       "      <td>3</td>\n",
       "      <td>0</td>\n",
       "      <td>34650</td>\n",
       "      <td>7700</td>\n",
       "      <td>3850</td>\n",
       "      <td>23100</td>\n",
       "      <td>4</td>\n",
       "      <td>2007</td>\n",
       "      <td>0</td>\n",
       "      <td>2</td>\n",
       "      <td>22</td>\n",
       "    </tr>\n",
       "    <tr>\n",
       "      <th>3</th>\n",
       "      <td>256</td>\n",
       "      <td>41</td>\n",
       "      <td>0</td>\n",
       "      <td>1</td>\n",
       "      <td>2000</td>\n",
       "      <td>1415.74</td>\n",
       "      <td>6000000</td>\n",
       "      <td>608117</td>\n",
       "      <td>0</td>\n",
       "      <td>6</td>\n",
       "      <td>1</td>\n",
       "      <td>2</td>\n",
       "      <td>4</td>\n",
       "      <td>48900</td>\n",
       "      <td>-62400</td>\n",
       "      <td>2</td>\n",
       "      <td>0</td>\n",
       "      <td>0</td>\n",
       "      <td>4</td>\n",
       "      <td>2</td>\n",
       "      <td>0</td>\n",
       "      <td>5</td>\n",
       "      <td>1</td>\n",
       "      <td>0</td>\n",
       "      <td>1</td>\n",
       "      <td>2</td>\n",
       "      <td>0</td>\n",
       "      <td>63400</td>\n",
       "      <td>6340</td>\n",
       "      <td>6340</td>\n",
       "      <td>50720</td>\n",
       "      <td>3</td>\n",
       "      <td>2014</td>\n",
       "      <td>1</td>\n",
       "      <td>10</td>\n",
       "      <td>1</td>\n",
       "    </tr>\n",
       "    <tr>\n",
       "      <th>4</th>\n",
       "      <td>228</td>\n",
       "      <td>44</td>\n",
       "      <td>0</td>\n",
       "      <td>2</td>\n",
       "      <td>1000</td>\n",
       "      <td>1583.91</td>\n",
       "      <td>6000000</td>\n",
       "      <td>610706</td>\n",
       "      <td>1</td>\n",
       "      <td>0</td>\n",
       "      <td>11</td>\n",
       "      <td>2</td>\n",
       "      <td>4</td>\n",
       "      <td>66000</td>\n",
       "      <td>-46000</td>\n",
       "      <td>3</td>\n",
       "      <td>1</td>\n",
       "      <td>1</td>\n",
       "      <td>2</td>\n",
       "      <td>1</td>\n",
       "      <td>0</td>\n",
       "      <td>20</td>\n",
       "      <td>1</td>\n",
       "      <td>0</td>\n",
       "      <td>0</td>\n",
       "      <td>1</td>\n",
       "      <td>0</td>\n",
       "      <td>6500</td>\n",
       "      <td>1300</td>\n",
       "      <td>650</td>\n",
       "      <td>4550</td>\n",
       "      <td>0</td>\n",
       "      <td>2009</td>\n",
       "      <td>0</td>\n",
       "      <td>2</td>\n",
       "      <td>17</td>\n",
       "    </tr>\n",
       "  </tbody>\n",
       "</table>\n",
       "</div>"
      ],
      "text/plain": [
       "   months_as_customer  age  policy_state  policy_csl  policy_deductable  \\\n",
       "0                 328   48             2           1               1000   \n",
       "1                 228   42             1           1               2000   \n",
       "2                 134   29             2           0               2000   \n",
       "3                 256   41             0           1               2000   \n",
       "4                 228   44             0           2               1000   \n",
       "\n",
       "   policy_annual_premium  umbrella_limit  insured_zip  insured_sex  \\\n",
       "0                1406.91               0       466132            1   \n",
       "1                1197.22         5000000       468176            1   \n",
       "2                1413.14         5000000       430632            0   \n",
       "3                1415.74         6000000       608117            0   \n",
       "4                1583.91         6000000       610706            1   \n",
       "\n",
       "   insured_education_level  insured_occupation  insured_hobbies  \\\n",
       "0                        4                   2               17   \n",
       "1                        4                   6               15   \n",
       "2                        6                  11                2   \n",
       "3                        6                   1                2   \n",
       "4                        0                  11                2   \n",
       "\n",
       "   insured_relationship  capital-gains  capital-loss  incident_type  \\\n",
       "0                     0          53300             0              2   \n",
       "1                     2              0             0              3   \n",
       "2                     3          35100             0              0   \n",
       "3                     4          48900        -62400              2   \n",
       "4                     4          66000        -46000              3   \n",
       "\n",
       "   collision_type  incident_severity  authorities_contacted  incident_state  \\\n",
       "0               2                  0                      4               4   \n",
       "1               1                  1                      4               5   \n",
       "2               1                  1                      4               1   \n",
       "3               0                  0                      4               2   \n",
       "4               1                  1                      2               1   \n",
       "\n",
       "   incident_city  incident_hour_of_the_day  number_of_vehicles_involved  \\\n",
       "0              1                         5                            1   \n",
       "1              5                         8                            1   \n",
       "2              1                         7                            3   \n",
       "3              0                         5                            1   \n",
       "4              0                        20                            1   \n",
       "\n",
       "   property_damage  bodily_injuries  witnesses  police_report_available  \\\n",
       "0                1                1          2                        1   \n",
       "1                0                0          0                        0   \n",
       "2                0                2          3                        0   \n",
       "3                0                1          2                        0   \n",
       "4                0                0          1                        0   \n",
       "\n",
       "   total_claim_amount  injury_claim  property_claim  vehicle_claim  auto_make  \\\n",
       "0               71610          6510           13020          52080         10   \n",
       "1                5070           780             780           3510          8   \n",
       "2               34650          7700            3850          23100          4   \n",
       "3               63400          6340            6340          50720          3   \n",
       "4                6500          1300             650           4550          0   \n",
       "\n",
       "   auto_year  fraud_reported  incident_month  incident_day  \n",
       "0       2004               1               1            25  \n",
       "1       2007               1               1            21  \n",
       "2       2007               0               2            22  \n",
       "3       2014               1              10             1  \n",
       "4       2009               0               2            17  "
      ]
     },
     "execution_count": 9,
     "metadata": {},
     "output_type": "execute_result"
    }
   ],
   "source": [
    "from sklearn.preprocessing import LabelEncoder\n",
    "\n",
    "le = LabelEncoder()\n",
    "\n",
    "df['policy_state'] = le.fit_transform( df['policy_state'] )\n",
    "df['policy_csl'] = le.fit_transform( df['policy_csl'] )\n",
    "df['insured_sex'] = le.fit_transform( df['insured_sex'] )\n",
    "df['insured_education_level'] = le.fit_transform( df['insured_education_level'] )\n",
    "df['insured_occupation'] = le.fit_transform( df['insured_occupation'] )\n",
    "df['insured_hobbies'] = le.fit_transform( df['insured_hobbies'] )\n",
    "df['insured_relationship'] = le.fit_transform( df['insured_relationship'] )\n",
    "df['incident_type'] = le.fit_transform( df['incident_type'] )\n",
    "df['collision_type'] = le.fit_transform( df['collision_type'] )\n",
    "df['incident_severity'] = le.fit_transform( df['incident_severity'] )\n",
    "df['authorities_contacted'] = le.fit_transform( df['authorities_contacted'] )\n",
    "df['incident_state'] = le.fit_transform( df['incident_state'] )\n",
    "df['incident_city'] = le.fit_transform( df['incident_city'] )\n",
    "df['property_damage'] = le.fit_transform( df['property_damage'] )\n",
    "df['police_report_available'] = le.fit_transform( df['police_report_available'] )\n",
    "df['auto_make'] = le.fit_transform( df['auto_make'] )\n",
    "df['fraud_reported'] = le.fit_transform( df['fraud_reported'] )\n",
    "\n",
    "df.head()"
   ]
  },
  {
   "cell_type": "code",
   "execution_count": 14,
   "id": "84363900",
   "metadata": {},
   "outputs": [
    {
     "name": "stdout",
     "output_type": "stream",
     "text": [
      "<class 'pandas.core.frame.DataFrame'>\n",
      "RangeIndex: 1000 entries, 0 to 999\n",
      "Data columns (total 36 columns):\n",
      " #   Column                       Non-Null Count  Dtype  \n",
      "---  ------                       --------------  -----  \n",
      " 0   months_as_customer           1000 non-null   int64  \n",
      " 1   age                          1000 non-null   int64  \n",
      " 2   policy_state                 1000 non-null   int32  \n",
      " 3   policy_csl                   1000 non-null   int32  \n",
      " 4   policy_deductable            1000 non-null   int64  \n",
      " 5   policy_annual_premium        1000 non-null   float64\n",
      " 6   umbrella_limit               1000 non-null   int64  \n",
      " 7   insured_zip                  1000 non-null   int64  \n",
      " 8   insured_sex                  1000 non-null   int32  \n",
      " 9   insured_education_level      1000 non-null   int32  \n",
      " 10  insured_occupation           1000 non-null   int32  \n",
      " 11  insured_hobbies              1000 non-null   int32  \n",
      " 12  insured_relationship         1000 non-null   int32  \n",
      " 13  capital-gains                1000 non-null   int64  \n",
      " 14  capital-loss                 1000 non-null   int64  \n",
      " 15  incident_type                1000 non-null   int32  \n",
      " 16  collision_type               1000 non-null   int32  \n",
      " 17  incident_severity            1000 non-null   int32  \n",
      " 18  authorities_contacted        1000 non-null   int32  \n",
      " 19  incident_state               1000 non-null   int32  \n",
      " 20  incident_city                1000 non-null   int32  \n",
      " 21  incident_hour_of_the_day     1000 non-null   int64  \n",
      " 22  number_of_vehicles_involved  1000 non-null   int64  \n",
      " 23  property_damage              1000 non-null   int32  \n",
      " 24  bodily_injuries              1000 non-null   int64  \n",
      " 25  witnesses                    1000 non-null   int64  \n",
      " 26  police_report_available      1000 non-null   int32  \n",
      " 27  total_claim_amount           1000 non-null   int64  \n",
      " 28  injury_claim                 1000 non-null   int64  \n",
      " 29  property_claim               1000 non-null   int64  \n",
      " 30  vehicle_claim                1000 non-null   int64  \n",
      " 31  auto_make                    1000 non-null   int32  \n",
      " 32  auto_year                    1000 non-null   int64  \n",
      " 33  fraud_reported               1000 non-null   int32  \n",
      " 34  incident_month               1000 non-null   int64  \n",
      " 35  incident_day                 1000 non-null   int64  \n",
      "dtypes: float64(1), int32(17), int64(18)\n",
      "memory usage: 215.0 KB\n"
     ]
    }
   ],
   "source": [
    "df.info()"
   ]
  },
  {
   "cell_type": "markdown",
   "id": "2c028e15",
   "metadata": {},
   "source": [
    "# Model Selection"
   ]
  },
  {
   "cell_type": "code",
   "execution_count": 10,
   "id": "f326d484",
   "metadata": {},
   "outputs": [],
   "source": [
    "x = df.drop(['fraud_reported'], axis = 1)\n",
    "y = df['fraud_reported']"
   ]
  },
  {
   "cell_type": "code",
   "execution_count": 11,
   "id": "c51038d5",
   "metadata": {},
   "outputs": [],
   "source": [
    "from sklearn.model_selection import train_test_split\n",
    "\n",
    "x_train, x_test, y_train, y_test = train_test_split( x, y, test_size = 0.2, random_state = 42)"
   ]
  },
  {
   "cell_type": "markdown",
   "id": "5b409694",
   "metadata": {},
   "source": [
    "# 1. LogisiticRegression"
   ]
  },
  {
   "cell_type": "code",
   "execution_count": 12,
   "id": "f7020136",
   "metadata": {},
   "outputs": [
    {
     "name": "stdout",
     "output_type": "stream",
     "text": [
      "Classification Report with LogisticRegression : \n",
      "               precision    recall  f1-score   support\n",
      "\n",
      "           0       0.72      1.00      0.84       145\n",
      "           1       0.00      0.00      0.00        55\n",
      "\n",
      "    accuracy                           0.73       200\n",
      "   macro avg       0.36      0.50      0.42       200\n",
      "weighted avg       0.53      0.72      0.61       200\n",
      "\n",
      "Accuracy with LogisticRegression :  0.725 \n",
      "\n",
      "Confusion Matrix with LogisticRegression :  \n",
      " [[145  55]\n",
      " [  0   0]] \n",
      "\n"
     ]
    }
   ],
   "source": [
    "from sklearn.linear_model import LogisticRegression\n",
    "from sklearn.metrics import classification_report, confusion_matrix, accuracy_score, roc_auc_score\n",
    "\n",
    "logreg = LogisticRegression()\n",
    "\n",
    "logreg.fit( x_train, y_train )\n",
    "logreg_predict = logreg.predict (x_test)\n",
    "\n",
    "print('Classification Report with LogisticRegression :', \"\\n\",  classification_report(y_test,logreg_predict))\n",
    "print('Accuracy with LogisticRegression : ', accuracy_score(logreg_predict,y_test) , \"\\n\")\n",
    "print('Confusion Matrix with LogisticRegression : ', \"\\n\", confusion_matrix(logreg_predict,y_test), \"\\n\")"
   ]
  },
  {
   "cell_type": "markdown",
   "id": "a305e6bc",
   "metadata": {},
   "source": [
    "# 2. RandomForestClassifier"
   ]
  },
  {
   "cell_type": "code",
   "execution_count": 13,
   "id": "c316c87c",
   "metadata": {},
   "outputs": [
    {
     "name": "stdout",
     "output_type": "stream",
     "text": [
      "Classification Report with RandomForestClassifier : \n",
      "               precision    recall  f1-score   support\n",
      "\n",
      "           0       0.78      0.92      0.85       145\n",
      "           1       0.62      0.33      0.43        55\n",
      "\n",
      "    accuracy                           0.76       200\n",
      "   macro avg       0.70      0.63      0.64       200\n",
      "weighted avg       0.74      0.76      0.73       200\n",
      "\n",
      "Accuracy with RandomForestClassifier :  0.76 \n",
      "\n",
      "Confusion Matrix with RandomForestClassifier :  \n",
      " [[134  37]\n",
      " [ 11  18]] \n",
      "\n",
      "roc_auc_score with RandomForestClassifier:  0.7021576930832829\n"
     ]
    }
   ],
   "source": [
    "from sklearn.ensemble import RandomForestClassifier\n",
    "\n",
    "rfc = RandomForestClassifier( max_depth = 16, min_samples_leaf = 1, min_samples_split = 2,\n",
    "                             n_estimators = 100, random_state = 12345)\n",
    "\n",
    "rfc.fit( x_train, y_train )\n",
    "rfc_pred = rfc.predict(x_test)\n",
    "\n",
    "print('Classification Report with RandomForestClassifier :', \"\\n\",  classification_report(y_test,rfc_pred))\n",
    "print('Accuracy with RandomForestClassifier : ', accuracy_score(rfc_pred,y_test) , \"\\n\")\n",
    "print('Confusion Matrix with RandomForestClassifier : ', \"\\n\", confusion_matrix(rfc_pred,y_test), \"\\n\")\n",
    "print('roc_auc_score with RandomForestClassifier: ', roc_auc_score(rfc_pred,y_test))"
   ]
  },
  {
   "cell_type": "markdown",
   "id": "faee8102",
   "metadata": {},
   "source": [
    "# 3. DecisionTreeClassifier"
   ]
  },
  {
   "cell_type": "code",
   "execution_count": 14,
   "id": "01c47846",
   "metadata": {},
   "outputs": [
    {
     "name": "stdout",
     "output_type": "stream",
     "text": [
      "Classification Report with DecisionTreeClassifier : \n",
      "               precision    recall  f1-score   support\n",
      "\n",
      "           0       0.90      0.89      0.90       145\n",
      "           1       0.72      0.75      0.73        55\n",
      "\n",
      "    accuracy                           0.85       200\n",
      "   macro avg       0.81      0.82      0.81       200\n",
      "weighted avg       0.85      0.85      0.85       200\n",
      "\n",
      "Accuracy with DecisionTreeClassifier :  0.85 \n",
      "\n",
      "Confusion Matrix with DecisionTreeClassifier :  \n",
      " [[129  14]\n",
      " [ 16  41]] \n",
      "\n",
      "roc_auc_score with DecisionTreeClassifier:  0.8106980738559686\n"
     ]
    }
   ],
   "source": [
    "from sklearn.tree import DecisionTreeClassifier\n",
    "\n",
    "dtc = DecisionTreeClassifier( max_depth=3, min_samples_leaf = 35 )\n",
    "dtc.fit(x_train,y_train)\n",
    "dtc_pred = dtc.predict(x_test)\n",
    "\n",
    "print('Classification Report with DecisionTreeClassifier :', \"\\n\",  classification_report(y_test,dtc_pred))\n",
    "print('Accuracy with DecisionTreeClassifier : ', accuracy_score(dtc_pred,y_test) , \"\\n\")\n",
    "print('Confusion Matrix with DecisionTreeClassifier : ', \"\\n\", confusion_matrix(dtc_pred,y_test), \"\\n\")\n",
    "print('roc_auc_score with DecisionTreeClassifier: ', roc_auc_score(dtc_pred,y_test))"
   ]
  },
  {
   "cell_type": "markdown",
   "id": "052c7bb5",
   "metadata": {},
   "source": [
    "# 4. XGBClassifier"
   ]
  },
  {
   "cell_type": "code",
   "execution_count": 15,
   "id": "36afd431",
   "metadata": {},
   "outputs": [
    {
     "name": "stdout",
     "output_type": "stream",
     "text": [
      "[14:53:25] WARNING: C:/Users/Administrator/workspace/xgboost-win64_release_1.5.1/src/learner.cc:1115: Starting in XGBoost 1.3.0, the default evaluation metric used with the objective 'binary:logistic' was changed from 'error' to 'logloss'. Explicitly set eval_metric if you'd like to restore the old behavior.\n",
      "Classification Report with XGBClassifier : \n",
      "               precision    recall  f1-score   support\n",
      "\n",
      "           0       0.86      0.86      0.86       145\n",
      "           1       0.64      0.64      0.64        55\n",
      "\n",
      "    accuracy                           0.80       200\n",
      "   macro avg       0.75      0.75      0.75       200\n",
      "weighted avg       0.80      0.80      0.80       200\n",
      "\n",
      "Accuracy with XGBClassifier :  0.8 \n",
      "\n",
      "Confusion Matrix with XGBClassifier :  \n",
      " [[125  20]\n",
      " [ 20  35]] \n",
      "\n",
      "roc_auc_score with XGBClassifier:  0.7492163009404388\n"
     ]
    }
   ],
   "source": [
    "from xgboost import XGBClassifier\n",
    "\n",
    "xgb = XGBClassifier( n_estimators = 500, max_depth = 16)\n",
    "\n",
    "xgb.fit(x_train, y_train)\n",
    "xgb_pred = xgb.predict(x_test)\n",
    "\n",
    "print('Classification Report with XGBClassifier :', \"\\n\",  classification_report(y_test,xgb_pred))\n",
    "print('Accuracy with XGBClassifier : ', accuracy_score(xgb_pred,y_test) , \"\\n\")\n",
    "print('Confusion Matrix with XGBClassifier : ', \"\\n\", confusion_matrix(xgb_pred,y_test), \"\\n\")\n",
    "print('roc_auc_score with XGBClassifier: ', roc_auc_score(xgb_pred,y_test))"
   ]
  },
  {
   "cell_type": "markdown",
   "id": "a159c56e",
   "metadata": {},
   "source": [
    "# 5. AdaBoostClassifier"
   ]
  },
  {
   "cell_type": "code",
   "execution_count": 16,
   "id": "8484d133",
   "metadata": {},
   "outputs": [
    {
     "name": "stdout",
     "output_type": "stream",
     "text": [
      "Classification Report with AdaBoostClassifier : \n",
      "               precision    recall  f1-score   support\n",
      "\n",
      "           0       0.79      0.88      0.83       145\n",
      "           1       0.55      0.38      0.45        55\n",
      "\n",
      "    accuracy                           0.74       200\n",
      "   macro avg       0.67      0.63      0.64       200\n",
      "weighted avg       0.72      0.74      0.73       200\n",
      "\n",
      "Accuracy with AdaBoostClassifier :  0.745 \n",
      "\n",
      "Confusion Matrix with AdaBoostClassifier :  \n",
      " [[128  34]\n",
      " [ 17  21]] \n",
      "\n",
      "roc_auc_score with AdaBoostClassifier:  0.671377517868746\n"
     ]
    }
   ],
   "source": [
    "from sklearn.ensemble import AdaBoostClassifier\n",
    "\n",
    "adaboost = AdaBoostClassifier()\n",
    "adaboost.fit(x_train,y_train)\n",
    "\n",
    "adaboost_pred = adaboost.predict(x_test)\n",
    "\n",
    "print('Classification Report with AdaBoostClassifier :', \"\\n\",  classification_report(y_test,adaboost_pred))\n",
    "print('Accuracy with AdaBoostClassifier : ', accuracy_score(adaboost_pred,y_test) , \"\\n\")\n",
    "print('Confusion Matrix with AdaBoostClassifier : ', \"\\n\", confusion_matrix(adaboost_pred,y_test), \"\\n\")\n",
    "print('roc_auc_score with AdaBoostClassifier: ', roc_auc_score(adaboost_pred,y_test))"
   ]
  },
  {
   "cell_type": "markdown",
   "id": "cc66dd8a",
   "metadata": {},
   "source": [
    "# Saving the model"
   ]
  },
  {
   "cell_type": "code",
   "execution_count": 17,
   "id": "c728e94a",
   "metadata": {},
   "outputs": [],
   "source": [
    "import pickle\n",
    "filename = 'insurance_fraud_claim.pkl'\n",
    "pickle.dump ( dtc, open ( filename, 'wb'))"
   ]
  },
  {
   "cell_type": "markdown",
   "id": "f1965e10",
   "metadata": {},
   "source": [
    "Saving the model with DecisionTreeClassifier as the accuracy is 85 % the greatest among all the other models"
   ]
  },
  {
   "cell_type": "code",
   "execution_count": 18,
   "id": "9764728d",
   "metadata": {},
   "outputs": [
    {
     "name": "stdout",
     "output_type": "stream",
     "text": [
      "0.85\n"
     ]
    }
   ],
   "source": [
    "filename = 'insurance_fraud_claim.pkl'\n",
    "loaded_model = pickle.load( open (filename, 'rb') )\n",
    "result = loaded_model.score(x_test, y_test)\n",
    "print(result)"
   ]
  }
 ],
 "metadata": {
  "kernelspec": {
   "display_name": "Python 3",
   "language": "python",
   "name": "python3"
  },
  "language_info": {
   "codemirror_mode": {
    "name": "ipython",
    "version": 3
   },
   "file_extension": ".py",
   "mimetype": "text/x-python",
   "name": "python",
   "nbconvert_exporter": "python",
   "pygments_lexer": "ipython3",
   "version": "3.8.8"
  }
 },
 "nbformat": 4,
 "nbformat_minor": 5
}
