{
 "cells": [
  {
   "cell_type": "code",
   "execution_count": 1,
   "id": "335b28ca",
   "metadata": {},
   "outputs": [],
   "source": [
    "import pandas as pd\n",
    "import warnings\n",
    "warnings.filterwarnings('ignore')"
   ]
  },
  {
   "cell_type": "code",
   "execution_count": 2,
   "id": "77711887",
   "metadata": {},
   "outputs": [
    {
     "data": {
      "text/html": [
       "<div>\n",
       "<style scoped>\n",
       "    .dataframe tbody tr th:only-of-type {\n",
       "        vertical-align: middle;\n",
       "    }\n",
       "\n",
       "    .dataframe tbody tr th {\n",
       "        vertical-align: top;\n",
       "    }\n",
       "\n",
       "    .dataframe thead th {\n",
       "        text-align: right;\n",
       "    }\n",
       "</style>\n",
       "<table border=\"1\" class=\"dataframe\">\n",
       "  <thead>\n",
       "    <tr style=\"text-align: right;\">\n",
       "      <th></th>\n",
       "      <th>country</th>\n",
       "      <th>country_long</th>\n",
       "      <th>name</th>\n",
       "      <th>gppd_idnr</th>\n",
       "      <th>capacity_mw</th>\n",
       "      <th>latitude</th>\n",
       "      <th>longitude</th>\n",
       "      <th>primary_fuel</th>\n",
       "      <th>other_fuel1</th>\n",
       "      <th>other_fuel2</th>\n",
       "      <th>...</th>\n",
       "      <th>geolocation_source</th>\n",
       "      <th>wepp_id</th>\n",
       "      <th>year_of_capacity_data</th>\n",
       "      <th>generation_gwh_2013</th>\n",
       "      <th>generation_gwh_2014</th>\n",
       "      <th>generation_gwh_2015</th>\n",
       "      <th>generation_gwh_2016</th>\n",
       "      <th>generation_gwh_2017</th>\n",
       "      <th>generation_data_source</th>\n",
       "      <th>estimated_generation_gwh</th>\n",
       "    </tr>\n",
       "  </thead>\n",
       "  <tbody>\n",
       "    <tr>\n",
       "      <th>0</th>\n",
       "      <td>IND</td>\n",
       "      <td>India</td>\n",
       "      <td>ACME Solar Tower</td>\n",
       "      <td>WRI1020239</td>\n",
       "      <td>2.5</td>\n",
       "      <td>28.1839</td>\n",
       "      <td>73.2407</td>\n",
       "      <td>Solar</td>\n",
       "      <td>NaN</td>\n",
       "      <td>NaN</td>\n",
       "      <td>...</td>\n",
       "      <td>National Renewable Energy Laboratory</td>\n",
       "      <td>NaN</td>\n",
       "      <td>NaN</td>\n",
       "      <td>NaN</td>\n",
       "      <td>NaN</td>\n",
       "      <td>NaN</td>\n",
       "      <td>NaN</td>\n",
       "      <td>NaN</td>\n",
       "      <td>NaN</td>\n",
       "      <td>NaN</td>\n",
       "    </tr>\n",
       "    <tr>\n",
       "      <th>1</th>\n",
       "      <td>IND</td>\n",
       "      <td>India</td>\n",
       "      <td>ADITYA CEMENT WORKS</td>\n",
       "      <td>WRI1019881</td>\n",
       "      <td>98.0</td>\n",
       "      <td>24.7663</td>\n",
       "      <td>74.6090</td>\n",
       "      <td>Coal</td>\n",
       "      <td>NaN</td>\n",
       "      <td>NaN</td>\n",
       "      <td>...</td>\n",
       "      <td>WRI</td>\n",
       "      <td>NaN</td>\n",
       "      <td>NaN</td>\n",
       "      <td>NaN</td>\n",
       "      <td>NaN</td>\n",
       "      <td>NaN</td>\n",
       "      <td>NaN</td>\n",
       "      <td>NaN</td>\n",
       "      <td>NaN</td>\n",
       "      <td>NaN</td>\n",
       "    </tr>\n",
       "    <tr>\n",
       "      <th>2</th>\n",
       "      <td>IND</td>\n",
       "      <td>India</td>\n",
       "      <td>AES Saurashtra Windfarms</td>\n",
       "      <td>WRI1026669</td>\n",
       "      <td>39.2</td>\n",
       "      <td>21.9038</td>\n",
       "      <td>69.3732</td>\n",
       "      <td>Wind</td>\n",
       "      <td>NaN</td>\n",
       "      <td>NaN</td>\n",
       "      <td>...</td>\n",
       "      <td>WRI</td>\n",
       "      <td>NaN</td>\n",
       "      <td>NaN</td>\n",
       "      <td>NaN</td>\n",
       "      <td>NaN</td>\n",
       "      <td>NaN</td>\n",
       "      <td>NaN</td>\n",
       "      <td>NaN</td>\n",
       "      <td>NaN</td>\n",
       "      <td>NaN</td>\n",
       "    </tr>\n",
       "    <tr>\n",
       "      <th>3</th>\n",
       "      <td>IND</td>\n",
       "      <td>India</td>\n",
       "      <td>AGARTALA GT</td>\n",
       "      <td>IND0000001</td>\n",
       "      <td>135.0</td>\n",
       "      <td>23.8712</td>\n",
       "      <td>91.3602</td>\n",
       "      <td>Gas</td>\n",
       "      <td>NaN</td>\n",
       "      <td>NaN</td>\n",
       "      <td>...</td>\n",
       "      <td>WRI</td>\n",
       "      <td>NaN</td>\n",
       "      <td>2018.0</td>\n",
       "      <td>631.777928</td>\n",
       "      <td>617.789264</td>\n",
       "      <td>843.747</td>\n",
       "      <td>886.004428</td>\n",
       "      <td>663.774500</td>\n",
       "      <td>Central Electricity Authority</td>\n",
       "      <td>NaN</td>\n",
       "    </tr>\n",
       "    <tr>\n",
       "      <th>4</th>\n",
       "      <td>IND</td>\n",
       "      <td>India</td>\n",
       "      <td>AKALTARA TPP</td>\n",
       "      <td>IND0000002</td>\n",
       "      <td>1800.0</td>\n",
       "      <td>21.9603</td>\n",
       "      <td>82.4091</td>\n",
       "      <td>Coal</td>\n",
       "      <td>Oil</td>\n",
       "      <td>NaN</td>\n",
       "      <td>...</td>\n",
       "      <td>WRI</td>\n",
       "      <td>NaN</td>\n",
       "      <td>2018.0</td>\n",
       "      <td>1668.290000</td>\n",
       "      <td>3035.550000</td>\n",
       "      <td>5916.370</td>\n",
       "      <td>6243.000000</td>\n",
       "      <td>5385.579736</td>\n",
       "      <td>Central Electricity Authority</td>\n",
       "      <td>NaN</td>\n",
       "    </tr>\n",
       "  </tbody>\n",
       "</table>\n",
       "<p>5 rows × 25 columns</p>\n",
       "</div>"
      ],
      "text/plain": [
       "  country country_long                      name   gppd_idnr  capacity_mw  \\\n",
       "0     IND        India          ACME Solar Tower  WRI1020239          2.5   \n",
       "1     IND        India       ADITYA CEMENT WORKS  WRI1019881         98.0   \n",
       "2     IND        India  AES Saurashtra Windfarms  WRI1026669         39.2   \n",
       "3     IND        India               AGARTALA GT  IND0000001        135.0   \n",
       "4     IND        India              AKALTARA TPP  IND0000002       1800.0   \n",
       "\n",
       "   latitude  longitude primary_fuel other_fuel1 other_fuel2  ...  \\\n",
       "0   28.1839    73.2407        Solar         NaN         NaN  ...   \n",
       "1   24.7663    74.6090         Coal         NaN         NaN  ...   \n",
       "2   21.9038    69.3732         Wind         NaN         NaN  ...   \n",
       "3   23.8712    91.3602          Gas         NaN         NaN  ...   \n",
       "4   21.9603    82.4091         Coal         Oil         NaN  ...   \n",
       "\n",
       "                     geolocation_source  wepp_id year_of_capacity_data  \\\n",
       "0  National Renewable Energy Laboratory      NaN                   NaN   \n",
       "1                                   WRI      NaN                   NaN   \n",
       "2                                   WRI      NaN                   NaN   \n",
       "3                                   WRI      NaN                2018.0   \n",
       "4                                   WRI      NaN                2018.0   \n",
       "\n",
       "  generation_gwh_2013 generation_gwh_2014 generation_gwh_2015  \\\n",
       "0                 NaN                 NaN                 NaN   \n",
       "1                 NaN                 NaN                 NaN   \n",
       "2                 NaN                 NaN                 NaN   \n",
       "3          631.777928          617.789264             843.747   \n",
       "4         1668.290000         3035.550000            5916.370   \n",
       "\n",
       "   generation_gwh_2016  generation_gwh_2017         generation_data_source  \\\n",
       "0                  NaN                  NaN                            NaN   \n",
       "1                  NaN                  NaN                            NaN   \n",
       "2                  NaN                  NaN                            NaN   \n",
       "3           886.004428           663.774500  Central Electricity Authority   \n",
       "4          6243.000000          5385.579736  Central Electricity Authority   \n",
       "\n",
       "   estimated_generation_gwh  \n",
       "0                       NaN  \n",
       "1                       NaN  \n",
       "2                       NaN  \n",
       "3                       NaN  \n",
       "4                       NaN  \n",
       "\n",
       "[5 rows x 25 columns]"
      ]
     },
     "execution_count": 2,
     "metadata": {},
     "output_type": "execute_result"
    }
   ],
   "source": [
    "df = pd.read_csv('database_IND.csv')\n",
    "df.head()"
   ]
  },
  {
   "cell_type": "code",
   "execution_count": 3,
   "id": "d238784d",
   "metadata": {},
   "outputs": [
    {
     "data": {
      "text/plain": [
       "Coal       259\n",
       "Hydro      250\n",
       "Solar      127\n",
       "Wind       123\n",
       "Gas         69\n",
       "Biomass     50\n",
       "Oil         21\n",
       "Nuclear      9\n",
       "Name: primary_fuel, dtype: int64"
      ]
     },
     "execution_count": 3,
     "metadata": {},
     "output_type": "execute_result"
    }
   ],
   "source": [
    "df['primary_fuel'].value_counts()"
   ]
  },
  {
   "cell_type": "code",
   "execution_count": 4,
   "id": "f98eedea",
   "metadata": {},
   "outputs": [
    {
     "data": {
      "text/plain": [
       "8"
      ]
     },
     "execution_count": 4,
     "metadata": {},
     "output_type": "execute_result"
    }
   ],
   "source": [
    "df['primary_fuel'].nunique()"
   ]
  },
  {
   "cell_type": "code",
   "execution_count": 5,
   "id": "a8b887d2",
   "metadata": {},
   "outputs": [
    {
     "data": {
      "text/plain": [
       "(908, 25)"
      ]
     },
     "execution_count": 5,
     "metadata": {},
     "output_type": "execute_result"
    }
   ],
   "source": [
    "df.shape"
   ]
  },
  {
   "cell_type": "code",
   "execution_count": 6,
   "id": "4fa95ebc",
   "metadata": {},
   "outputs": [
    {
     "name": "stdout",
     "output_type": "stream",
     "text": [
      "<class 'pandas.core.frame.DataFrame'>\n",
      "RangeIndex: 908 entries, 0 to 907\n",
      "Data columns (total 25 columns):\n",
      " #   Column                    Non-Null Count  Dtype  \n",
      "---  ------                    --------------  -----  \n",
      " 0   country                   908 non-null    object \n",
      " 1   country_long              908 non-null    object \n",
      " 2   name                      908 non-null    object \n",
      " 3   gppd_idnr                 908 non-null    object \n",
      " 4   capacity_mw               908 non-null    float64\n",
      " 5   latitude                  862 non-null    float64\n",
      " 6   longitude                 862 non-null    float64\n",
      " 7   primary_fuel              908 non-null    object \n",
      " 8   other_fuel1               199 non-null    object \n",
      " 9   other_fuel2               1 non-null      object \n",
      " 10  other_fuel3               0 non-null      float64\n",
      " 11  commissioning_year        528 non-null    float64\n",
      " 12  owner                     342 non-null    object \n",
      " 13  source                    908 non-null    object \n",
      " 14  url                       908 non-null    object \n",
      " 15  geolocation_source        889 non-null    object \n",
      " 16  wepp_id                   0 non-null      float64\n",
      " 17  year_of_capacity_data     520 non-null    float64\n",
      " 18  generation_gwh_2013       384 non-null    float64\n",
      " 19  generation_gwh_2014       401 non-null    float64\n",
      " 20  generation_gwh_2015       425 non-null    float64\n",
      " 21  generation_gwh_2016       437 non-null    float64\n",
      " 22  generation_gwh_2017       443 non-null    float64\n",
      " 23  generation_data_source    450 non-null    object \n",
      " 24  estimated_generation_gwh  0 non-null      float64\n",
      "dtypes: float64(13), object(12)\n",
      "memory usage: 177.5+ KB\n"
     ]
    }
   ],
   "source": [
    "df.info()"
   ]
  },
  {
   "cell_type": "code",
   "execution_count": 6,
   "id": "9f3725b7",
   "metadata": {},
   "outputs": [
    {
     "data": {
      "text/plain": [
       "country                       0\n",
       "country_long                  0\n",
       "name                          0\n",
       "gppd_idnr                     0\n",
       "capacity_mw                   0\n",
       "latitude                     46\n",
       "longitude                    46\n",
       "primary_fuel                  0\n",
       "other_fuel1                 709\n",
       "other_fuel2                 907\n",
       "other_fuel3                 908\n",
       "commissioning_year          380\n",
       "owner                       566\n",
       "source                        0\n",
       "url                           0\n",
       "geolocation_source           19\n",
       "wepp_id                     908\n",
       "year_of_capacity_data       388\n",
       "generation_gwh_2013         524\n",
       "generation_gwh_2014         507\n",
       "generation_gwh_2015         483\n",
       "generation_gwh_2016         471\n",
       "generation_gwh_2017         465\n",
       "generation_data_source      458\n",
       "estimated_generation_gwh    908\n",
       "dtype: int64"
      ]
     },
     "execution_count": 6,
     "metadata": {},
     "output_type": "execute_result"
    }
   ],
   "source": [
    "df.isnull().sum()"
   ]
  },
  {
   "cell_type": "code",
   "execution_count": 4,
   "id": "4c8a2ed4",
   "metadata": {},
   "outputs": [
    {
     "data": {
      "text/plain": [
       "country                     0\n",
       "country_long                0\n",
       "name                        0\n",
       "gppd_idnr                   0\n",
       "capacity_mw                 0\n",
       "latitude                   46\n",
       "longitude                  46\n",
       "primary_fuel                0\n",
       "commissioning_year        380\n",
       "owner                     566\n",
       "source                      0\n",
       "url                         0\n",
       "geolocation_source         19\n",
       "year_of_capacity_data     388\n",
       "generation_gwh_2013       524\n",
       "generation_gwh_2014       507\n",
       "generation_gwh_2015       483\n",
       "generation_gwh_2016       471\n",
       "generation_gwh_2017       465\n",
       "generation_data_source    458\n",
       "dtype: int64"
      ]
     },
     "execution_count": 4,
     "metadata": {},
     "output_type": "execute_result"
    }
   ],
   "source": [
    "df.drop(['other_fuel1', 'other_fuel2', 'other_fuel3', 'wepp_id', 'estimated_generation_gwh'] , axis = 1, inplace = True)\n",
    "df.isnull().sum()"
   ]
  },
  {
   "cell_type": "markdown",
   "id": "4fd2b974",
   "metadata": {},
   "source": [
    "Removing columns which are having too much null values"
   ]
  },
  {
   "cell_type": "code",
   "execution_count": 23,
   "id": "c863f80f",
   "metadata": {},
   "outputs": [
    {
     "data": {
      "text/plain": [
       "IND    908\n",
       "Name: country, dtype: int64"
      ]
     },
     "execution_count": 23,
     "metadata": {},
     "output_type": "execute_result"
    }
   ],
   "source": [
    "df['country'].value_counts()"
   ]
  },
  {
   "cell_type": "code",
   "execution_count": 24,
   "id": "5891229e",
   "metadata": {},
   "outputs": [
    {
     "data": {
      "text/plain": [
       "India    908\n",
       "Name: country_long, dtype: int64"
      ]
     },
     "execution_count": 24,
     "metadata": {},
     "output_type": "execute_result"
    }
   ],
   "source": [
    "df['country_long'].value_counts()"
   ]
  },
  {
   "cell_type": "code",
   "execution_count": 27,
   "id": "810c0b49",
   "metadata": {},
   "outputs": [
    {
     "data": {
      "text/plain": [
       "2018.0    520\n",
       "Name: year_of_capacity_data, dtype: int64"
      ]
     },
     "execution_count": 27,
     "metadata": {},
     "output_type": "execute_result"
    }
   ],
   "source": [
    "df['year_of_capacity_data'].value_counts()"
   ]
  },
  {
   "cell_type": "code",
   "execution_count": 8,
   "id": "b991e0a8",
   "metadata": {},
   "outputs": [
    {
     "data": {
      "text/plain": [
       "Central Electricity Authority    450\n",
       "Name: generation_data_source, dtype: int64"
      ]
     },
     "execution_count": 8,
     "metadata": {},
     "output_type": "execute_result"
    }
   ],
   "source": [
    "df['generation_data_source'].value_counts()"
   ]
  },
  {
   "cell_type": "code",
   "execution_count": 5,
   "id": "ecebdbf0",
   "metadata": {},
   "outputs": [],
   "source": [
    "df.drop(['country', 'country_long','year_of_capacity_data','generation_data_source'] , axis = 1, inplace = True)"
   ]
  },
  {
   "cell_type": "markdown",
   "id": "d36d52a5",
   "metadata": {},
   "source": [
    "These 4 columns are haviong single value, i.e. they wont help in predicting the outcome, hence dropping them"
   ]
  },
  {
   "cell_type": "code",
   "execution_count": 6,
   "id": "ce4ff0f6",
   "metadata": {},
   "outputs": [
    {
     "data": {
      "text/html": [
       "<div>\n",
       "<style scoped>\n",
       "    .dataframe tbody tr th:only-of-type {\n",
       "        vertical-align: middle;\n",
       "    }\n",
       "\n",
       "    .dataframe tbody tr th {\n",
       "        vertical-align: top;\n",
       "    }\n",
       "\n",
       "    .dataframe thead th {\n",
       "        text-align: right;\n",
       "    }\n",
       "</style>\n",
       "<table border=\"1\" class=\"dataframe\">\n",
       "  <thead>\n",
       "    <tr style=\"text-align: right;\">\n",
       "      <th></th>\n",
       "      <th>name</th>\n",
       "      <th>gppd_idnr</th>\n",
       "      <th>capacity_mw</th>\n",
       "      <th>latitude</th>\n",
       "      <th>longitude</th>\n",
       "      <th>primary_fuel</th>\n",
       "      <th>commissioning_year</th>\n",
       "      <th>owner</th>\n",
       "      <th>source</th>\n",
       "      <th>url</th>\n",
       "      <th>geolocation_source</th>\n",
       "      <th>Total_generation</th>\n",
       "    </tr>\n",
       "  </thead>\n",
       "  <tbody>\n",
       "    <tr>\n",
       "      <th>0</th>\n",
       "      <td>ACME Solar Tower</td>\n",
       "      <td>WRI1020239</td>\n",
       "      <td>2.5</td>\n",
       "      <td>28.1839</td>\n",
       "      <td>73.2407</td>\n",
       "      <td>Solar</td>\n",
       "      <td>2011.0</td>\n",
       "      <td>Solar Paces</td>\n",
       "      <td>National Renewable Energy Laboratory</td>\n",
       "      <td>http://www.nrel.gov/csp/solarpaces/project_det...</td>\n",
       "      <td>National Renewable Energy Laboratory</td>\n",
       "      <td>NaN</td>\n",
       "    </tr>\n",
       "    <tr>\n",
       "      <th>1</th>\n",
       "      <td>ADITYA CEMENT WORKS</td>\n",
       "      <td>WRI1019881</td>\n",
       "      <td>98.0</td>\n",
       "      <td>24.7663</td>\n",
       "      <td>74.6090</td>\n",
       "      <td>Coal</td>\n",
       "      <td>NaN</td>\n",
       "      <td>Ultratech Cement ltd</td>\n",
       "      <td>Ultratech Cement ltd</td>\n",
       "      <td>http://www.ultratechcement.com/</td>\n",
       "      <td>WRI</td>\n",
       "      <td>NaN</td>\n",
       "    </tr>\n",
       "    <tr>\n",
       "      <th>2</th>\n",
       "      <td>AES Saurashtra Windfarms</td>\n",
       "      <td>WRI1026669</td>\n",
       "      <td>39.2</td>\n",
       "      <td>21.9038</td>\n",
       "      <td>69.3732</td>\n",
       "      <td>Wind</td>\n",
       "      <td>NaN</td>\n",
       "      <td>AES</td>\n",
       "      <td>CDM</td>\n",
       "      <td>https://cdm.unfccc.int/Projects/DB/DNV-CUK1328...</td>\n",
       "      <td>WRI</td>\n",
       "      <td>NaN</td>\n",
       "    </tr>\n",
       "    <tr>\n",
       "      <th>3</th>\n",
       "      <td>AGARTALA GT</td>\n",
       "      <td>IND0000001</td>\n",
       "      <td>135.0</td>\n",
       "      <td>23.8712</td>\n",
       "      <td>91.3602</td>\n",
       "      <td>Gas</td>\n",
       "      <td>2004.0</td>\n",
       "      <td>NaN</td>\n",
       "      <td>Central Electricity Authority</td>\n",
       "      <td>http://www.cea.nic.in/</td>\n",
       "      <td>WRI</td>\n",
       "      <td>3643.093120</td>\n",
       "    </tr>\n",
       "    <tr>\n",
       "      <th>4</th>\n",
       "      <td>AKALTARA TPP</td>\n",
       "      <td>IND0000002</td>\n",
       "      <td>1800.0</td>\n",
       "      <td>21.9603</td>\n",
       "      <td>82.4091</td>\n",
       "      <td>Coal</td>\n",
       "      <td>2015.0</td>\n",
       "      <td>NaN</td>\n",
       "      <td>Central Electricity Authority</td>\n",
       "      <td>http://www.cea.nic.in/</td>\n",
       "      <td>WRI</td>\n",
       "      <td>22248.789736</td>\n",
       "    </tr>\n",
       "  </tbody>\n",
       "</table>\n",
       "</div>"
      ],
      "text/plain": [
       "                       name   gppd_idnr  capacity_mw  latitude  longitude  \\\n",
       "0          ACME Solar Tower  WRI1020239          2.5   28.1839    73.2407   \n",
       "1       ADITYA CEMENT WORKS  WRI1019881         98.0   24.7663    74.6090   \n",
       "2  AES Saurashtra Windfarms  WRI1026669         39.2   21.9038    69.3732   \n",
       "3               AGARTALA GT  IND0000001        135.0   23.8712    91.3602   \n",
       "4              AKALTARA TPP  IND0000002       1800.0   21.9603    82.4091   \n",
       "\n",
       "  primary_fuel  commissioning_year                 owner  \\\n",
       "0        Solar              2011.0           Solar Paces   \n",
       "1         Coal                 NaN  Ultratech Cement ltd   \n",
       "2         Wind                 NaN                   AES   \n",
       "3          Gas              2004.0                   NaN   \n",
       "4         Coal              2015.0                   NaN   \n",
       "\n",
       "                                 source  \\\n",
       "0  National Renewable Energy Laboratory   \n",
       "1                  Ultratech Cement ltd   \n",
       "2                                   CDM   \n",
       "3         Central Electricity Authority   \n",
       "4         Central Electricity Authority   \n",
       "\n",
       "                                                 url  \\\n",
       "0  http://www.nrel.gov/csp/solarpaces/project_det...   \n",
       "1                    http://www.ultratechcement.com/   \n",
       "2  https://cdm.unfccc.int/Projects/DB/DNV-CUK1328...   \n",
       "3                             http://www.cea.nic.in/   \n",
       "4                             http://www.cea.nic.in/   \n",
       "\n",
       "                     geolocation_source  Total_generation  \n",
       "0  National Renewable Energy Laboratory               NaN  \n",
       "1                                   WRI               NaN  \n",
       "2                                   WRI               NaN  \n",
       "3                                   WRI       3643.093120  \n",
       "4                                   WRI      22248.789736  "
      ]
     },
     "execution_count": 6,
     "metadata": {},
     "output_type": "execute_result"
    }
   ],
   "source": [
    "df['Total_generation'] = df['generation_gwh_2013'] + df['generation_gwh_2014'] + df['generation_gwh_2015'] + df['generation_gwh_2016'] + df['generation_gwh_2017']\n",
    "\n",
    "df = df.drop(['generation_gwh_2013','generation_gwh_2014','generation_gwh_2015','generation_gwh_2016','generation_gwh_2017'],axis = 1)\n",
    "df.head()"
   ]
  },
  {
   "cell_type": "markdown",
   "id": "3fd16e02",
   "metadata": {},
   "source": [
    "Added 5 columns together to make Total generation column and then dropping those 5 columns."
   ]
  },
  {
   "cell_type": "code",
   "execution_count": 7,
   "id": "69ab223e",
   "metadata": {},
   "outputs": [
    {
     "data": {
      "text/html": [
       "<div>\n",
       "<style scoped>\n",
       "    .dataframe tbody tr th:only-of-type {\n",
       "        vertical-align: middle;\n",
       "    }\n",
       "\n",
       "    .dataframe tbody tr th {\n",
       "        vertical-align: top;\n",
       "    }\n",
       "\n",
       "    .dataframe thead th {\n",
       "        text-align: right;\n",
       "    }\n",
       "</style>\n",
       "<table border=\"1\" class=\"dataframe\">\n",
       "  <thead>\n",
       "    <tr style=\"text-align: right;\">\n",
       "      <th></th>\n",
       "      <th>capacity_mw</th>\n",
       "      <th>latitude</th>\n",
       "      <th>longitude</th>\n",
       "      <th>primary_fuel</th>\n",
       "      <th>commissioning_year</th>\n",
       "      <th>geolocation_source</th>\n",
       "      <th>Total_generation</th>\n",
       "    </tr>\n",
       "  </thead>\n",
       "  <tbody>\n",
       "    <tr>\n",
       "      <th>0</th>\n",
       "      <td>2.5</td>\n",
       "      <td>28.1839</td>\n",
       "      <td>73.2407</td>\n",
       "      <td>Solar</td>\n",
       "      <td>2011.0</td>\n",
       "      <td>National Renewable Energy Laboratory</td>\n",
       "      <td>NaN</td>\n",
       "    </tr>\n",
       "    <tr>\n",
       "      <th>1</th>\n",
       "      <td>98.0</td>\n",
       "      <td>24.7663</td>\n",
       "      <td>74.6090</td>\n",
       "      <td>Coal</td>\n",
       "      <td>NaN</td>\n",
       "      <td>WRI</td>\n",
       "      <td>NaN</td>\n",
       "    </tr>\n",
       "    <tr>\n",
       "      <th>2</th>\n",
       "      <td>39.2</td>\n",
       "      <td>21.9038</td>\n",
       "      <td>69.3732</td>\n",
       "      <td>Wind</td>\n",
       "      <td>NaN</td>\n",
       "      <td>WRI</td>\n",
       "      <td>NaN</td>\n",
       "    </tr>\n",
       "    <tr>\n",
       "      <th>3</th>\n",
       "      <td>135.0</td>\n",
       "      <td>23.8712</td>\n",
       "      <td>91.3602</td>\n",
       "      <td>Gas</td>\n",
       "      <td>2004.0</td>\n",
       "      <td>WRI</td>\n",
       "      <td>3643.093120</td>\n",
       "    </tr>\n",
       "    <tr>\n",
       "      <th>4</th>\n",
       "      <td>1800.0</td>\n",
       "      <td>21.9603</td>\n",
       "      <td>82.4091</td>\n",
       "      <td>Coal</td>\n",
       "      <td>2015.0</td>\n",
       "      <td>WRI</td>\n",
       "      <td>22248.789736</td>\n",
       "    </tr>\n",
       "  </tbody>\n",
       "</table>\n",
       "</div>"
      ],
      "text/plain": [
       "   capacity_mw  latitude  longitude primary_fuel  commissioning_year  \\\n",
       "0          2.5   28.1839    73.2407        Solar              2011.0   \n",
       "1         98.0   24.7663    74.6090         Coal                 NaN   \n",
       "2         39.2   21.9038    69.3732         Wind                 NaN   \n",
       "3        135.0   23.8712    91.3602          Gas              2004.0   \n",
       "4       1800.0   21.9603    82.4091         Coal              2015.0   \n",
       "\n",
       "                     geolocation_source  Total_generation  \n",
       "0  National Renewable Energy Laboratory               NaN  \n",
       "1                                   WRI               NaN  \n",
       "2                                   WRI               NaN  \n",
       "3                                   WRI       3643.093120  \n",
       "4                                   WRI      22248.789736  "
      ]
     },
     "execution_count": 7,
     "metadata": {},
     "output_type": "execute_result"
    }
   ],
   "source": [
    "df = df.drop(['name','gppd_idnr','url','owner','source'],axis = 1)\n",
    "df.head()"
   ]
  },
  {
   "cell_type": "code",
   "execution_count": 8,
   "id": "31bb1012",
   "metadata": {},
   "outputs": [
    {
     "data": {
      "text/html": [
       "<div>\n",
       "<style scoped>\n",
       "    .dataframe tbody tr th:only-of-type {\n",
       "        vertical-align: middle;\n",
       "    }\n",
       "\n",
       "    .dataframe tbody tr th {\n",
       "        vertical-align: top;\n",
       "    }\n",
       "\n",
       "    .dataframe thead th {\n",
       "        text-align: right;\n",
       "    }\n",
       "</style>\n",
       "<table border=\"1\" class=\"dataframe\">\n",
       "  <thead>\n",
       "    <tr style=\"text-align: right;\">\n",
       "      <th></th>\n",
       "      <th>capacity_mw</th>\n",
       "      <th>latitude</th>\n",
       "      <th>longitude</th>\n",
       "      <th>primary_fuel</th>\n",
       "      <th>commissioning_year</th>\n",
       "      <th>geolocation_source</th>\n",
       "      <th>Total_generation</th>\n",
       "    </tr>\n",
       "  </thead>\n",
       "  <tbody>\n",
       "    <tr>\n",
       "      <th>0</th>\n",
       "      <td>2.5</td>\n",
       "      <td>28.1839</td>\n",
       "      <td>73.2407</td>\n",
       "      <td>6</td>\n",
       "      <td>2011.0</td>\n",
       "      <td>1</td>\n",
       "      <td>NaN</td>\n",
       "    </tr>\n",
       "    <tr>\n",
       "      <th>1</th>\n",
       "      <td>98.0</td>\n",
       "      <td>24.7663</td>\n",
       "      <td>74.6090</td>\n",
       "      <td>1</td>\n",
       "      <td>NaN</td>\n",
       "      <td>2</td>\n",
       "      <td>NaN</td>\n",
       "    </tr>\n",
       "    <tr>\n",
       "      <th>2</th>\n",
       "      <td>39.2</td>\n",
       "      <td>21.9038</td>\n",
       "      <td>69.3732</td>\n",
       "      <td>7</td>\n",
       "      <td>NaN</td>\n",
       "      <td>2</td>\n",
       "      <td>NaN</td>\n",
       "    </tr>\n",
       "    <tr>\n",
       "      <th>3</th>\n",
       "      <td>135.0</td>\n",
       "      <td>23.8712</td>\n",
       "      <td>91.3602</td>\n",
       "      <td>2</td>\n",
       "      <td>2004.0</td>\n",
       "      <td>2</td>\n",
       "      <td>3643.093120</td>\n",
       "    </tr>\n",
       "    <tr>\n",
       "      <th>4</th>\n",
       "      <td>1800.0</td>\n",
       "      <td>21.9603</td>\n",
       "      <td>82.4091</td>\n",
       "      <td>1</td>\n",
       "      <td>2015.0</td>\n",
       "      <td>2</td>\n",
       "      <td>22248.789736</td>\n",
       "    </tr>\n",
       "  </tbody>\n",
       "</table>\n",
       "</div>"
      ],
      "text/plain": [
       "   capacity_mw  latitude  longitude  primary_fuel  commissioning_year  \\\n",
       "0          2.5   28.1839    73.2407             6              2011.0   \n",
       "1         98.0   24.7663    74.6090             1                 NaN   \n",
       "2         39.2   21.9038    69.3732             7                 NaN   \n",
       "3        135.0   23.8712    91.3602             2              2004.0   \n",
       "4       1800.0   21.9603    82.4091             1              2015.0   \n",
       "\n",
       "   geolocation_source  Total_generation  \n",
       "0                   1               NaN  \n",
       "1                   2               NaN  \n",
       "2                   2               NaN  \n",
       "3                   2       3643.093120  \n",
       "4                   2      22248.789736  "
      ]
     },
     "execution_count": 8,
     "metadata": {},
     "output_type": "execute_result"
    }
   ],
   "source": [
    "from sklearn.preprocessing import LabelEncoder\n",
    "\n",
    "df['primary_fuel'] = LabelEncoder().fit_transform(df['primary_fuel'])\n",
    "df['geolocation_source'] = LabelEncoder().fit_transform(df['geolocation_source'])\n",
    "df.head()"
   ]
  },
  {
   "cell_type": "markdown",
   "id": "c111bb95",
   "metadata": {},
   "source": [
    "Dropping these 5 columns as thay are all; unique values, hence wont participate much in predicting the outcome"
   ]
  },
  {
   "cell_type": "markdown",
   "id": "f9ae0d6c",
   "metadata": {},
   "source": [
    "# Visualization of the Data"
   ]
  },
  {
   "cell_type": "code",
   "execution_count": 12,
   "id": "b540ea19",
   "metadata": {},
   "outputs": [
    {
     "data": {
      "text/plain": [
       "<AxesSubplot:xlabel='primary_fuel', ylabel='capacity_mw'>"
      ]
     },
     "execution_count": 12,
     "metadata": {},
     "output_type": "execute_result"
    },
    {
     "data": {
      "image/png": "[encoded data removed]",
      "text/plain": [
       "<Figure size 432x288 with 1 Axes>"
      ]
     },
     "metadata": {
      "needs_background": "light"
     },
     "output_type": "display_data"
    }
   ],
   "source": [
    "import seaborn as sns\n",
    "\n",
    "sns.barplot(x=\"primary_fuel\", y=\"capacity_mw\", data=df)"
   ]
  },
  {
   "cell_type": "code",
   "execution_count": 14,
   "id": "de625cf1",
   "metadata": {},
   "outputs": [
    {
     "data": {
      "text/plain": [
       "<AxesSubplot:xlabel='commissioning_year', ylabel='capacity_mw'>"
      ]
     },
     "execution_count": 14,
     "metadata": {},
     "output_type": "execute_result"
    },
    {
     "data": {
      "image/png": "[encoded data removed]",
      "text/plain": [
       "<Figure size 432x288 with 1 Axes>"
      ]
     },
     "metadata": {
      "needs_background": "light"
     },
     "output_type": "display_data"
    }
   ],
   "source": [
    "sns.scatterplot(x=\"commissioning_year\", y=\"capacity_mw\", data=df)"
   ]
  },
  {
   "cell_type": "code",
   "execution_count": 97,
   "id": "00b8918e",
   "metadata": {},
   "outputs": [
    {
     "data": {
      "text/html": [
       "<div>\n",
       "<style scoped>\n",
       "    .dataframe tbody tr th:only-of-type {\n",
       "        vertical-align: middle;\n",
       "    }\n",
       "\n",
       "    .dataframe tbody tr th {\n",
       "        vertical-align: top;\n",
       "    }\n",
       "\n",
       "    .dataframe thead th {\n",
       "        text-align: right;\n",
       "    }\n",
       "</style>\n",
       "<table border=\"1\" class=\"dataframe\">\n",
       "  <thead>\n",
       "    <tr style=\"text-align: right;\">\n",
       "      <th></th>\n",
       "      <th>capacity_mw</th>\n",
       "      <th>latitude</th>\n",
       "      <th>longitude</th>\n",
       "      <th>primary_fuel</th>\n",
       "      <th>commissioning_year</th>\n",
       "      <th>geolocation_source</th>\n",
       "      <th>Total_generation</th>\n",
       "    </tr>\n",
       "  </thead>\n",
       "  <tbody>\n",
       "    <tr>\n",
       "      <th>0</th>\n",
       "      <td>2.5</td>\n",
       "      <td>28.1839</td>\n",
       "      <td>73.2407</td>\n",
       "      <td>6</td>\n",
       "      <td>2011.0</td>\n",
       "      <td>1</td>\n",
       "      <td>NaN</td>\n",
       "    </tr>\n",
       "    <tr>\n",
       "      <th>1</th>\n",
       "      <td>98.0</td>\n",
       "      <td>24.7663</td>\n",
       "      <td>74.6090</td>\n",
       "      <td>1</td>\n",
       "      <td>NaN</td>\n",
       "      <td>2</td>\n",
       "      <td>NaN</td>\n",
       "    </tr>\n",
       "    <tr>\n",
       "      <th>2</th>\n",
       "      <td>39.2</td>\n",
       "      <td>21.9038</td>\n",
       "      <td>69.3732</td>\n",
       "      <td>7</td>\n",
       "      <td>NaN</td>\n",
       "      <td>2</td>\n",
       "      <td>NaN</td>\n",
       "    </tr>\n",
       "    <tr>\n",
       "      <th>3</th>\n",
       "      <td>135.0</td>\n",
       "      <td>23.8712</td>\n",
       "      <td>91.3602</td>\n",
       "      <td>2</td>\n",
       "      <td>2004.0</td>\n",
       "      <td>2</td>\n",
       "      <td>3643.093120</td>\n",
       "    </tr>\n",
       "    <tr>\n",
       "      <th>4</th>\n",
       "      <td>1800.0</td>\n",
       "      <td>21.9603</td>\n",
       "      <td>82.4091</td>\n",
       "      <td>1</td>\n",
       "      <td>2015.0</td>\n",
       "      <td>2</td>\n",
       "      <td>22248.789736</td>\n",
       "    </tr>\n",
       "  </tbody>\n",
       "</table>\n",
       "</div>"
      ],
      "text/plain": [
       "   capacity_mw  latitude  longitude  primary_fuel  commissioning_year  \\\n",
       "0          2.5   28.1839    73.2407             6              2011.0   \n",
       "1         98.0   24.7663    74.6090             1                 NaN   \n",
       "2         39.2   21.9038    69.3732             7                 NaN   \n",
       "3        135.0   23.8712    91.3602             2              2004.0   \n",
       "4       1800.0   21.9603    82.4091             1              2015.0   \n",
       "\n",
       "   geolocation_source  Total_generation  \n",
       "0                   1               NaN  \n",
       "1                   2               NaN  \n",
       "2                   2               NaN  \n",
       "3                   2       3643.093120  \n",
       "4                   2      22248.789736  "
      ]
     },
     "execution_count": 97,
     "metadata": {},
     "output_type": "execute_result"
    }
   ],
   "source": [
    "df.head()"
   ]
  },
  {
   "cell_type": "code",
   "execution_count": 15,
   "id": "2b84fa89",
   "metadata": {},
   "outputs": [
    {
     "data": {
      "text/plain": [
       "capacity_mw             0\n",
       "latitude               46\n",
       "longitude              46\n",
       "primary_fuel            0\n",
       "commissioning_year    380\n",
       "geolocation_source      0\n",
       "Total_generation      530\n",
       "dtype: int64"
      ]
     },
     "execution_count": 15,
     "metadata": {},
     "output_type": "execute_result"
    }
   ],
   "source": [
    "df.isnull().sum()"
   ]
  },
  {
   "cell_type": "code",
   "execution_count": 9,
   "id": "ffb94edb",
   "metadata": {},
   "outputs": [
    {
     "data": {
      "text/plain": [
       "capacity_mw           0\n",
       "latitude              6\n",
       "longitude             6\n",
       "primary_fuel          0\n",
       "commissioning_year    0\n",
       "geolocation_source    0\n",
       "Total_generation      0\n",
       "dtype: int64"
      ]
     },
     "execution_count": 9,
     "metadata": {},
     "output_type": "execute_result"
    }
   ],
   "source": [
    "df.dropna(subset=['Total_generation'], how='all', inplace = True)\n",
    "df.isnull().sum()"
   ]
  },
  {
   "cell_type": "markdown",
   "id": "27e8724a",
   "metadata": {},
   "source": [
    "Dropping rows where Total generation is null"
   ]
  },
  {
   "cell_type": "code",
   "execution_count": 10,
   "id": "041c4025",
   "metadata": {},
   "outputs": [
    {
     "data": {
      "text/plain": [
       "capacity_mw           0\n",
       "latitude              0\n",
       "longitude             0\n",
       "primary_fuel          0\n",
       "commissioning_year    0\n",
       "geolocation_source    0\n",
       "Total_generation      0\n",
       "dtype: int64"
      ]
     },
     "execution_count": 10,
     "metadata": {},
     "output_type": "execute_result"
    }
   ],
   "source": [
    "df.dropna(subset=['latitude', 'longitude'], how='all', inplace = True)\n",
    "df.isnull().sum()"
   ]
  },
  {
   "cell_type": "code",
   "execution_count": 14,
   "id": "83773c57",
   "metadata": {},
   "outputs": [
    {
     "data": {
      "text/plain": [
       "(372, 7)"
      ]
     },
     "execution_count": 14,
     "metadata": {},
     "output_type": "execute_result"
    }
   ],
   "source": [
    "df.shape"
   ]
  },
  {
   "cell_type": "markdown",
   "id": "117f8922",
   "metadata": {},
   "source": [
    "# Model Selection for capacity_mw"
   ]
  },
  {
   "cell_type": "code",
   "execution_count": 11,
   "id": "eb0fc593",
   "metadata": {},
   "outputs": [],
   "source": [
    "from sklearn.model_selection import train_test_split\n",
    "\n",
    "x = df.drop(['capacity_mw'], axis = 1)\n",
    "y = df['capacity_mw']\n",
    "\n",
    "x_train, x_test, y_train, y_test = train_test_split(x,y, test_size = 0.33, random_state=25)"
   ]
  },
  {
   "cell_type": "code",
   "execution_count": 12,
   "id": "08f4b132",
   "metadata": {},
   "outputs": [],
   "source": [
    "from sklearn.linear_model import LinearRegression\n",
    "from sklearn.metrics import r2_score, mean_squared_error\n",
    "\n",
    "linreg = LinearRegression()\n",
    "linreg.fit(x_train,y_train)\n",
    "y_pred = linreg.predict(x_test)"
   ]
  },
  {
   "cell_type": "code",
   "execution_count": 13,
   "id": "76ea6e20",
   "metadata": {},
   "outputs": [
    {
     "name": "stdout",
     "output_type": "stream",
     "text": [
      "Score with Linear Regression is 0.8213953154653983\n",
      "LinearRegression RMSE value :  290.1297569533482\n"
     ]
    }
   ],
   "source": [
    "import numpy as np\n",
    "\n",
    "print('Score with Linear Regression is', r2_score( y_test, y_pred ))\n",
    "print('LinearRegression RMSE value : ' , np.sqrt(mean_squared_error( y_test, y_pred )))"
   ]
  },
  {
   "cell_type": "code",
   "execution_count": 14,
   "id": "482cddac",
   "metadata": {},
   "outputs": [],
   "source": [
    "x = df.drop(['capacity_mw', 'latitude', 'longitude' ], axis = 1)\n",
    "y = df['capacity_mw']\n",
    "\n",
    "x_train, x_test, y_train, y_test = train_test_split(x,y, test_size = 0.33, random_state=25)"
   ]
  },
  {
   "cell_type": "code",
   "execution_count": 15,
   "id": "b3943bc0",
   "metadata": {},
   "outputs": [
    {
     "name": "stdout",
     "output_type": "stream",
     "text": [
      "Score with Linear Regression is 0.8243354322408437\n"
     ]
    }
   ],
   "source": [
    "linreg.fit(x_train,y_train)\n",
    "y_pred = linreg.predict(x_test)\n",
    "print('Score with Linear Regression is', r2_score( y_test, y_pred ))"
   ]
  },
  {
   "cell_type": "markdown",
   "id": "b9201966",
   "metadata": {},
   "source": [
    "Now we will try with KNeighborsRegressor also"
   ]
  },
  {
   "cell_type": "code",
   "execution_count": 20,
   "id": "a3b97e14",
   "metadata": {},
   "outputs": [
    {
     "data": {
      "text/plain": [
       "GridSearchCV(cv=5, estimator=KNeighborsRegressor(), n_jobs=-1,\n",
       "             param_grid=[{'n_neighbors': [1, 2, 3, 4, 5, 6, 7, 8, 9, 10]}],\n",
       "             return_train_score=True, scoring='neg_mean_squared_error')"
      ]
     },
     "execution_count": 20,
     "metadata": {},
     "output_type": "execute_result"
    }
   ],
   "source": [
    "from sklearn.neighbors import KNeighborsRegressor\n",
    "from sklearn.model_selection import GridSearchCV\n",
    "\n",
    "knn = KNeighborsRegressor()\n",
    "knn_grid = [{'n_neighbors': [i+1 for i in range(10)] }, ]\n",
    "\n",
    "knn_search = GridSearchCV (knn, knn_grid, scoring='neg_mean_squared_error', cv=5, return_train_score=True, n_jobs=-1)\n",
    "knn_search.fit(x_train, y_train)"
   ]
  },
  {
   "cell_type": "code",
   "execution_count": 21,
   "id": "ce1519d7",
   "metadata": {},
   "outputs": [
    {
     "data": {
      "text/plain": [
       "{'n_neighbors': 4}"
      ]
     },
     "execution_count": 21,
     "metadata": {},
     "output_type": "execute_result"
    }
   ],
   "source": [
    "knn_search.best_params_"
   ]
  },
  {
   "cell_type": "code",
   "execution_count": 22,
   "id": "eb9c110e",
   "metadata": {},
   "outputs": [
    {
     "data": {
      "text/plain": [
       "{'mean_fit_time': array([0.00586481, 0.00413389, 0.003824  , 0.00400128, 0.00414896,\n",
       "        0.00433612, 0.00171318, 0.00393829, 0.00438704, 0.00323005]),\n",
       " 'std_fit_time': array([0.00269425, 0.00357682, 0.00057187, 0.0017377 , 0.00105875,\n",
       "        0.00156109, 0.00104271, 0.00308038, 0.00145326, 0.00062038]),\n",
       " 'mean_score_time': array([0.03480945, 0.00722127, 0.00336518, 0.00378098, 0.00242004,\n",
       "        0.00378671, 0.0041924 , 0.00331855, 0.00297055, 0.00297933]),\n",
       " 'std_score_time': array([0.01283755, 0.00169505, 0.00080227, 0.00051625, 0.00097058,\n",
       "        0.00198572, 0.00228003, 0.00235518, 0.00255505, 0.00118241]),\n",
       " 'param_n_neighbors': masked_array(data=[1, 2, 3, 4, 5, 6, 7, 8, 9, 10],\n",
       "              mask=[False, False, False, False, False, False, False, False,\n",
       "                    False, False],\n",
       "        fill_value='?',\n",
       "             dtype=object),\n",
       " 'params': [{'n_neighbors': 1},\n",
       "  {'n_neighbors': 2},\n",
       "  {'n_neighbors': 3},\n",
       "  {'n_neighbors': 4},\n",
       "  {'n_neighbors': 5},\n",
       "  {'n_neighbors': 6},\n",
       "  {'n_neighbors': 7},\n",
       "  {'n_neighbors': 8},\n",
       "  {'n_neighbors': 9},\n",
       "  {'n_neighbors': 10}],\n",
       " 'split0_test_score': array([-154152.62902   , -127568.99557   , -106902.75276867,\n",
       "         -95023.406082  ,  -98865.35098   ,  -91141.96229356,\n",
       "         -93880.36281135,  -95919.85637681,  -95925.95095363,\n",
       "         -95838.53650464]),\n",
       " 'split1_test_score': array([-162144.390578  , -127762.028241  , -117666.335196  ,\n",
       "        -100579.73452688,  -96751.683668  , -102357.31210906,\n",
       "         -95214.85908453, -107407.5037825 ,  -97505.90896121,\n",
       "        -102908.44120934]),\n",
       " 'split2_test_score': array([-132431.090644  , -178796.0134825 , -138673.02105022,\n",
       "        -139124.78381462, -154219.29676632, -178715.03719844,\n",
       "        -191219.15484927, -203791.89814241, -205574.39827457,\n",
       "        -216415.43418674]),\n",
       " 'split3_test_score': array([-243228.274474  , -164289.241956  , -156515.155898  ,\n",
       "        -135709.82267712, -137887.68874224, -132588.95082922,\n",
       "        -129957.60722139, -124195.76879525, -119805.92282343,\n",
       "        -121350.436872  ]),\n",
       " 'split4_test_score': array([-222031.11681429, -106484.08993163,  -79295.59741859,\n",
       "         -72987.70122628,  -68044.59082155,  -64052.66769218,\n",
       "         -59196.68511737,  -66727.58533986,  -75476.18443973,\n",
       "         -87156.2880221 ]),\n",
       " 'mean_test_score': array([-182797.50030606, -140980.07383623, -119810.5724663 ,\n",
       "        -108685.08966538, -111153.72219562, -113771.18602449,\n",
       "        -113893.73381678, -119608.52248737, -118857.67309051,\n",
       "        -124733.82735896]),\n",
       " 'std_test_score': array([42367.46380309, 26525.11739817, 26516.75386396, 25233.12543417,\n",
       "        30939.19413666, 39207.40090119, 44673.19393842, 46074.49367817,\n",
       "        45572.80959817, 47202.37523358]),\n",
       " 'rank_test_score': array([10,  9,  7,  1,  2,  3,  4,  6,  5,  8]),\n",
       " 'split0_train_score': array([    -0.        , -43424.33586168, -63131.19617644, -72561.59482264,\n",
       "        -76593.86922046, -81246.00810149, -79524.64594188, -83887.46431162,\n",
       "        -90654.52342406, -92682.87261109]),\n",
       " 'split1_train_score': array([    -0.        , -51394.68030276, -72092.21492909, -71174.26576938,\n",
       "        -78182.08391499, -79509.27156936, -84672.4661704 , -92330.37011791,\n",
       "        -91129.89833217, -96153.89799569]),\n",
       " 'split2_train_score': array([    -0.        , -40369.62746168, -57528.30751949, -64220.60912004,\n",
       "        -73234.37619276, -76500.94747673, -76679.66080976, -78467.69168221,\n",
       "        -82005.69930105, -83660.03636502]),\n",
       " 'split3_train_score': array([    -0.        , -46513.4308608 , -57308.40796795, -63853.07981014,\n",
       "        -69435.61823073, -70114.22616385, -72513.51616424, -76596.87263739,\n",
       "        -82228.21424503, -87019.37766851]),\n",
       " 'split4_train_score': array([     -0.        ,  -59329.37248388,  -69324.18325461,\n",
       "         -77280.95747956,  -90924.90049742,  -90172.307169  ,\n",
       "         -93469.51708133,  -97942.89981357, -106429.32514951,\n",
       "        -111763.19956363]),\n",
       " 'mean_train_score': array([     0.        , -48206.28939416, -63876.86196952, -69818.10140035,\n",
       "        -77674.16961127, -79508.55209609, -81371.96123352, -85845.05971254,\n",
       "        -90489.53209036, -94255.87684079]),\n",
       " 'std_train_score': array([   0.        , 6648.83348944, 6019.46978536, 5137.5784415 ,\n",
       "        7274.5087716 , 6542.68249896, 7226.98410719, 8151.11880848,\n",
       "        8885.25841122, 9769.56428088])}"
      ]
     },
     "execution_count": 22,
     "metadata": {},
     "output_type": "execute_result"
    }
   ],
   "source": [
    "result = knn_search.cv_results_\n",
    "result"
   ]
  },
  {
   "cell_type": "code",
   "execution_count": 23,
   "id": "9cb85bb7",
   "metadata": {},
   "outputs": [
    {
     "name": "stdout",
     "output_type": "stream",
     "text": [
      "-182797.50030605713 {'n_neighbors': 1}\n",
      "-140980.07383622654 {'n_neighbors': 2}\n",
      "-119810.57246629658 {'n_neighbors': 3}\n",
      "-108685.0896653801 {'n_neighbors': 4}\n",
      "-111153.7221956222 {'n_neighbors': 5}\n",
      "-113771.18602449093 {'n_neighbors': 6}\n",
      "-113893.73381677966 {'n_neighbors': 7}\n",
      "-119608.52248736568 {'n_neighbors': 8}\n",
      "-118857.6730905145 {'n_neighbors': 9}\n",
      "-124733.82735896441 {'n_neighbors': 10}\n"
     ]
    }
   ],
   "source": [
    "for mts, param in zip(result['mean_test_score'], result['params']):\n",
    "    print (mts, param)"
   ]
  },
  {
   "cell_type": "code",
   "execution_count": 24,
   "id": "f0a400a4",
   "metadata": {},
   "outputs": [
    {
     "name": "stdout",
     "output_type": "stream",
     "text": [
      "KNN RMSE value :  317.4858861317616\n",
      "Score with KNN Regression is 0.7861264175255702\n"
     ]
    }
   ],
   "source": [
    "from sklearn.metrics import mean_squared_error\n",
    "\n",
    "knn_reg = knn_search.best_estimator_\n",
    "knn_reg.fit(x_train, y_train)\n",
    "knn_pred = knn_reg.predict(x_test)\n",
    "print('KNN RMSE value : ' , np.sqrt(mean_squared_error(knn_pred, y_test)))\n",
    "print('Score with KNN Regression is', r2_score( y_test, knn_pred ))"
   ]
  },
  {
   "cell_type": "markdown",
   "id": "31f79e10",
   "metadata": {},
   "source": [
    "Now will try with RandomForestRegressor"
   ]
  },
  {
   "cell_type": "code",
   "execution_count": 29,
   "id": "f4792ab9",
   "metadata": {},
   "outputs": [
    {
     "name": "stdout",
     "output_type": "stream",
     "text": [
      "Fitting 5 folds for each of 10 candidates, totalling 50 fits\n"
     ]
    },
    {
     "data": {
      "text/plain": [
       "RandomizedSearchCV(cv=5, estimator=RandomForestRegressor(), n_jobs=-1,\n",
       "                   param_distributions={'bootstrap': [True, False],\n",
       "                                        'criterion': ['mse', 'mae'],\n",
       "                                        'n_estimators': [10, 20, 30, 40, 50, 60,\n",
       "                                                         70, 80, 90, 100, 110,\n",
       "                                                         120, 130, 140, 150,\n",
       "                                                         160, 170, 180, 190,\n",
       "                                                         200]},\n",
       "                   return_train_score=True, scoring='neg_mean_squared_error',\n",
       "                   verbose=1)"
      ]
     },
     "execution_count": 29,
     "metadata": {},
     "output_type": "execute_result"
    }
   ],
   "source": [
    "from sklearn.ensemble import RandomForestRegressor\n",
    "from sklearn.model_selection import RandomizedSearchCV\n",
    "\n",
    "ensemble = RandomForestRegressor()\n",
    "ensemble_grid =  {'n_estimators': [(i+1)*10 for i in range(20)], 'criterion': ['mse', 'mae'], 'bootstrap': [True, False]}\n",
    "\n",
    "\n",
    "ensemble_search = RandomizedSearchCV(ensemble, ensemble_grid, scoring='neg_mean_squared_error', cv=5, return_train_score=True, n_jobs=-1, n_iter=10, verbose=1)\n",
    "ensemble_search.fit(x_train, y_train)"
   ]
  },
  {
   "cell_type": "code",
   "execution_count": 30,
   "id": "9e34bf05",
   "metadata": {},
   "outputs": [
    {
     "data": {
      "text/plain": [
       "{'n_estimators': 200, 'criterion': 'mae', 'bootstrap': True}"
      ]
     },
     "execution_count": 30,
     "metadata": {},
     "output_type": "execute_result"
    }
   ],
   "source": [
    "ensemble_search.best_params_"
   ]
  },
  {
   "cell_type": "code",
   "execution_count": 31,
   "id": "a86d5625",
   "metadata": {},
   "outputs": [
    {
     "data": {
      "text/plain": [
       "{'mean_fit_time': array([0.60679488, 0.23182058, 0.67479777, 0.40682678, 0.09432526,\n",
       "        0.18713498, 0.33612676, 0.224894  , 0.77626486, 0.34141011]),\n",
       " 'std_fit_time': array([0.01611335, 0.00104718, 0.01627366, 0.00916286, 0.00491579,\n",
       "        0.00374142, 0.031704  , 0.01547926, 0.01968523, 0.03079714]),\n",
       " 'mean_score_time': array([0.02367697, 0.01927395, 0.02499824, 0.01565676, 0.0096323 ,\n",
       "        0.01777096, 0.02223673, 0.01359267, 0.01933517, 0.01044064]),\n",
       " 'std_score_time': array([0.00466111, 0.00099034, 0.00269397, 0.00294274, 0.00080619,\n",
       "        0.00402602, 0.00181267, 0.00289682, 0.00151633, 0.00082181]),\n",
       " 'param_n_estimators': masked_array(data=[180, 150, 200, 120, 60, 120, 200, 110, 180, 110],\n",
       "              mask=[False, False, False, False, False, False, False, False,\n",
       "                    False, False],\n",
       "        fill_value='?',\n",
       "             dtype=object),\n",
       " 'param_criterion': masked_array(data=['mae', 'mse', 'mae', 'mae', 'mse', 'mse', 'mse', 'mse',\n",
       "                    'mae', 'mae'],\n",
       "              mask=[False, False, False, False, False, False, False, False,\n",
       "                    False, False],\n",
       "        fill_value='?',\n",
       "             dtype=object),\n",
       " 'param_bootstrap': masked_array(data=[True, False, True, True, False, False, False, True,\n",
       "                    False, True],\n",
       "              mask=[False, False, False, False, False, False, False, False,\n",
       "                    False, False],\n",
       "        fill_value='?',\n",
       "             dtype=object),\n",
       " 'params': [{'n_estimators': 180, 'criterion': 'mae', 'bootstrap': True},\n",
       "  {'n_estimators': 150, 'criterion': 'mse', 'bootstrap': False},\n",
       "  {'n_estimators': 200, 'criterion': 'mae', 'bootstrap': True},\n",
       "  {'n_estimators': 120, 'criterion': 'mae', 'bootstrap': True},\n",
       "  {'n_estimators': 60, 'criterion': 'mse', 'bootstrap': False},\n",
       "  {'n_estimators': 120, 'criterion': 'mse', 'bootstrap': False},\n",
       "  {'n_estimators': 200, 'criterion': 'mse', 'bootstrap': False},\n",
       "  {'n_estimators': 110, 'criterion': 'mse', 'bootstrap': True},\n",
       "  {'n_estimators': 180, 'criterion': 'mae', 'bootstrap': False},\n",
       "  {'n_estimators': 110, 'criterion': 'mae', 'bootstrap': True}],\n",
       " 'split0_test_score': array([ -93206.82250449, -111710.78532075,  -92823.09658248,\n",
       "         -96398.5713271 , -111844.42166473, -111760.59018082,\n",
       "        -111917.17217621,  -85570.09450076, -164121.4200142 ,\n",
       "         -95333.216513  ]),\n",
       " 'split1_test_score': array([ -82541.30792576, -111871.40956204,  -81073.44029076,\n",
       "         -80651.75598058, -111821.55728239, -112274.04546275,\n",
       "        -111763.27892187,  -87605.4863541 , -140187.47063572,\n",
       "         -80824.25272644]),\n",
       " 'split2_test_score': array([-124692.84724502, -196919.16103974, -120012.47690571,\n",
       "        -129943.81291053, -193841.9003273 , -199747.38419841,\n",
       "        -196236.48870795, -128306.51336538, -192233.54460808,\n",
       "        -127163.2629653 ]),\n",
       " 'split3_test_score': array([ -85076.18195835, -117146.52971686,  -85660.04420812,\n",
       "         -88725.61771804, -117790.25094939, -117388.93636547,\n",
       "        -118187.99530283,  -93141.07684295,  -91388.15364328,\n",
       "         -88643.60886589]),\n",
       " 'split4_test_score': array([ -68069.47853768, -138567.55135923,  -65914.81668144,\n",
       "         -67404.48319927, -140420.78967702, -140367.66835451,\n",
       "        -136215.819478  ,  -64500.70056496, -110123.13146768,\n",
       "         -65578.75884434]),\n",
       " 'mean_test_score': array([ -90717.32763426, -135243.08739972,  -89096.7749337 ,\n",
       "         -92624.84822711, -135143.78398016, -136307.72491239,\n",
       "        -134864.15091737,  -91824.77432563, -139610.74407379,\n",
       "         -91508.61998299]),\n",
       " 'std_test_score': array([18826.19668994, 32380.48821843, 17794.68632336, 20983.66917258,\n",
       "        31180.91500558, 33404.11244916, 31958.40778312, 20669.67998426,\n",
       "        36235.90073309, 20399.03329012]),\n",
       " 'rank_test_score': array([ 2,  8,  1,  5,  7,  9,  6,  4, 10,  3]),\n",
       " 'split0_train_score': array([-1.26666057e+04, -1.76361835e-25, -1.27974816e+04, -1.27870527e+04,\n",
       "        -3.92386867e-26, -1.48381961e-25, -3.25752523e-25, -1.33142625e+04,\n",
       "        -1.57219679e+02, -1.12133842e+04]),\n",
       " 'split1_train_score': array([-1.50687598e+04, -1.60677599e-25, -1.43932441e+04, -1.41045323e+04,\n",
       "        -3.75206031e-26, -1.48813004e-25, -2.87633242e-25, -1.29785406e+04,\n",
       "        -2.06852554e-25, -1.53075494e+04]),\n",
       " 'split2_train_score': array([-1.30724793e+04, -1.40056030e-25, -1.35541930e+04, -1.25843138e+04,\n",
       "        -2.84818904e-26, -1.52800724e-25, -1.89142301e-25, -1.24992104e+04,\n",
       "        -1.40588872e-25, -1.25776083e+04]),\n",
       " 'split3_train_score': array([-1.44034958e+04, -7.99337612e-26, -1.48334432e+04, -1.52906947e+04,\n",
       "        -2.08653789e-26, -1.99378370e-26, -2.13872988e-25, -1.33739405e+04,\n",
       "        -1.57856411e-25, -1.31303680e+04]),\n",
       " 'split4_train_score': array([-1.50535213e+04, -1.83171483e-25, -1.50261242e+04, -1.72551478e+04,\n",
       "        -4.09216230e-26, -1.53253460e-25, -3.30066092e-25, -1.48837172e+04,\n",
       "        -2.41715375e-25, -1.65205417e+04]),\n",
       " 'mean_train_score': array([-1.40529724e+04, -1.48040142e-25, -1.41208972e+04, -1.44043482e+04,\n",
       "        -3.34056364e-26, -1.24637397e-25, -2.69293429e-25, -1.34099343e+04,\n",
       "        -3.14439357e+01, -1.37498903e+04]),\n",
       " 'std_train_score': array([1.00390915e+03, 3.71436667e-26, 8.33536214e+02, 1.72804674e+03,\n",
       "        7.60195785e-27, 5.23876211e-26, 5.78150902e-26, 7.99750367e+02,\n",
       "        6.28878715e+01, 1.91283702e+03])}"
      ]
     },
     "execution_count": 31,
     "metadata": {},
     "output_type": "execute_result"
    }
   ],
   "source": [
    "result = ensemble_search.cv_results_\n",
    "result"
   ]
  },
  {
   "cell_type": "code",
   "execution_count": 32,
   "id": "9fff0fd7",
   "metadata": {},
   "outputs": [
    {
     "name": "stdout",
     "output_type": "stream",
     "text": [
      "-90717.3276342596 {'n_estimators': 180, 'criterion': 'mae', 'bootstrap': True}\n",
      "-135243.0873997233 {'n_estimators': 150, 'criterion': 'mse', 'bootstrap': False}\n",
      "-89096.77493370401 {'n_estimators': 200, 'criterion': 'mae', 'bootstrap': True}\n",
      "-92624.84822710592 {'n_estimators': 120, 'criterion': 'mae', 'bootstrap': True}\n",
      "-135143.78398016476 {'n_estimators': 60, 'criterion': 'mse', 'bootstrap': False}\n",
      "-136307.72491239264 {'n_estimators': 120, 'criterion': 'mse', 'bootstrap': False}\n",
      "-134864.15091737156 {'n_estimators': 200, 'criterion': 'mse', 'bootstrap': False}\n",
      "-91824.77432563188 {'n_estimators': 110, 'criterion': 'mse', 'bootstrap': True}\n",
      "-139610.74407379178 {'n_estimators': 180, 'criterion': 'mae', 'bootstrap': False}\n",
      "-91508.61998299303 {'n_estimators': 110, 'criterion': 'mae', 'bootstrap': True}\n"
     ]
    }
   ],
   "source": [
    "for mts, params in zip(result['mean_test_score'], result['params']):\n",
    "    print(mts, params)"
   ]
  },
  {
   "cell_type": "code",
   "execution_count": 33,
   "id": "d511449a",
   "metadata": {},
   "outputs": [
    {
     "name": "stdout",
     "output_type": "stream",
     "text": [
      "RandomForestRegressor RMSE value :  306.0786731552612\n",
      "Score with RandomForestRegressor is 0.801219198549418\n"
     ]
    }
   ],
   "source": [
    "ensemble_reg = ensemble_search.best_estimator_\n",
    "ensemble_reg.fit(x_train, y_train)\n",
    "ensemble_pred = ensemble_reg.predict(x_test)\n",
    "print('RandomForestRegressor RMSE value : ' , np.sqrt(mean_squared_error(ensemble_pred, y_test)))\n",
    "print('Score with RandomForestRegressor is', r2_score( y_test, ensemble_pred ))"
   ]
  },
  {
   "cell_type": "markdown",
   "id": "bdff76c0",
   "metadata": {},
   "source": [
    "Now will try with XGBRegressor"
   ]
  },
  {
   "cell_type": "code",
   "execution_count": 16,
   "id": "483ec11f",
   "metadata": {},
   "outputs": [],
   "source": [
    "max_depth = [1, 2, 3, 4, 5]\n",
    "learning_rate = [0.01, 0.05, 0.1]\n",
    "n_estimators = [100, 200, 300, 400, 500]\n",
    "reg_lambda = [0.001, 0.1, 1.0, 10.0, 100.0] \n",
    "\n",
    "tuned_params = {'max_depth': max_depth, 'learning_rate': learning_rate, \n",
    "                'n_estimators' : n_estimators, 'reg_lambda' : reg_lambda}"
   ]
  },
  {
   "cell_type": "code",
   "execution_count": 17,
   "id": "09e1a67d",
   "metadata": {},
   "outputs": [
    {
     "data": {
      "text/plain": [
       "RandomizedSearchCV(cv=5,\n",
       "                   estimator=XGBRegressor(base_score=None, booster=None,\n",
       "                                          colsample_bylevel=None,\n",
       "                                          colsample_bynode=None,\n",
       "                                          colsample_bytree=None,\n",
       "                                          enable_categorical=False, gamma=None,\n",
       "                                          gpu_id=None, importance_type=None,\n",
       "                                          interaction_constraints=None,\n",
       "                                          learning_rate=None,\n",
       "                                          max_delta_step=None, max_depth=None,\n",
       "                                          min_child_weight=None, missing=nan,\n",
       "                                          monotone_constraints=...\n",
       "                                          predictor=None, random_state=None,\n",
       "                                          reg_alpha=None, reg_lambda=None,\n",
       "                                          scale_pos_weight=None, subsample=None,\n",
       "                                          tree_method=None,\n",
       "                                          validate_parameters=None,\n",
       "                                          verbosity=None),\n",
       "                   n_iter=20, n_jobs=-1,\n",
       "                   param_distributions={'learning_rate': [0.01, 0.05, 0.1],\n",
       "                                        'max_depth': [1, 2, 3, 4, 5],\n",
       "                                        'n_estimators': [100, 200, 300, 400,\n",
       "                                                         500],\n",
       "                                        'reg_lambda': [0.001, 0.1, 1.0, 10.0,\n",
       "                                                       100.0]},\n",
       "                   scoring='neg_mean_absolute_error')"
      ]
     },
     "execution_count": 17,
     "metadata": {},
     "output_type": "execute_result"
    }
   ],
   "source": [
    "from xgboost import XGBRegressor\n",
    "from sklearn.model_selection import RandomizedSearchCV\n",
    "\n",
    "xgb =  XGBRegressor()\n",
    "\n",
    "xgb_search = RandomizedSearchCV( xgb, tuned_params, n_iter=20, scoring = 'neg_mean_absolute_error', cv=5, n_jobs=-1)\n",
    "xgb_search.fit(x_train, y_train)"
   ]
  },
  {
   "cell_type": "code",
   "execution_count": 18,
   "id": "f0901fb2",
   "metadata": {},
   "outputs": [
    {
     "data": {
      "text/plain": [
       "{'reg_lambda': 1.0, 'n_estimators': 500, 'max_depth': 5, 'learning_rate': 0.01}"
      ]
     },
     "execution_count": 18,
     "metadata": {},
     "output_type": "execute_result"
    }
   ],
   "source": [
    "xgb_search.best_params_"
   ]
  },
  {
   "cell_type": "code",
   "execution_count": 19,
   "id": "ff5e215b",
   "metadata": {},
   "outputs": [
    {
     "data": {
      "text/plain": [
       "{'mean_fit_time': array([0.42766848, 0.28047075, 0.10658131, 0.15196648, 0.5449728 ,\n",
       "        0.33337502, 0.20784345, 0.50503297, 0.13492446, 0.2250442 ,\n",
       "        0.07095919, 0.22066135, 0.58565173, 1.04245954, 0.17331061,\n",
       "        0.65156384, 1.43821526, 0.32160807, 1.28690567, 0.89511828]),\n",
       " 'std_fit_time': array([0.01529782, 0.02688878, 0.00674616, 0.00120385, 0.03575197,\n",
       "        0.01011693, 0.00648125, 0.00304615, 0.0035207 , 0.00718282,\n",
       "        0.0057194 , 0.0130438 , 0.01343591, 0.31430447, 0.0031678 ,\n",
       "        0.04068148, 0.01873115, 0.01015011, 0.01223662, 0.08639354]),\n",
       " 'mean_score_time': array([0.00827432, 0.0048183 , 0.00401716, 0.00722318, 0.00779095,\n",
       "        0.00602117, 0.00479393, 0.00556126, 0.00468998, 0.00683141,\n",
       "        0.00803533, 0.00679731, 0.00840492, 0.02034245, 0.0101841 ,\n",
       "        0.00994987, 0.0131021 , 0.00946093, 0.01225061, 0.01033015]),\n",
       " 'std_score_time': array([0.00189084, 0.00431965, 0.00358464, 0.00271463, 0.00239884,\n",
       "        0.0031074 , 0.00391423, 0.0029895 , 0.00321514, 0.0034503 ,\n",
       "        0.00059199, 0.0023917 , 0.00050355, 0.01363588, 0.00160669,\n",
       "        0.00344065, 0.00427272, 0.00171221, 0.00316618, 0.00451989]),\n",
       " 'param_reg_lambda': masked_array(data=[0.1, 0.1, 0.001, 100.0, 0.1, 100.0, 1.0, 0.1, 1.0, 0.1,\n",
       "                    10.0, 0.001, 0.1, 1.0, 100.0, 0.1, 1.0, 0.1, 100.0,\n",
       "                    10.0],\n",
       "              mask=[False, False, False, False, False, False, False, False,\n",
       "                    False, False, False, False, False, False, False, False,\n",
       "                    False, False, False, False],\n",
       "        fill_value='?',\n",
       "             dtype=object),\n",
       " 'param_n_estimators': masked_array(data=[300, 200, 100, 200, 400, 400, 300, 500, 200, 200, 100,\n",
       "                    300, 400, 500, 100, 400, 500, 200, 500, 500],\n",
       "              mask=[False, False, False, False, False, False, False, False,\n",
       "                    False, False, False, False, False, False, False, False,\n",
       "                    False, False, False, False],\n",
       "        fill_value='?',\n",
       "             dtype=object),\n",
       " 'param_max_depth': masked_array(data=[5, 5, 3, 2, 5, 2, 1, 3, 1, 4, 1, 1, 5, 5, 2, 1, 5, 1,\n",
       "                    5, 3],\n",
       "              mask=[False, False, False, False, False, False, False, False,\n",
       "                    False, False, False, False, False, False, False, False,\n",
       "                    False, False, False, False],\n",
       "        fill_value='?',\n",
       "             dtype=object),\n",
       " 'param_learning_rate': masked_array(data=[0.1, 0.05, 0.1, 0.1, 0.05, 0.01, 0.05, 0.1, 0.01, 0.1,\n",
       "                    0.01, 0.05, 0.01, 0.01, 0.01, 0.05, 0.1, 0.05, 0.1,\n",
       "                    0.1],\n",
       "              mask=[False, False, False, False, False, False, False, False,\n",
       "                    False, False, False, False, False, False, False, False,\n",
       "                    False, False, False, False],\n",
       "        fill_value='?',\n",
       "             dtype=object),\n",
       " 'params': [{'reg_lambda': 0.1,\n",
       "   'n_estimators': 300,\n",
       "   'max_depth': 5,\n",
       "   'learning_rate': 0.1},\n",
       "  {'reg_lambda': 0.1,\n",
       "   'n_estimators': 200,\n",
       "   'max_depth': 5,\n",
       "   'learning_rate': 0.05},\n",
       "  {'reg_lambda': 0.001,\n",
       "   'n_estimators': 100,\n",
       "   'max_depth': 3,\n",
       "   'learning_rate': 0.1},\n",
       "  {'reg_lambda': 100.0,\n",
       "   'n_estimators': 200,\n",
       "   'max_depth': 2,\n",
       "   'learning_rate': 0.1},\n",
       "  {'reg_lambda': 0.1,\n",
       "   'n_estimators': 400,\n",
       "   'max_depth': 5,\n",
       "   'learning_rate': 0.05},\n",
       "  {'reg_lambda': 100.0,\n",
       "   'n_estimators': 400,\n",
       "   'max_depth': 2,\n",
       "   'learning_rate': 0.01},\n",
       "  {'reg_lambda': 1.0,\n",
       "   'n_estimators': 300,\n",
       "   'max_depth': 1,\n",
       "   'learning_rate': 0.05},\n",
       "  {'reg_lambda': 0.1,\n",
       "   'n_estimators': 500,\n",
       "   'max_depth': 3,\n",
       "   'learning_rate': 0.1},\n",
       "  {'reg_lambda': 1.0,\n",
       "   'n_estimators': 200,\n",
       "   'max_depth': 1,\n",
       "   'learning_rate': 0.01},\n",
       "  {'reg_lambda': 0.1,\n",
       "   'n_estimators': 200,\n",
       "   'max_depth': 4,\n",
       "   'learning_rate': 0.1},\n",
       "  {'reg_lambda': 10.0,\n",
       "   'n_estimators': 100,\n",
       "   'max_depth': 1,\n",
       "   'learning_rate': 0.01},\n",
       "  {'reg_lambda': 0.001,\n",
       "   'n_estimators': 300,\n",
       "   'max_depth': 1,\n",
       "   'learning_rate': 0.05},\n",
       "  {'reg_lambda': 0.1,\n",
       "   'n_estimators': 400,\n",
       "   'max_depth': 5,\n",
       "   'learning_rate': 0.01},\n",
       "  {'reg_lambda': 1.0,\n",
       "   'n_estimators': 500,\n",
       "   'max_depth': 5,\n",
       "   'learning_rate': 0.01},\n",
       "  {'reg_lambda': 100.0,\n",
       "   'n_estimators': 100,\n",
       "   'max_depth': 2,\n",
       "   'learning_rate': 0.01},\n",
       "  {'reg_lambda': 0.1,\n",
       "   'n_estimators': 400,\n",
       "   'max_depth': 1,\n",
       "   'learning_rate': 0.05},\n",
       "  {'reg_lambda': 1.0,\n",
       "   'n_estimators': 500,\n",
       "   'max_depth': 5,\n",
       "   'learning_rate': 0.1},\n",
       "  {'reg_lambda': 0.1,\n",
       "   'n_estimators': 200,\n",
       "   'max_depth': 1,\n",
       "   'learning_rate': 0.05},\n",
       "  {'reg_lambda': 100.0,\n",
       "   'n_estimators': 500,\n",
       "   'max_depth': 5,\n",
       "   'learning_rate': 0.1},\n",
       "  {'reg_lambda': 10.0,\n",
       "   'n_estimators': 500,\n",
       "   'max_depth': 3,\n",
       "   'learning_rate': 0.1}],\n",
       " 'split0_test_score': array([-194.1415302 , -189.02153348, -177.36920468, -189.0229517 ,\n",
       "        -191.40632089, -222.53376683, -182.80799916, -209.94726571,\n",
       "        -266.46182362, -189.77223836, -292.68329701, -179.79124836,\n",
       "        -191.38934236, -178.16487924, -324.03904687, -175.10752644,\n",
       "        -190.24562085, -187.09587452, -185.92388322, -169.60107337]),\n",
       " 'split1_test_score': array([-224.73323315, -227.27395024, -203.42260243, -221.42762634,\n",
       "        -233.02018925, -282.80383804, -202.41103226, -222.68977872,\n",
       "        -272.63202637, -218.22034334, -343.70799866, -201.25597672,\n",
       "        -214.42791714, -200.63921384, -415.38601023, -198.13237183,\n",
       "        -210.23360223, -205.81279831, -201.11736731, -213.06893887]),\n",
       " 'split2_test_score': array([-202.33143388, -212.45311097, -205.7826106 , -253.11196489,\n",
       "        -213.29781007, -324.65921785, -190.51189079, -212.7309713 ,\n",
       "        -308.55623256, -212.75035486, -388.04622316, -190.27364879,\n",
       "        -209.93519487, -201.00656335, -439.98178691, -191.81632538,\n",
       "        -193.59962953, -189.90117082, -209.72478082, -205.03211896]),\n",
       " 'split3_test_score': array([-208.25465592, -203.11763611, -199.69057062, -196.57723186,\n",
       "        -213.58266697, -189.83745874, -198.37891948, -239.670834  ,\n",
       "        -251.72526514, -217.50439667, -281.33618835, -197.99656032,\n",
       "        -182.07687631, -185.30648363, -319.383279  , -197.23682842,\n",
       "        -209.12954025, -202.55644496, -200.94129072, -216.78115577]),\n",
       " 'split4_test_score': array([-197.31003968, -191.00256594, -199.36378562, -230.87167352,\n",
       "        -193.44158746, -319.1542076 , -204.58713261, -213.18769082,\n",
       "        -222.1447506 , -198.90403892, -345.75429843, -202.68484179,\n",
       "        -184.85463265, -181.13284288, -470.42754862, -202.90268639,\n",
       "        -196.47278561, -206.06811704, -195.31108655, -196.44840803]),\n",
       " 'mean_test_score': array([-205.35417856, -204.57375935, -197.12575479, -218.20228966,\n",
       "        -208.94971493, -267.79769781, -195.73939486, -219.64530811,\n",
       "        -264.30401966, -207.43027443, -330.30560112, -194.4004552 ,\n",
       "        -196.53679267, -189.24999659, -393.84353433, -193.03914769,\n",
       "        -199.93623569, -198.28688113, -198.60368173, -200.186339  ]),\n",
       " 'std_test_score': array([10.80304739, 14.18134101, 10.16365857, 23.27521599, 15.28417876,\n",
       "        53.33391065,  8.05367112, 10.89817773, 28.17054913, 11.23138203,\n",
       "        38.89911849,  8.47373193, 13.2035435 ,  9.71854348, 61.44090487,\n",
       "         9.63212527,  8.20498247,  8.13603101,  7.83684055, 16.81821339]),\n",
       " 'rank_test_score': array([12, 11,  6, 15, 14, 18,  4, 16, 17, 13, 19,  3,  5,  1, 20,  2,  9,\n",
       "         7,  8, 10])}"
      ]
     },
     "execution_count": 19,
     "metadata": {},
     "output_type": "execute_result"
    }
   ],
   "source": [
    "result = xgb_search.cv_results_\n",
    "result"
   ]
  },
  {
   "cell_type": "code",
   "execution_count": 20,
   "id": "4462e650",
   "metadata": {},
   "outputs": [
    {
     "name": "stdout",
     "output_type": "stream",
     "text": [
      "-205.3541785649354 {'reg_lambda': 0.1, 'n_estimators': 300, 'max_depth': 5, 'learning_rate': 0.1}\n",
      "-204.57375934852445 {'reg_lambda': 0.1, 'n_estimators': 200, 'max_depth': 5, 'learning_rate': 0.05}\n",
      "-197.12575478815197 {'reg_lambda': 0.001, 'n_estimators': 100, 'max_depth': 3, 'learning_rate': 0.1}\n",
      "-218.2022896628368 {'reg_lambda': 100.0, 'n_estimators': 200, 'max_depth': 2, 'learning_rate': 0.1}\n",
      "-208.94971492648378 {'reg_lambda': 0.1, 'n_estimators': 400, 'max_depth': 5, 'learning_rate': 0.05}\n",
      "-267.7976978106066 {'reg_lambda': 100.0, 'n_estimators': 400, 'max_depth': 2, 'learning_rate': 0.01}\n",
      "-195.7393948585479 {'reg_lambda': 1.0, 'n_estimators': 300, 'max_depth': 1, 'learning_rate': 0.05}\n",
      "-219.64530810974043 {'reg_lambda': 0.1, 'n_estimators': 500, 'max_depth': 3, 'learning_rate': 0.1}\n",
      "-264.30401965670836 {'reg_lambda': 1.0, 'n_estimators': 200, 'max_depth': 1, 'learning_rate': 0.01}\n",
      "-207.430274430078 {'reg_lambda': 0.1, 'n_estimators': 200, 'max_depth': 4, 'learning_rate': 0.1}\n",
      "-330.30560112195076 {'reg_lambda': 10.0, 'n_estimators': 100, 'max_depth': 1, 'learning_rate': 0.01}\n",
      "-194.4004551975608 {'reg_lambda': 0.001, 'n_estimators': 300, 'max_depth': 1, 'learning_rate': 0.05}\n",
      "-196.5367926657167 {'reg_lambda': 0.1, 'n_estimators': 400, 'max_depth': 5, 'learning_rate': 0.01}\n",
      "-189.24999658635352 {'reg_lambda': 1.0, 'n_estimators': 500, 'max_depth': 5, 'learning_rate': 0.01}\n",
      "-393.8435343271808 {'reg_lambda': 100.0, 'n_estimators': 100, 'max_depth': 2, 'learning_rate': 0.01}\n",
      "-193.03914768952038 {'reg_lambda': 0.1, 'n_estimators': 400, 'max_depth': 1, 'learning_rate': 0.05}\n",
      "-199.9362356942017 {'reg_lambda': 1.0, 'n_estimators': 500, 'max_depth': 5, 'learning_rate': 0.1}\n",
      "-198.28688113149215 {'reg_lambda': 0.1, 'n_estimators': 200, 'max_depth': 1, 'learning_rate': 0.05}\n",
      "-198.60368172521163 {'reg_lambda': 100.0, 'n_estimators': 500, 'max_depth': 5, 'learning_rate': 0.1}\n",
      "-200.1863389983134 {'reg_lambda': 10.0, 'n_estimators': 500, 'max_depth': 3, 'learning_rate': 0.1}\n"
     ]
    }
   ],
   "source": [
    "for mts, params in zip(result['mean_test_score'], result['params']):\n",
    "    print(mts, params)"
   ]
  },
  {
   "cell_type": "code",
   "execution_count": 21,
   "id": "afb1ff19",
   "metadata": {},
   "outputs": [
    {
     "name": "stdout",
     "output_type": "stream",
     "text": [
      "XGBRegressor RMSE value :  312.84352797871065\n",
      "Score with XGBRegressor is 0.7923353153610502\n"
     ]
    }
   ],
   "source": [
    "xgb_reg = xgb_search.best_estimator_\n",
    "xgb_reg.fit(x_train, y_train)\n",
    "xgb_pred = xgb_reg.predict(x_test)\n",
    "\n",
    "print('XGBRegressor RMSE value : ' , np.sqrt(mean_squared_error(xgb_pred, y_test)))\n",
    "print('Score with XGBRegressor is', r2_score( y_test, xgb_pred ))"
   ]
  },
  {
   "cell_type": "markdown",
   "id": "68bd7d94",
   "metadata": {},
   "source": [
    "Now will try with DecisionTreeRegressor"
   ]
  },
  {
   "cell_type": "code",
   "execution_count": 22,
   "id": "b441a46b",
   "metadata": {},
   "outputs": [],
   "source": [
    "max_depth = list(range(3,30))\n",
    "param_grid = {'max_depth' : max_depth }"
   ]
  },
  {
   "cell_type": "code",
   "execution_count": 24,
   "id": "2d24d64b",
   "metadata": {},
   "outputs": [
    {
     "data": {
      "text/plain": [
       "GridSearchCV(cv=10, estimator=DecisionTreeRegressor(),\n",
       "             param_grid={'max_depth': [3, 4, 5, 6, 7, 8, 9, 10, 11, 12, 13, 14,\n",
       "                                       15, 16, 17, 18, 19, 20, 21, 22, 23, 24,\n",
       "                                       25, 26, 27, 28, 29]})"
      ]
     },
     "execution_count": 24,
     "metadata": {},
     "output_type": "execute_result"
    }
   ],
   "source": [
    "from sklearn.tree import DecisionTreeRegressor\n",
    "from sklearn.model_selection import GridSearchCV\n",
    "\n",
    "dtr = DecisionTreeRegressor()\n",
    "\n",
    "dtr_search = GridSearchCV( dtr, param_grid, cv =10 )\n",
    "dtr_search.fit( x_train, y_train )"
   ]
  },
  {
   "cell_type": "code",
   "execution_count": 25,
   "id": "d72901dd",
   "metadata": {},
   "outputs": [
    {
     "data": {
      "text/plain": [
       "{'max_depth': 4}"
      ]
     },
     "execution_count": 25,
     "metadata": {},
     "output_type": "execute_result"
    }
   ],
   "source": [
    "dtr_search.best_params_"
   ]
  },
  {
   "cell_type": "code",
   "execution_count": 26,
   "id": "99e33dde",
   "metadata": {},
   "outputs": [
    {
     "data": {
      "text/plain": [
       "{'mean_fit_time': array([0.00373268, 0.00551701, 0.00442092, 0.00638602, 0.00655377,\n",
       "        0.00504277, 0.00516765, 0.00599597, 0.00536997, 0.00482185,\n",
       "        0.0051904 , 0.00594933, 0.00484385, 0.00615585, 0.00508523,\n",
       "        0.00395567, 0.00327086, 0.00705209, 0.00799444, 0.00313857,\n",
       "        0.00443385, 0.0064549 , 0.00518744, 0.00475132, 0.00335701,\n",
       "        0.0042629 , 0.00709548]),\n",
       " 'std_fit_time': array([0.00281768, 0.00639015, 0.00678825, 0.00783012, 0.00507508,\n",
       "        0.00439769, 0.00427476, 0.00309844, 0.00287305, 0.00286035,\n",
       "        0.00220114, 0.00340653, 0.00225533, 0.00346729, 0.00377758,\n",
       "        0.00362033, 0.00517285, 0.00267381, 0.00684873, 0.00430282,\n",
       "        0.00629445, 0.00382653, 0.00419704, 0.00535553, 0.0064773 ,\n",
       "        0.00398212, 0.00374209]),\n",
       " 'mean_score_time': array([0.00217357, 0.0019495 , 0.00325582, 0.00337994, 0.00198169,\n",
       "        0.0040406 , 0.00405519, 0.00315976, 0.00393462, 0.00432899,\n",
       "        0.00358577, 0.00377924, 0.00428822, 0.00351865, 0.00384543,\n",
       "        0.0046525 , 0.0040154 , 0.00282898, 0.0013752 , 0.00458007,\n",
       "        0.00521979, 0.00350373, 0.00387723, 0.00413954, 0.00362484,\n",
       "        0.00322411, 0.00294802]),\n",
       " 'std_score_time': array([0.00312531, 0.00471679, 0.00651828, 0.00616728, 0.00281174,\n",
       "        0.0044477 , 0.00424031, 0.00309346, 0.00254299, 0.00318473,\n",
       "        0.0022807 , 0.00268243, 0.00253296, 0.00345161, 0.00349548,\n",
       "        0.0035753 , 0.00654673, 0.00232825, 0.00266232, 0.00500776,\n",
       "        0.00613199, 0.00331151, 0.00355216, 0.00528391, 0.00515911,\n",
       "        0.00394874, 0.00375437]),\n",
       " 'param_max_depth': masked_array(data=[3, 4, 5, 6, 7, 8, 9, 10, 11, 12, 13, 14, 15, 16, 17,\n",
       "                    18, 19, 20, 21, 22, 23, 24, 25, 26, 27, 28, 29],\n",
       "              mask=[False, False, False, False, False, False, False, False,\n",
       "                    False, False, False, False, False, False, False, False,\n",
       "                    False, False, False, False, False, False, False, False,\n",
       "                    False, False, False],\n",
       "        fill_value='?',\n",
       "             dtype=object),\n",
       " 'params': [{'max_depth': 3},\n",
       "  {'max_depth': 4},\n",
       "  {'max_depth': 5},\n",
       "  {'max_depth': 6},\n",
       "  {'max_depth': 7},\n",
       "  {'max_depth': 8},\n",
       "  {'max_depth': 9},\n",
       "  {'max_depth': 10},\n",
       "  {'max_depth': 11},\n",
       "  {'max_depth': 12},\n",
       "  {'max_depth': 13},\n",
       "  {'max_depth': 14},\n",
       "  {'max_depth': 15},\n",
       "  {'max_depth': 16},\n",
       "  {'max_depth': 17},\n",
       "  {'max_depth': 18},\n",
       "  {'max_depth': 19},\n",
       "  {'max_depth': 20},\n",
       "  {'max_depth': 21},\n",
       "  {'max_depth': 22},\n",
       "  {'max_depth': 23},\n",
       "  {'max_depth': 24},\n",
       "  {'max_depth': 25},\n",
       "  {'max_depth': 26},\n",
       "  {'max_depth': 27},\n",
       "  {'max_depth': 28},\n",
       "  {'max_depth': 29}],\n",
       " 'split0_test_score': array([0.58611839, 0.70792973, 0.74680235, 0.72291343, 0.71369235,\n",
       "        0.68288115, 0.70297781, 0.69641731, 0.70063949, 0.69223784,\n",
       "        0.71560647, 0.71524132, 0.71570899, 0.70972868, 0.71203158,\n",
       "        0.7154644 , 0.70404096, 0.71206833, 0.71523875, 0.71230879,\n",
       "        0.69492868, 0.71319725, 0.72397683, 0.70079788, 0.71231292,\n",
       "        0.71523875, 0.70379636]),\n",
       " 'split1_test_score': array([0.73015966, 0.77657569, 0.70347125, 0.71876879, 0.72703985,\n",
       "        0.72246094, 0.78534106, 0.73597643, 0.75014247, 0.74914272,\n",
       "        0.74826072, 0.73775784, 0.74722215, 0.74563875, 0.74766014,\n",
       "        0.74911515, 0.72030509, 0.74721094, 0.74759872, 0.7470714 ,\n",
       "        0.72183606, 0.73046086, 0.73835111, 0.74579499, 0.7608891 ,\n",
       "        0.72125015, 0.74551374]),\n",
       " 'split2_test_score': array([0.63062606, 0.53331364, 0.63212262, 0.61386445, 0.46964994,\n",
       "        0.42137207, 0.56351216, 0.4375761 , 0.57514284, 0.54369006,\n",
       "        0.45373537, 0.48900988, 0.55421177, 0.54049253, 0.51791763,\n",
       "        0.45641294, 0.42545742, 0.61259436, 0.4587008 , 0.48649095,\n",
       "        0.51614824, 0.42268372, 0.45086091, 0.49866036, 0.43873359,\n",
       "        0.50933041, 0.40828462]),\n",
       " 'split3_test_score': array([0.79179823, 0.68621398, 0.54133318, 0.61579344, 0.60253441,\n",
       "        0.59232405, 0.59930263, 0.62178039, 0.60119872, 0.62361556,\n",
       "        0.60357978, 0.59942846, 0.60418259, 0.59422851, 0.576242  ,\n",
       "        0.61546097, 0.596705  , 0.6192669 , 0.57997782, 0.57700048,\n",
       "        0.61609511, 0.59479686, 0.60106692, 0.59409768, 0.62095597,\n",
       "        0.60307979, 0.58482766]),\n",
       " 'split4_test_score': array([0.72521758, 0.7701039 , 0.87015274, 0.87488351, 0.86695267,\n",
       "        0.87240314, 0.84294928, 0.86774281, 0.87598301, 0.85073158,\n",
       "        0.85712654, 0.86952554, 0.82282848, 0.85710585, 0.86229956,\n",
       "        0.83830304, 0.87015793, 0.85943907, 0.83317461, 0.84127009,\n",
       "        0.83514144, 0.84348108, 0.85006723, 0.86926363, 0.84029203,\n",
       "        0.82599009, 0.85196464]),\n",
       " 'split5_test_score': array([0.73182116, 0.78868717, 0.78951358, 0.81464537, 0.80944362,\n",
       "        0.76584191, 0.80218258, 0.80287663, 0.80120692, 0.75620113,\n",
       "        0.80550862, 0.80544798, 0.80776904, 0.80472168, 0.80495933,\n",
       "        0.80432689, 0.80492414, 0.80671145, 0.75479396, 0.80484394,\n",
       "        0.80491939, 0.80710126, 0.75640414, 0.80432168, 0.80500999,\n",
       "        0.80449877, 0.75576819]),\n",
       " 'split6_test_score': array([0.60291147, 0.82478183, 0.84654947, 0.88877732, 0.87706322,\n",
       "        0.73588914, 0.74602745, 0.83395441, 0.74127301, 0.74010893,\n",
       "        0.8546867 , 0.71946538, 0.84822103, 0.84128246, 0.84989248,\n",
       "        0.73150044, 0.8387497 , 0.85060258, 0.85071268, 0.84104887,\n",
       "        0.73204992, 0.73831104, 0.71338323, 0.71680417, 0.84687422,\n",
       "        0.73183605, 0.84299991]),\n",
       " 'split7_test_score': array([0.62422646, 0.67600249, 0.67715563, 0.63707696, 0.64480662,\n",
       "        0.65463556, 0.62689163, 0.66295507, 0.63677574, 0.61819061,\n",
       "        0.63185719, 0.59656035, 0.63857193, 0.62068671, 0.63997975,\n",
       "        0.60249231, 0.62061886, 0.63101011, 0.622704  , 0.69245952,\n",
       "        0.61964352, 0.60098167, 0.57697759, 0.67304164, 0.63920195,\n",
       "        0.6392172 , 0.6436225 ]),\n",
       " 'split8_test_score': array([0.75099971, 0.79196248, 0.63384551, 0.45213649, 0.62350592,\n",
       "        0.3933651 , 0.40183176, 0.34848688, 0.41221129, 0.57835854,\n",
       "        0.35095977, 0.38049041, 0.36697854, 0.58534307, 0.37659475,\n",
       "        0.60548378, 0.38978052, 0.41394432, 0.3371383 , 0.58665543,\n",
       "        0.38100819, 0.35158296, 0.30186648, 0.40845201, 0.32390455,\n",
       "        0.53239583, 0.5753518 ]),\n",
       " 'split9_test_score': array([0.90588054, 0.93452036, 0.81297734, 0.91765194, 0.81229329,\n",
       "        0.81252442, 0.91832817, 0.81633825, 0.91871202, 0.91874223,\n",
       "        0.81636377, 0.91753595, 0.81639026, 0.91745817, 0.91867936,\n",
       "        0.91752691, 0.81763749, 0.81760685, 0.81760685, 0.81629376,\n",
       "        0.91870761, 0.81642003, 0.81761171, 0.91743213, 0.91755322,\n",
       "        0.91757635, 0.81763662]),\n",
       " 'mean_test_score': array([0.70797593, 0.74900913, 0.72539237, 0.72565117, 0.71469819,\n",
       "        0.66536975, 0.69893445, 0.68241043, 0.70132855, 0.70710192,\n",
       "        0.68376849, 0.68304631, 0.69220848, 0.72166864, 0.70062566,\n",
       "        0.70360868, 0.67883771, 0.70704549, 0.67176465, 0.71054432,\n",
       "        0.68404782, 0.66190167, 0.65305662, 0.69286662, 0.69057275,\n",
       "        0.70004134, 0.6929766 ]),\n",
       " 'std_test_score': array([0.09396075, 0.10112637, 0.10081708, 0.14175339, 0.12410837,\n",
       "        0.14903802, 0.14524467, 0.16380819, 0.14332444, 0.11360597,\n",
       "        0.1642081 , 0.15929854, 0.14463702, 0.12507876, 0.16331619,\n",
       "        0.12875009, 0.16049425, 0.13264382, 0.16188976, 0.11800117,\n",
       "        0.15004791, 0.15900854, 0.16285729, 0.15038657, 0.17950851,\n",
       "        0.12384038, 0.1338512 ]),\n",
       " 'rank_test_score': array([ 7,  1,  3,  2,  5, 25, 14, 22, 11,  8, 20, 21, 17,  4, 12, 10, 23,\n",
       "         9, 24,  6, 19, 26, 27, 16, 18, 13, 15])}"
      ]
     },
     "execution_count": 26,
     "metadata": {},
     "output_type": "execute_result"
    }
   ],
   "source": [
    "result = dtr_search.cv_results_\n",
    "result"
   ]
  },
  {
   "cell_type": "code",
   "execution_count": 27,
   "id": "45e701d1",
   "metadata": {},
   "outputs": [
    {
     "name": "stdout",
     "output_type": "stream",
     "text": [
      "0.7079759264038321 {'max_depth': 3}\n",
      "0.7490091283145512 {'max_depth': 4}\n",
      "0.7253923662076183 {'max_depth': 5}\n",
      "0.7256511715400769 {'max_depth': 6}\n",
      "0.7146981889971459 {'max_depth': 7}\n",
      "0.6653697468014869 {'max_depth': 8}\n",
      "0.6989344527574688 {'max_depth': 9}\n",
      "0.682410426914054 {'max_depth': 10}\n",
      "0.7013285512871034 {'max_depth': 11}\n",
      "0.707101918956167 {'max_depth': 12}\n",
      "0.6837684929485166 {'max_depth': 13}\n",
      "0.6830463100565213 {'max_depth': 14}\n",
      "0.6922084778373951 {'max_depth': 15}\n",
      "0.7216686413326767 {'max_depth': 16}\n",
      "0.7006256594016832 {'max_depth': 17}\n",
      "0.7036086830595885 {'max_depth': 18}\n",
      "0.6788377113243802 {'max_depth': 19}\n",
      "0.707045490701881 {'max_depth': 20}\n",
      "0.6717646475114754 {'max_depth': 21}\n",
      "0.710544322414522 {'max_depth': 22}\n",
      "0.6840478156224463 {'max_depth': 23}\n",
      "0.6619016725349937 {'max_depth': 24}\n",
      "0.6530566153527702 {'max_depth': 25}\n",
      "0.6928666181278799 {'max_depth': 26}\n",
      "0.6905727538222284 {'max_depth': 27}\n",
      "0.7000413386045444 {'max_depth': 28}\n",
      "0.6929766042737859 {'max_depth': 29}\n"
     ]
    }
   ],
   "source": [
    "for mts, params in zip(result['mean_test_score'], result['params']):\n",
    "    print(mts, params)"
   ]
  },
  {
   "cell_type": "code",
   "execution_count": 28,
   "id": "c892486a",
   "metadata": {},
   "outputs": [
    {
     "name": "stdout",
     "output_type": "stream",
     "text": [
      "DecisionTreeRegressor RMSE value :  319.3319374904785\n",
      "Score with DecisionTreeRegressor is 0.7836320106973261\n"
     ]
    }
   ],
   "source": [
    "dtr_reg = dtr_search.best_estimator_\n",
    "dtr_reg.fit(x_train, y_train)\n",
    "dtr_pred = dtr_reg.predict(x_test)\n",
    "\n",
    "print('DecisionTreeRegressor RMSE value : ' , np.sqrt(mean_squared_error(dtr_pred, y_test)))\n",
    "print('Score with DecisionTreeRegressor is', r2_score( y_test, dtr_pred ))"
   ]
  },
  {
   "cell_type": "code",
   "execution_count": 35,
   "id": "f3c1b69e",
   "metadata": {},
   "outputs": [],
   "source": [
    "import pickle\n",
    "filename = 'Global_power_plant_capacitymw.pkl'\n",
    "pickle.dump(linreg, open(filename, 'wb' ))"
   ]
  },
  {
   "cell_type": "markdown",
   "id": "cab0702b",
   "metadata": {},
   "source": [
    "Saving the model with Linear Regression as the accuracy is 83% and is greatest among all other models."
   ]
  },
  {
   "cell_type": "code",
   "execution_count": 36,
   "id": "eb01f8ec",
   "metadata": {},
   "outputs": [
    {
     "name": "stdout",
     "output_type": "stream",
     "text": [
      "0.8243354322408437\n"
     ]
    }
   ],
   "source": [
    "filename = 'Global_power_plant_capacitymw.pkl'\n",
    "loaded_model = pickle.load(open(filename, 'rb'))\n",
    "result = loaded_model.score(x_test, y_test)\n",
    "print(result)"
   ]
  },
  {
   "cell_type": "markdown",
   "id": "fd90de8a",
   "metadata": {},
   "source": [
    "# Model Selection for Primary Fuel"
   ]
  },
  {
   "cell_type": "code",
   "execution_count": 37,
   "id": "088ef7a2",
   "metadata": {},
   "outputs": [],
   "source": [
    "x = df.drop(['primary_fuel'], axis = 1)\n",
    "y = df['primary_fuel']\n"
   ]
  },
  {
   "cell_type": "code",
   "execution_count": 38,
   "id": "10a16909",
   "metadata": {},
   "outputs": [
    {
     "data": {
      "text/html": [
       "<div>\n",
       "<style scoped>\n",
       "    .dataframe tbody tr th:only-of-type {\n",
       "        vertical-align: middle;\n",
       "    }\n",
       "\n",
       "    .dataframe tbody tr th {\n",
       "        vertical-align: top;\n",
       "    }\n",
       "\n",
       "    .dataframe thead th {\n",
       "        text-align: right;\n",
       "    }\n",
       "</style>\n",
       "<table border=\"1\" class=\"dataframe\">\n",
       "  <thead>\n",
       "    <tr style=\"text-align: right;\">\n",
       "      <th></th>\n",
       "      <th>capacity_mw</th>\n",
       "      <th>latitude</th>\n",
       "      <th>longitude</th>\n",
       "      <th>commissioning_year</th>\n",
       "      <th>geolocation_source</th>\n",
       "      <th>Total_generation</th>\n",
       "    </tr>\n",
       "  </thead>\n",
       "  <tbody>\n",
       "    <tr>\n",
       "      <th>3</th>\n",
       "      <td>135.0</td>\n",
       "      <td>23.8712</td>\n",
       "      <td>91.3602</td>\n",
       "      <td>2004.0</td>\n",
       "      <td>2</td>\n",
       "      <td>3643.093120</td>\n",
       "    </tr>\n",
       "    <tr>\n",
       "      <th>4</th>\n",
       "      <td>1800.0</td>\n",
       "      <td>21.9603</td>\n",
       "      <td>82.4091</td>\n",
       "      <td>2015.0</td>\n",
       "      <td>2</td>\n",
       "      <td>22248.789736</td>\n",
       "    </tr>\n",
       "    <tr>\n",
       "      <th>5</th>\n",
       "      <td>250.0</td>\n",
       "      <td>23.7689</td>\n",
       "      <td>68.6447</td>\n",
       "      <td>2005.0</td>\n",
       "      <td>2</td>\n",
       "      <td>5507.749000</td>\n",
       "    </tr>\n",
       "    <tr>\n",
       "      <th>6</th>\n",
       "      <td>60.0</td>\n",
       "      <td>10.4547</td>\n",
       "      <td>77.0078</td>\n",
       "      <td>1970.0</td>\n",
       "      <td>2</td>\n",
       "      <td>608.372850</td>\n",
       "    </tr>\n",
       "    <tr>\n",
       "      <th>7</th>\n",
       "      <td>192.0</td>\n",
       "      <td>32.2258</td>\n",
       "      <td>77.2070</td>\n",
       "      <td>2010.0</td>\n",
       "      <td>2</td>\n",
       "      <td>3447.784450</td>\n",
       "    </tr>\n",
       "    <tr>\n",
       "      <th>...</th>\n",
       "      <td>...</td>\n",
       "      <td>...</td>\n",
       "      <td>...</td>\n",
       "      <td>...</td>\n",
       "      <td>...</td>\n",
       "      <td>...</td>\n",
       "    </tr>\n",
       "    <tr>\n",
       "      <th>883</th>\n",
       "      <td>400.0</td>\n",
       "      <td>30.5669</td>\n",
       "      <td>79.5468</td>\n",
       "      <td>2006.0</td>\n",
       "      <td>2</td>\n",
       "      <td>7629.102800</td>\n",
       "    </tr>\n",
       "    <tr>\n",
       "      <th>890</th>\n",
       "      <td>1470.0</td>\n",
       "      <td>22.8725</td>\n",
       "      <td>73.3588</td>\n",
       "      <td>1986.0</td>\n",
       "      <td>2</td>\n",
       "      <td>27015.283000</td>\n",
       "    </tr>\n",
       "    <tr>\n",
       "      <th>891</th>\n",
       "      <td>540.0</td>\n",
       "      <td>20.2727</td>\n",
       "      <td>78.9792</td>\n",
       "      <td>2010.0</td>\n",
       "      <td>2</td>\n",
       "      <td>7236.948900</td>\n",
       "    </tr>\n",
       "    <tr>\n",
       "      <th>894</th>\n",
       "      <td>62.4</td>\n",
       "      <td>30.3033</td>\n",
       "      <td>77.5684</td>\n",
       "      <td>1991.0</td>\n",
       "      <td>2</td>\n",
       "      <td>951.547950</td>\n",
       "    </tr>\n",
       "    <tr>\n",
       "      <th>900</th>\n",
       "      <td>600.0</td>\n",
       "      <td>30.1081</td>\n",
       "      <td>77.3257</td>\n",
       "      <td>2007.0</td>\n",
       "      <td>2</td>\n",
       "      <td>16341.553750</td>\n",
       "    </tr>\n",
       "  </tbody>\n",
       "</table>\n",
       "<p>372 rows × 6 columns</p>\n",
       "</div>"
      ],
      "text/plain": [
       "     capacity_mw  latitude  longitude  commissioning_year  geolocation_source  \\\n",
       "3          135.0   23.8712    91.3602              2004.0                   2   \n",
       "4         1800.0   21.9603    82.4091              2015.0                   2   \n",
       "5          250.0   23.7689    68.6447              2005.0                   2   \n",
       "6           60.0   10.4547    77.0078              1970.0                   2   \n",
       "7          192.0   32.2258    77.2070              2010.0                   2   \n",
       "..           ...       ...        ...                 ...                 ...   \n",
       "883        400.0   30.5669    79.5468              2006.0                   2   \n",
       "890       1470.0   22.8725    73.3588              1986.0                   2   \n",
       "891        540.0   20.2727    78.9792              2010.0                   2   \n",
       "894         62.4   30.3033    77.5684              1991.0                   2   \n",
       "900        600.0   30.1081    77.3257              2007.0                   2   \n",
       "\n",
       "     Total_generation  \n",
       "3         3643.093120  \n",
       "4        22248.789736  \n",
       "5         5507.749000  \n",
       "6          608.372850  \n",
       "7         3447.784450  \n",
       "..                ...  \n",
       "883       7629.102800  \n",
       "890      27015.283000  \n",
       "891       7236.948900  \n",
       "894        951.547950  \n",
       "900      16341.553750  \n",
       "\n",
       "[372 rows x 6 columns]"
      ]
     },
     "execution_count": 38,
     "metadata": {},
     "output_type": "execute_result"
    }
   ],
   "source": [
    "x"
   ]
  },
  {
   "cell_type": "code",
   "execution_count": 39,
   "id": "753b4a6d",
   "metadata": {},
   "outputs": [
    {
     "data": {
      "text/plain": [
       "3      2\n",
       "4      1\n",
       "5      1\n",
       "6      3\n",
       "7      3\n",
       "      ..\n",
       "883    3\n",
       "890    1\n",
       "891    1\n",
       "894    3\n",
       "900    1\n",
       "Name: primary_fuel, Length: 372, dtype: int32"
      ]
     },
     "execution_count": 39,
     "metadata": {},
     "output_type": "execute_result"
    }
   ],
   "source": [
    "y"
   ]
  },
  {
   "cell_type": "code",
   "execution_count": 41,
   "id": "83a7ff38",
   "metadata": {},
   "outputs": [],
   "source": [
    "x_train, x_test, y_train, y_test = train_test_split(x,y, test_size = 0.33, random_state=25)"
   ]
  },
  {
   "cell_type": "code",
   "execution_count": 51,
   "id": "ef7bea4a",
   "metadata": {},
   "outputs": [
    {
     "name": "stdout",
     "output_type": "stream",
     "text": [
      "Classification Report with RandomForestClassifier : \n",
      "               precision    recall  f1-score   support\n",
      "\n",
      "           1       0.83      0.83      0.83        52\n",
      "           2       0.64      0.45      0.53        20\n",
      "           3       0.74      0.93      0.82        45\n",
      "           4       0.00      0.00      0.00         4\n",
      "           5       0.00      0.00      0.00         2\n",
      "\n",
      "    accuracy                           0.76       123\n",
      "   macro avg       0.44      0.44      0.44       123\n",
      "weighted avg       0.72      0.76      0.74       123\n",
      "\n",
      "Accuracy with RandomForestClassifier :  0.7642276422764228 \n",
      "\n",
      "Confusion Matrix with RandomForestClassifier :  \n",
      " [[43  3  2  4  0]\n",
      " [ 2  9  1  0  2]\n",
      " [ 7  8 42  0  0]\n",
      " [ 0  0  0  0  0]\n",
      " [ 0  0  0  0  0]] \n",
      "\n"
     ]
    }
   ],
   "source": [
    "from sklearn.ensemble import RandomForestClassifier\n",
    "from sklearn.metrics import accuracy_score, classification_report, confusion_matrix, roc_auc_score\n",
    "\n",
    "rf = RandomForestClassifier(max_depth=10, max_features = 0.25, n_estimators=25)\n",
    "rf.fit(x_train,y_train)\n",
    "rf_pred = rf.predict(x_test)\n",
    "print('Classification Report with RandomForestClassifier :', \"\\n\",  classification_report(y_test,rf_pred))\n",
    "print('Accuracy with RandomForestClassifier : ', accuracy_score(rf_pred,y_test) , \"\\n\")\n",
    "print('Confusion Matrix with RandomForestClassifier : ', \"\\n\", confusion_matrix(rf_pred,y_test), \"\\n\")\n"
   ]
  },
  {
   "cell_type": "code",
   "execution_count": 52,
   "id": "902af635",
   "metadata": {},
   "outputs": [
    {
     "name": "stdout",
     "output_type": "stream",
     "text": [
      "Classification Report with DecisionTreeClassifier : \n",
      "               precision    recall  f1-score   support\n",
      "\n",
      "           1       0.76      0.81      0.79        52\n",
      "           2       0.00      0.00      0.00        20\n",
      "           3       0.54      0.82      0.65        45\n",
      "           4       0.00      0.00      0.00         4\n",
      "           5       0.00      0.00      0.00         2\n",
      "\n",
      "    accuracy                           0.64       123\n",
      "   macro avg       0.26      0.33      0.29       123\n",
      "weighted avg       0.52      0.64      0.57       123\n",
      "\n",
      "Accuracy with DecisionTreeClassifier :  0.6422764227642277 \n",
      "\n",
      "Confusion Matrix with DecisionTreeClassifier :  \n",
      " [[42  1  8  4  0]\n",
      " [ 0  0  0  0  0]\n",
      " [10 19 37  0  2]\n",
      " [ 0  0  0  0  0]\n",
      " [ 0  0  0  0  0]] \n",
      "\n"
     ]
    }
   ],
   "source": [
    "from sklearn.tree import DecisionTreeClassifier\n",
    "\n",
    "dtc = DecisionTreeClassifier(max_depth=3,min_samples_leaf = 35)\n",
    "dtc.fit(x_train,y_train)\n",
    "dtc_pred = dtc.predict(x_test)\n",
    "\n",
    "print('Classification Report with DecisionTreeClassifier :', \"\\n\",  classification_report(y_test,dtc_pred))\n",
    "print('Accuracy with DecisionTreeClassifier : ', accuracy_score(dtc_pred,y_test) , \"\\n\")\n",
    "print('Confusion Matrix with DecisionTreeClassifier : ', \"\\n\", confusion_matrix(dtc_pred,y_test), \"\\n\")"
   ]
  },
  {
   "cell_type": "code",
   "execution_count": 54,
   "id": "19261ea1",
   "metadata": {},
   "outputs": [
    {
     "name": "stdout",
     "output_type": "stream",
     "text": [
      "[16:26:48] WARNING: C:/Users/Administrator/workspace/xgboost-win64_release_1.5.1/src/learner.cc:1115: Starting in XGBoost 1.3.0, the default evaluation metric used with the objective 'multi:softprob' was changed from 'merror' to 'mlogloss'. Explicitly set eval_metric if you'd like to restore the old behavior.\n",
      "Classification Report with XGBClassifier : \n",
      "               precision    recall  f1-score   support\n",
      "\n",
      "           1       0.83      0.75      0.79        52\n",
      "           2       0.59      0.50      0.54        20\n",
      "           3       0.72      0.93      0.82        45\n",
      "           4       0.00      0.00      0.00         4\n",
      "           5       0.00      0.00      0.00         2\n",
      "\n",
      "    accuracy                           0.74       123\n",
      "   macro avg       0.43      0.44      0.43       123\n",
      "weighted avg       0.71      0.74      0.72       123\n",
      "\n",
      "Accuracy with XGBClassifier :  0.7398373983739838 \n",
      "\n",
      "Confusion Matrix with XGBClassifier :  \n",
      " [[39  2  2  4  0]\n",
      " [ 5 10  1  0  1]\n",
      " [ 8  7 42  0  1]\n",
      " [ 0  0  0  0  0]\n",
      " [ 0  1  0  0  0]] \n",
      "\n"
     ]
    }
   ],
   "source": [
    "from xgboost import XGBClassifier\n",
    "\n",
    "xgb = XGBClassifier()\n",
    "xgb.fit(x_train, y_train)\n",
    "xgb_pred = xgb.predict(x_test)\n",
    "\n",
    "print('Classification Report with XGBClassifier :', \"\\n\",  classification_report(y_test,xgb_pred))\n",
    "print('Accuracy with XGBClassifier : ', accuracy_score(xgb_pred,y_test) , \"\\n\")\n",
    "print('Confusion Matrix with XGBClassifier : ', \"\\n\", confusion_matrix(xgb_pred,y_test), \"\\n\")\n"
   ]
  },
  {
   "cell_type": "code",
   "execution_count": 55,
   "id": "edfa8907",
   "metadata": {},
   "outputs": [
    {
     "name": "stdout",
     "output_type": "stream",
     "text": [
      "Classification Report with LogisticRegression : \n",
      "               precision    recall  f1-score   support\n",
      "\n",
      "           1       0.82      0.69      0.75        52\n",
      "           2       0.50      0.05      0.09        20\n",
      "           3       0.53      0.91      0.67        45\n",
      "           4       0.00      0.00      0.00         4\n",
      "           5       0.00      0.00      0.00         2\n",
      "\n",
      "    accuracy                           0.63       123\n",
      "   macro avg       0.37      0.33      0.30       123\n",
      "weighted avg       0.62      0.63      0.58       123\n",
      "\n",
      "Accuracy with LogisticRegression :  0.6341463414634146 \n",
      "\n",
      "Confusion Matrix with LogisticRegression :  \n",
      " [[36  0  4  4  0]\n",
      " [ 1  1  0  0  0]\n",
      " [15 19 41  0  2]\n",
      " [ 0  0  0  0  0]\n",
      " [ 0  0  0  0  0]] \n",
      "\n"
     ]
    }
   ],
   "source": [
    "from sklearn.linear_model import LogisticRegression\n",
    "\n",
    "lr = LogisticRegression()\n",
    "lr.fit(x_train, y_train)\n",
    "lr_predict = lr.predict(x_test)\n",
    "\n",
    "print('Classification Report with LogisticRegression :', \"\\n\",  classification_report(y_test,lr_predict))\n",
    "print('Accuracy with LogisticRegression : ', accuracy_score(lr_predict,y_test) , \"\\n\")\n",
    "print('Confusion Matrix with LogisticRegression : ', \"\\n\", confusion_matrix(lr_predict,y_test), \"\\n\")"
   ]
  },
  {
   "cell_type": "code",
   "execution_count": 58,
   "id": "7c6e7191",
   "metadata": {},
   "outputs": [],
   "source": [
    "import pickle\n",
    "filename = 'Global_power_plant_primaryfuel.pkl'\n",
    "pickle.dump(rf, open(filename, 'wb' ))"
   ]
  },
  {
   "cell_type": "markdown",
   "id": "d3cd08dd",
   "metadata": {},
   "source": [
    "Saving the model with RandomForestClassifier as the accuracy is 77 % the greatest among all the other models"
   ]
  },
  {
   "cell_type": "code",
   "execution_count": 59,
   "id": "2ee5ca40",
   "metadata": {},
   "outputs": [
    {
     "name": "stdout",
     "output_type": "stream",
     "text": [
      "0.7642276422764228\n"
     ]
    }
   ],
   "source": [
    "filename = 'Global_power_plant_primaryfuel.pkl'\n",
    "loaded_model = pickle.load(open(filename, 'rb'))\n",
    "result = loaded_model.score(x_test, y_test)\n",
    "print(result)"
   ]
  }
 ],
 "metadata": {
  "kernelspec": {
   "display_name": "Python 3",
   "language": "python",
   "name": "python3"
  },
  "language_info": {
   "codemirror_mode": {
    "name": "ipython",
    "version": 3
   },
   "file_extension": ".py",
   "mimetype": "text/x-python",
   "name": "python",
   "nbconvert_exporter": "python",
   "pygments_lexer": "ipython3",
   "version": "3.8.8"
  }
 },
 "nbformat": 4,
 "nbformat_minor": 5
}
