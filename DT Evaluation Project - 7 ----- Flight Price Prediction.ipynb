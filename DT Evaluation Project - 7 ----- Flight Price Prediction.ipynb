{
 "cells": [
  {
   "cell_type": "code",
   "execution_count": 1,
   "id": "144205f4",
   "metadata": {},
   "outputs": [],
   "source": [
    "import pandas as pd\n",
    "import warnings\n",
    "warnings.filterwarnings('ignore')"
   ]
  },
  {
   "cell_type": "code",
   "execution_count": 2,
   "id": "4676ad3d",
   "metadata": {},
   "outputs": [
    {
     "data": {
      "text/html": [
       "<div>\n",
       "<style scoped>\n",
       "    .dataframe tbody tr th:only-of-type {\n",
       "        vertical-align: middle;\n",
       "    }\n",
       "\n",
       "    .dataframe tbody tr th {\n",
       "        vertical-align: top;\n",
       "    }\n",
       "\n",
       "    .dataframe thead th {\n",
       "        text-align: right;\n",
       "    }\n",
       "</style>\n",
       "<table border=\"1\" class=\"dataframe\">\n",
       "  <thead>\n",
       "    <tr style=\"text-align: right;\">\n",
       "      <th></th>\n",
       "      <th>Airline</th>\n",
       "      <th>Date_of_Journey</th>\n",
       "      <th>Source</th>\n",
       "      <th>Destination</th>\n",
       "      <th>Route</th>\n",
       "      <th>Dep_Time</th>\n",
       "      <th>Arrival_Time</th>\n",
       "      <th>Duration</th>\n",
       "      <th>Total_Stops</th>\n",
       "      <th>Additional_Info</th>\n",
       "      <th>Price</th>\n",
       "    </tr>\n",
       "  </thead>\n",
       "  <tbody>\n",
       "    <tr>\n",
       "      <th>0</th>\n",
       "      <td>IndiGo</td>\n",
       "      <td>24/03/2019</td>\n",
       "      <td>Banglore</td>\n",
       "      <td>New Delhi</td>\n",
       "      <td>BLR → DEL</td>\n",
       "      <td>22:20</td>\n",
       "      <td>01:10 22 Mar</td>\n",
       "      <td>2h 50m</td>\n",
       "      <td>non-stop</td>\n",
       "      <td>No info</td>\n",
       "      <td>3897</td>\n",
       "    </tr>\n",
       "    <tr>\n",
       "      <th>1</th>\n",
       "      <td>Air India</td>\n",
       "      <td>1/05/2019</td>\n",
       "      <td>Kolkata</td>\n",
       "      <td>Banglore</td>\n",
       "      <td>CCU → IXR → BBI → BLR</td>\n",
       "      <td>05:50</td>\n",
       "      <td>13:15</td>\n",
       "      <td>7h 25m</td>\n",
       "      <td>2 stops</td>\n",
       "      <td>No info</td>\n",
       "      <td>7662</td>\n",
       "    </tr>\n",
       "    <tr>\n",
       "      <th>2</th>\n",
       "      <td>Jet Airways</td>\n",
       "      <td>9/06/2019</td>\n",
       "      <td>Delhi</td>\n",
       "      <td>Cochin</td>\n",
       "      <td>DEL → LKO → BOM → COK</td>\n",
       "      <td>09:25</td>\n",
       "      <td>04:25 10 Jun</td>\n",
       "      <td>19h</td>\n",
       "      <td>2 stops</td>\n",
       "      <td>No info</td>\n",
       "      <td>13882</td>\n",
       "    </tr>\n",
       "    <tr>\n",
       "      <th>3</th>\n",
       "      <td>IndiGo</td>\n",
       "      <td>12/05/2019</td>\n",
       "      <td>Kolkata</td>\n",
       "      <td>Banglore</td>\n",
       "      <td>CCU → NAG → BLR</td>\n",
       "      <td>18:05</td>\n",
       "      <td>23:30</td>\n",
       "      <td>5h 25m</td>\n",
       "      <td>1 stop</td>\n",
       "      <td>No info</td>\n",
       "      <td>6218</td>\n",
       "    </tr>\n",
       "    <tr>\n",
       "      <th>4</th>\n",
       "      <td>IndiGo</td>\n",
       "      <td>01/03/2019</td>\n",
       "      <td>Banglore</td>\n",
       "      <td>New Delhi</td>\n",
       "      <td>BLR → NAG → DEL</td>\n",
       "      <td>16:50</td>\n",
       "      <td>21:35</td>\n",
       "      <td>4h 45m</td>\n",
       "      <td>1 stop</td>\n",
       "      <td>No info</td>\n",
       "      <td>13302</td>\n",
       "    </tr>\n",
       "  </tbody>\n",
       "</table>\n",
       "</div>"
      ],
      "text/plain": [
       "       Airline Date_of_Journey    Source Destination                  Route  \\\n",
       "0       IndiGo      24/03/2019  Banglore   New Delhi              BLR → DEL   \n",
       "1    Air India       1/05/2019   Kolkata    Banglore  CCU → IXR → BBI → BLR   \n",
       "2  Jet Airways       9/06/2019     Delhi      Cochin  DEL → LKO → BOM → COK   \n",
       "3       IndiGo      12/05/2019   Kolkata    Banglore        CCU → NAG → BLR   \n",
       "4       IndiGo      01/03/2019  Banglore   New Delhi        BLR → NAG → DEL   \n",
       "\n",
       "  Dep_Time  Arrival_Time Duration Total_Stops Additional_Info  Price  \n",
       "0    22:20  01:10 22 Mar   2h 50m    non-stop         No info   3897  \n",
       "1    05:50         13:15   7h 25m     2 stops         No info   7662  \n",
       "2    09:25  04:25 10 Jun      19h     2 stops         No info  13882  \n",
       "3    18:05         23:30   5h 25m      1 stop         No info   6218  \n",
       "4    16:50         21:35   4h 45m      1 stop         No info  13302  "
      ]
     },
     "execution_count": 2,
     "metadata": {},
     "output_type": "execute_result"
    }
   ],
   "source": [
    "df = pd.read_excel('Flight_Price_Prediction/Data_Train.xlsx')\n",
    "df.head()"
   ]
  },
  {
   "cell_type": "code",
   "execution_count": 3,
   "id": "69b59bc3",
   "metadata": {},
   "outputs": [
    {
     "data": {
      "text/plain": [
       "(10683, 11)"
      ]
     },
     "execution_count": 3,
     "metadata": {},
     "output_type": "execute_result"
    }
   ],
   "source": [
    "df.shape"
   ]
  },
  {
   "cell_type": "code",
   "execution_count": 4,
   "id": "791e94c1",
   "metadata": {},
   "outputs": [
    {
     "name": "stdout",
     "output_type": "stream",
     "text": [
      "<class 'pandas.core.frame.DataFrame'>\n",
      "RangeIndex: 10683 entries, 0 to 10682\n",
      "Data columns (total 11 columns):\n",
      " #   Column           Non-Null Count  Dtype \n",
      "---  ------           --------------  ----- \n",
      " 0   Airline          10683 non-null  object\n",
      " 1   Date_of_Journey  10683 non-null  object\n",
      " 2   Source           10683 non-null  object\n",
      " 3   Destination      10683 non-null  object\n",
      " 4   Route            10682 non-null  object\n",
      " 5   Dep_Time         10683 non-null  object\n",
      " 6   Arrival_Time     10683 non-null  object\n",
      " 7   Duration         10683 non-null  object\n",
      " 8   Total_Stops      10682 non-null  object\n",
      " 9   Additional_Info  10683 non-null  object\n",
      " 10  Price            10683 non-null  int64 \n",
      "dtypes: int64(1), object(10)\n",
      "memory usage: 918.2+ KB\n"
     ]
    }
   ],
   "source": [
    "df.info()"
   ]
  },
  {
   "cell_type": "code",
   "execution_count": 26,
   "id": "f2ba57ee",
   "metadata": {},
   "outputs": [
    {
     "data": {
      "text/plain": [
       "Airline            0\n",
       "Date_of_Journey    0\n",
       "Source             0\n",
       "Destination        0\n",
       "Route              1\n",
       "Dep_Time           0\n",
       "Arrival_Time       0\n",
       "Duration           0\n",
       "Total_Stops        1\n",
       "Additional_Info    0\n",
       "Price              0\n",
       "year               0\n",
       "month              0\n",
       "Day                0\n",
       "dtype: int64"
      ]
     },
     "execution_count": 26,
     "metadata": {},
     "output_type": "execute_result"
    }
   ],
   "source": [
    "df.isnull().sum()"
   ]
  },
  {
   "cell_type": "code",
   "execution_count": 3,
   "id": "35f0fccb",
   "metadata": {},
   "outputs": [
    {
     "data": {
      "text/plain": [
       "(10682, 11)"
      ]
     },
     "execution_count": 3,
     "metadata": {},
     "output_type": "execute_result"
    }
   ],
   "source": [
    "df.dropna(axis = 0, inplace = True)\n",
    "df.shape"
   ]
  },
  {
   "cell_type": "markdown",
   "id": "8436c892",
   "metadata": {},
   "source": [
    "Only one row needs to be dropped as Route & Total Stops is null, hence dropping the same"
   ]
  },
  {
   "cell_type": "code",
   "execution_count": 27,
   "id": "b32b3acf",
   "metadata": {},
   "outputs": [
    {
     "data": {
      "text/html": [
       "<div>\n",
       "<style scoped>\n",
       "    .dataframe tbody tr th:only-of-type {\n",
       "        vertical-align: middle;\n",
       "    }\n",
       "\n",
       "    .dataframe tbody tr th {\n",
       "        vertical-align: top;\n",
       "    }\n",
       "\n",
       "    .dataframe thead th {\n",
       "        text-align: right;\n",
       "    }\n",
       "</style>\n",
       "<table border=\"1\" class=\"dataframe\">\n",
       "  <thead>\n",
       "    <tr style=\"text-align: right;\">\n",
       "      <th></th>\n",
       "      <th>Price</th>\n",
       "      <th>year</th>\n",
       "      <th>month</th>\n",
       "      <th>Day</th>\n",
       "    </tr>\n",
       "  </thead>\n",
       "  <tbody>\n",
       "    <tr>\n",
       "      <th>count</th>\n",
       "      <td>10683.000000</td>\n",
       "      <td>10683.0</td>\n",
       "      <td>10683.000000</td>\n",
       "      <td>10683.000000</td>\n",
       "    </tr>\n",
       "    <tr>\n",
       "      <th>mean</th>\n",
       "      <td>9087.064121</td>\n",
       "      <td>2019.0</td>\n",
       "      <td>5.534775</td>\n",
       "      <td>12.682205</td>\n",
       "    </tr>\n",
       "    <tr>\n",
       "      <th>std</th>\n",
       "      <td>4611.359167</td>\n",
       "      <td>0.0</td>\n",
       "      <td>2.987489</td>\n",
       "      <td>8.803701</td>\n",
       "    </tr>\n",
       "    <tr>\n",
       "      <th>min</th>\n",
       "      <td>1759.000000</td>\n",
       "      <td>2019.0</td>\n",
       "      <td>1.000000</td>\n",
       "      <td>3.000000</td>\n",
       "    </tr>\n",
       "    <tr>\n",
       "      <th>25%</th>\n",
       "      <td>5277.000000</td>\n",
       "      <td>2019.0</td>\n",
       "      <td>3.000000</td>\n",
       "      <td>5.000000</td>\n",
       "    </tr>\n",
       "    <tr>\n",
       "      <th>50%</th>\n",
       "      <td>8372.000000</td>\n",
       "      <td>2019.0</td>\n",
       "      <td>5.000000</td>\n",
       "      <td>6.000000</td>\n",
       "    </tr>\n",
       "    <tr>\n",
       "      <th>75%</th>\n",
       "      <td>12373.000000</td>\n",
       "      <td>2019.0</td>\n",
       "      <td>6.000000</td>\n",
       "      <td>21.000000</td>\n",
       "    </tr>\n",
       "    <tr>\n",
       "      <th>max</th>\n",
       "      <td>79512.000000</td>\n",
       "      <td>2019.0</td>\n",
       "      <td>12.000000</td>\n",
       "      <td>27.000000</td>\n",
       "    </tr>\n",
       "  </tbody>\n",
       "</table>\n",
       "</div>"
      ],
      "text/plain": [
       "              Price     year         month           Day\n",
       "count  10683.000000  10683.0  10683.000000  10683.000000\n",
       "mean    9087.064121   2019.0      5.534775     12.682205\n",
       "std     4611.359167      0.0      2.987489      8.803701\n",
       "min     1759.000000   2019.0      1.000000      3.000000\n",
       "25%     5277.000000   2019.0      3.000000      5.000000\n",
       "50%     8372.000000   2019.0      5.000000      6.000000\n",
       "75%    12373.000000   2019.0      6.000000     21.000000\n",
       "max    79512.000000   2019.0     12.000000     27.000000"
      ]
     },
     "execution_count": 27,
     "metadata": {},
     "output_type": "execute_result"
    }
   ],
   "source": [
    "df.describe()"
   ]
  },
  {
   "cell_type": "markdown",
   "id": "2ec614f7",
   "metadata": {},
   "source": [
    "Maximum ticket price is INR 79512 \n",
    "\n",
    "Minimum ticket price is INR 1759"
   ]
  },
  {
   "cell_type": "code",
   "execution_count": 8,
   "id": "d43822d3",
   "metadata": {},
   "outputs": [
    {
     "data": {
      "text/plain": [
       "array(['Banglore', 'Kolkata', 'Delhi', 'Chennai', 'Mumbai'], dtype=object)"
      ]
     },
     "execution_count": 8,
     "metadata": {},
     "output_type": "execute_result"
    }
   ],
   "source": [
    "df['Source'].unique()"
   ]
  },
  {
   "cell_type": "code",
   "execution_count": 9,
   "id": "b5820316",
   "metadata": {},
   "outputs": [
    {
     "data": {
      "text/plain": [
       "array(['New Delhi', 'Banglore', 'Cochin', 'Kolkata', 'Delhi', 'Hyderabad'],\n",
       "      dtype=object)"
      ]
     },
     "execution_count": 9,
     "metadata": {},
     "output_type": "execute_result"
    }
   ],
   "source": [
    "df['Destination'].unique()"
   ]
  },
  {
   "cell_type": "markdown",
   "id": "1b612340",
   "metadata": {},
   "source": [
    "All the flight are from 5 different cities to all other 6 different cities except the same city."
   ]
  },
  {
   "cell_type": "code",
   "execution_count": 4,
   "id": "e3b349b3",
   "metadata": {},
   "outputs": [],
   "source": [
    "df['year'] = pd.DatetimeIndex(df['Date_of_Journey']).year\n",
    "df['month'] = pd.DatetimeIndex(df['Date_of_Journey']).month\n",
    "df['Day'] = pd.DatetimeIndex(df['Date_of_Journey']).day"
   ]
  },
  {
   "cell_type": "code",
   "execution_count": 6,
   "id": "9754412e",
   "metadata": {},
   "outputs": [
    {
     "data": {
      "text/html": [
       "<div>\n",
       "<style scoped>\n",
       "    .dataframe tbody tr th:only-of-type {\n",
       "        vertical-align: middle;\n",
       "    }\n",
       "\n",
       "    .dataframe tbody tr th {\n",
       "        vertical-align: top;\n",
       "    }\n",
       "\n",
       "    .dataframe thead th {\n",
       "        text-align: right;\n",
       "    }\n",
       "</style>\n",
       "<table border=\"1\" class=\"dataframe\">\n",
       "  <thead>\n",
       "    <tr style=\"text-align: right;\">\n",
       "      <th></th>\n",
       "      <th>Airline</th>\n",
       "      <th>Date_of_Journey</th>\n",
       "      <th>Source</th>\n",
       "      <th>Destination</th>\n",
       "      <th>Route</th>\n",
       "      <th>Dep_Time</th>\n",
       "      <th>Arrival_Time</th>\n",
       "      <th>Duration</th>\n",
       "      <th>Total_Stops</th>\n",
       "      <th>Additional_Info</th>\n",
       "      <th>Price</th>\n",
       "      <th>year</th>\n",
       "      <th>month</th>\n",
       "      <th>Day</th>\n",
       "    </tr>\n",
       "  </thead>\n",
       "  <tbody>\n",
       "    <tr>\n",
       "      <th>0</th>\n",
       "      <td>IndiGo</td>\n",
       "      <td>24/03/2019</td>\n",
       "      <td>Banglore</td>\n",
       "      <td>New Delhi</td>\n",
       "      <td>BLR → DEL</td>\n",
       "      <td>22:20</td>\n",
       "      <td>01:10 22 Mar</td>\n",
       "      <td>2h 50m</td>\n",
       "      <td>non-stop</td>\n",
       "      <td>No info</td>\n",
       "      <td>3897</td>\n",
       "      <td>2019</td>\n",
       "      <td>3</td>\n",
       "      <td>24</td>\n",
       "    </tr>\n",
       "    <tr>\n",
       "      <th>1</th>\n",
       "      <td>Air India</td>\n",
       "      <td>1/05/2019</td>\n",
       "      <td>Kolkata</td>\n",
       "      <td>Banglore</td>\n",
       "      <td>CCU → IXR → BBI → BLR</td>\n",
       "      <td>05:50</td>\n",
       "      <td>13:15</td>\n",
       "      <td>7h 25m</td>\n",
       "      <td>2 stops</td>\n",
       "      <td>No info</td>\n",
       "      <td>7662</td>\n",
       "      <td>2019</td>\n",
       "      <td>1</td>\n",
       "      <td>5</td>\n",
       "    </tr>\n",
       "    <tr>\n",
       "      <th>2</th>\n",
       "      <td>Jet Airways</td>\n",
       "      <td>9/06/2019</td>\n",
       "      <td>Delhi</td>\n",
       "      <td>Cochin</td>\n",
       "      <td>DEL → LKO → BOM → COK</td>\n",
       "      <td>09:25</td>\n",
       "      <td>04:25 10 Jun</td>\n",
       "      <td>19h</td>\n",
       "      <td>2 stops</td>\n",
       "      <td>No info</td>\n",
       "      <td>13882</td>\n",
       "      <td>2019</td>\n",
       "      <td>9</td>\n",
       "      <td>6</td>\n",
       "    </tr>\n",
       "    <tr>\n",
       "      <th>3</th>\n",
       "      <td>IndiGo</td>\n",
       "      <td>12/05/2019</td>\n",
       "      <td>Kolkata</td>\n",
       "      <td>Banglore</td>\n",
       "      <td>CCU → NAG → BLR</td>\n",
       "      <td>18:05</td>\n",
       "      <td>23:30</td>\n",
       "      <td>5h 25m</td>\n",
       "      <td>1 stop</td>\n",
       "      <td>No info</td>\n",
       "      <td>6218</td>\n",
       "      <td>2019</td>\n",
       "      <td>12</td>\n",
       "      <td>5</td>\n",
       "    </tr>\n",
       "    <tr>\n",
       "      <th>4</th>\n",
       "      <td>IndiGo</td>\n",
       "      <td>01/03/2019</td>\n",
       "      <td>Banglore</td>\n",
       "      <td>New Delhi</td>\n",
       "      <td>BLR → NAG → DEL</td>\n",
       "      <td>16:50</td>\n",
       "      <td>21:35</td>\n",
       "      <td>4h 45m</td>\n",
       "      <td>1 stop</td>\n",
       "      <td>No info</td>\n",
       "      <td>13302</td>\n",
       "      <td>2019</td>\n",
       "      <td>1</td>\n",
       "      <td>3</td>\n",
       "    </tr>\n",
       "  </tbody>\n",
       "</table>\n",
       "</div>"
      ],
      "text/plain": [
       "       Airline Date_of_Journey    Source Destination                  Route  \\\n",
       "0       IndiGo      24/03/2019  Banglore   New Delhi              BLR → DEL   \n",
       "1    Air India       1/05/2019   Kolkata    Banglore  CCU → IXR → BBI → BLR   \n",
       "2  Jet Airways       9/06/2019     Delhi      Cochin  DEL → LKO → BOM → COK   \n",
       "3       IndiGo      12/05/2019   Kolkata    Banglore        CCU → NAG → BLR   \n",
       "4       IndiGo      01/03/2019  Banglore   New Delhi        BLR → NAG → DEL   \n",
       "\n",
       "  Dep_Time  Arrival_Time Duration Total_Stops Additional_Info  Price  year  \\\n",
       "0    22:20  01:10 22 Mar   2h 50m    non-stop         No info   3897  2019   \n",
       "1    05:50         13:15   7h 25m     2 stops         No info   7662  2019   \n",
       "2    09:25  04:25 10 Jun      19h     2 stops         No info  13882  2019   \n",
       "3    18:05         23:30   5h 25m      1 stop         No info   6218  2019   \n",
       "4    16:50         21:35   4h 45m      1 stop         No info  13302  2019   \n",
       "\n",
       "   month  Day  \n",
       "0      3   24  \n",
       "1      1    5  \n",
       "2      9    6  \n",
       "3     12    5  \n",
       "4      1    3  "
      ]
     },
     "execution_count": 6,
     "metadata": {},
     "output_type": "execute_result"
    }
   ],
   "source": [
    "df.head()"
   ]
  },
  {
   "cell_type": "code",
   "execution_count": 14,
   "id": "a8ed9f90",
   "metadata": {},
   "outputs": [
    {
     "data": {
      "text/plain": [
       "No info                         8345\n",
       "In-flight meal not included     1982\n",
       "No check-in baggage included     320\n",
       "1 Long layover                    19\n",
       "Change airports                    7\n",
       "Business class                     4\n",
       "No Info                            3\n",
       "Red-eye flight                     1\n",
       "1 Short layover                    1\n",
       "2 Long layover                     1\n",
       "Name: Additional_Info, dtype: int64"
      ]
     },
     "execution_count": 14,
     "metadata": {},
     "output_type": "execute_result"
    }
   ],
   "source": [
    "df['Additional_Info'].value_counts()"
   ]
  },
  {
   "cell_type": "markdown",
   "id": "b11d63d8",
   "metadata": {},
   "source": [
    "# Data Visualization"
   ]
  },
  {
   "cell_type": "code",
   "execution_count": 24,
   "id": "32601af4",
   "metadata": {},
   "outputs": [
    {
     "data": {
      "text/plain": [
       "([0, 1, 2, 3, 4, 5, 6, 7, 8, 9],\n",
       " [Text(0, 0, ''),\n",
       "  Text(0, 0, ''),\n",
       "  Text(0, 0, ''),\n",
       "  Text(0, 0, ''),\n",
       "  Text(0, 0, ''),\n",
       "  Text(0, 0, ''),\n",
       "  Text(0, 0, ''),\n",
       "  Text(0, 0, ''),\n",
       "  Text(0, 0, ''),\n",
       "  Text(0, 0, '')])"
      ]
     },
     "execution_count": 24,
     "metadata": {},
     "output_type": "execute_result"
    },
    {
     "data": {
      "image/png": "[encoded data removed]",
      "text/plain": [
       "<Figure size 720x720 with 1 Axes>"
      ]
     },
     "metadata": {
      "needs_background": "light"
     },
     "output_type": "display_data"
    }
   ],
   "source": [
    "import matplotlib.pyplot as plt\n",
    "\n",
    "plt.figure(figsize = (10, 10))\n",
    "plt.title('Price VS Additional Information')\n",
    "plt.scatter( df['Additional_Info'], df['Price'] )\n",
    "plt.xlabel('Information')\n",
    "plt.ylabel('Price of ticket')\n",
    "plt.xticks(rotation = 90)"
   ]
  },
  {
   "cell_type": "markdown",
   "id": "c1620dce",
   "metadata": {},
   "source": [
    "Through scatter plot, we can see that ticket prices for Business class is higher."
   ]
  },
  {
   "cell_type": "code",
   "execution_count": 19,
   "id": "ee96d793",
   "metadata": {},
   "outputs": [
    {
     "data": {
      "text/plain": [
       "Text(0, 0.5, 'Count of flights')"
      ]
     },
     "execution_count": 19,
     "metadata": {},
     "output_type": "execute_result"
    },
    {
     "data": {
      "image/png": "[encoded data removed]",
      "text/plain": [
       "<Figure size 720x720 with 1 Axes>"
      ]
     },
     "metadata": {
      "needs_background": "light"
     },
     "output_type": "display_data"
    }
   ],
   "source": [
    "import seaborn as sns\n",
    "\n",
    "plt.figure(figsize = (10 , 10))\n",
    "plt.title('Count of flights month wise')\n",
    "sns.countplot(x = 'month', data = df)\n",
    "plt.xlabel('Month')\n",
    "plt.ylabel('Count of flights')"
   ]
  },
  {
   "cell_type": "markdown",
   "id": "c55dacf0",
   "metadata": {},
   "source": [
    "2500 flights scheduled in month of June and lower than 500 flights scheduled in April month"
   ]
  },
  {
   "cell_type": "code",
   "execution_count": 23,
   "id": "7c4e9ba5",
   "metadata": {},
   "outputs": [
    {
     "data": {
      "text/plain": [
       "([0, 1, 2, 3, 4, 5, 6, 7, 8, 9, 10, 11],\n",
       " [Text(0, 0, ''),\n",
       "  Text(0, 0, ''),\n",
       "  Text(0, 0, ''),\n",
       "  Text(0, 0, ''),\n",
       "  Text(0, 0, ''),\n",
       "  Text(0, 0, ''),\n",
       "  Text(0, 0, ''),\n",
       "  Text(0, 0, ''),\n",
       "  Text(0, 0, ''),\n",
       "  Text(0, 0, ''),\n",
       "  Text(0, 0, ''),\n",
       "  Text(0, 0, '')])"
      ]
     },
     "execution_count": 23,
     "metadata": {},
     "output_type": "execute_result"
    },
    {
     "data": {
      "image/png": "[encoded data removed]",
      "text/plain": [
       "<Figure size 720x720 with 1 Axes>"
      ]
     },
     "metadata": {
      "needs_background": "light"
     },
     "output_type": "display_data"
    }
   ],
   "source": [
    "plt.figure(figsize = (10, 10))\n",
    "plt.title('Price VS Airlines')\n",
    "plt.scatter(df['Airline'], df['Price'])\n",
    "plt.xlabel('Airline')\n",
    "plt.ylabel('Price of ticket')\n",
    "plt.xticks(rotation = 90)"
   ]
  },
  {
   "cell_type": "markdown",
   "id": "56896de1",
   "metadata": {},
   "source": [
    "The ticket rate for Jet Airways Business airline is high."
   ]
  },
  {
   "cell_type": "code",
   "execution_count": 25,
   "id": "dfc1fd31",
   "metadata": {},
   "outputs": [
    {
     "data": {
      "text/plain": [
       "(array([ 0,  1,  2,  3,  4,  5,  6,  7,  8,  9, 10, 11]),\n",
       " [Text(0, 0, 'IndiGo'),\n",
       "  Text(1, 0, 'Air India'),\n",
       "  Text(2, 0, 'Jet Airways'),\n",
       "  Text(3, 0, 'SpiceJet'),\n",
       "  Text(4, 0, 'Multiple carriers'),\n",
       "  Text(5, 0, 'GoAir'),\n",
       "  Text(6, 0, 'Vistara'),\n",
       "  Text(7, 0, 'Air Asia'),\n",
       "  Text(8, 0, 'Vistara Premium economy'),\n",
       "  Text(9, 0, 'Jet Airways Business'),\n",
       "  Text(10, 0, 'Multiple carriers Premium economy'),\n",
       "  Text(11, 0, 'Trujet')])"
      ]
     },
     "execution_count": 25,
     "metadata": {},
     "output_type": "execute_result"
    },
    {
     "data": {
      "image/png": "[encoded data removed]",
      "text/plain": [
       "<Figure size 720x720 with 1 Axes>"
      ]
     },
     "metadata": {
      "needs_background": "light"
     },
     "output_type": "display_data"
    }
   ],
   "source": [
    "plt.figure(figsize = (10, 10))\n",
    "plt.title('Count of flights with different Airlines')\n",
    "sns.countplot(x = 'Airline', data = df)\n",
    "plt.xlabel('Airline')\n",
    "plt.ylabel('Count of flights')\n",
    "plt.xticks(rotation = 90)"
   ]
  },
  {
   "cell_type": "markdown",
   "id": "ebada35e",
   "metadata": {},
   "source": [
    "Jet Airways have almost 4000 flights, which is greatest in the dataset.\n",
    "\n",
    "Trujet, Vistara Premium economy and Jet Airways Business have very less flights."
   ]
  },
  {
   "cell_type": "code",
   "execution_count": 7,
   "id": "62c9c203",
   "metadata": {},
   "outputs": [
    {
     "name": "stdout",
     "output_type": "stream",
     "text": [
      "<class 'pandas.core.frame.DataFrame'>\n",
      "Int64Index: 10682 entries, 0 to 10682\n",
      "Data columns (total 14 columns):\n",
      " #   Column           Non-Null Count  Dtype \n",
      "---  ------           --------------  ----- \n",
      " 0   Airline          10682 non-null  object\n",
      " 1   Date_of_Journey  10682 non-null  object\n",
      " 2   Source           10682 non-null  object\n",
      " 3   Destination      10682 non-null  object\n",
      " 4   Route            10682 non-null  object\n",
      " 5   Dep_Time         10682 non-null  object\n",
      " 6   Arrival_Time     10682 non-null  object\n",
      " 7   Duration         10682 non-null  object\n",
      " 8   Total_Stops      10682 non-null  object\n",
      " 9   Additional_Info  10682 non-null  object\n",
      " 10  Price            10682 non-null  int64 \n",
      " 11  year             10682 non-null  int64 \n",
      " 12  month            10682 non-null  int64 \n",
      " 13  Day              10682 non-null  int64 \n",
      "dtypes: int64(4), object(10)\n",
      "memory usage: 1.2+ MB\n"
     ]
    }
   ],
   "source": [
    "df.info()"
   ]
  },
  {
   "cell_type": "code",
   "execution_count": 5,
   "id": "0821f7bc",
   "metadata": {},
   "outputs": [],
   "source": [
    "def Dep_period( x ):\n",
    "    if int( x[:2] ) >= 0 and int( x[:2] ) < 6:\n",
    "        return 'Mid Night'\n",
    "    elif int( x[:2] ) >= 6 and int( x[:2] ) < 12:\n",
    "        return 'Morning'\n",
    "    elif int( x[:2] ) >= 12 and int( x[:2] ) < 18:\n",
    "        return 'Afternoon'\n",
    "    elif int( x[:2] ) >= 18 and int( x[:2] ) < 24:\n",
    "        return 'Evening'"
   ]
  },
  {
   "cell_type": "code",
   "execution_count": 6,
   "id": "62942a85",
   "metadata": {},
   "outputs": [],
   "source": [
    "df['Dep_Period'] = df['Dep_Time'].apply( Dep_period )"
   ]
  },
  {
   "cell_type": "markdown",
   "id": "c319829b",
   "metadata": {},
   "source": [
    "Applying function to convert or bifurcate Dep Time into parocular Departure Intervals as Morning, Evening, Afternnon & Mid Night"
   ]
  },
  {
   "cell_type": "code",
   "execution_count": 7,
   "id": "c2329271",
   "metadata": {},
   "outputs": [
    {
     "data": {
      "text/html": [
       "<div>\n",
       "<style scoped>\n",
       "    .dataframe tbody tr th:only-of-type {\n",
       "        vertical-align: middle;\n",
       "    }\n",
       "\n",
       "    .dataframe tbody tr th {\n",
       "        vertical-align: top;\n",
       "    }\n",
       "\n",
       "    .dataframe thead th {\n",
       "        text-align: right;\n",
       "    }\n",
       "</style>\n",
       "<table border=\"1\" class=\"dataframe\">\n",
       "  <thead>\n",
       "    <tr style=\"text-align: right;\">\n",
       "      <th></th>\n",
       "      <th>Airline</th>\n",
       "      <th>Date_of_Journey</th>\n",
       "      <th>Source</th>\n",
       "      <th>Destination</th>\n",
       "      <th>Route</th>\n",
       "      <th>Dep_Time</th>\n",
       "      <th>Arrival_Time</th>\n",
       "      <th>Duration</th>\n",
       "      <th>Total_Stops</th>\n",
       "      <th>Additional_Info</th>\n",
       "      <th>Price</th>\n",
       "      <th>year</th>\n",
       "      <th>month</th>\n",
       "      <th>Day</th>\n",
       "      <th>Dep_Period</th>\n",
       "    </tr>\n",
       "  </thead>\n",
       "  <tbody>\n",
       "    <tr>\n",
       "      <th>0</th>\n",
       "      <td>IndiGo</td>\n",
       "      <td>24/03/2019</td>\n",
       "      <td>Banglore</td>\n",
       "      <td>New Delhi</td>\n",
       "      <td>BLR → DEL</td>\n",
       "      <td>22:20</td>\n",
       "      <td>01:10 22 Mar</td>\n",
       "      <td>2h 50m</td>\n",
       "      <td>non-stop</td>\n",
       "      <td>No info</td>\n",
       "      <td>3897</td>\n",
       "      <td>2019</td>\n",
       "      <td>3</td>\n",
       "      <td>24</td>\n",
       "      <td>Evening</td>\n",
       "    </tr>\n",
       "    <tr>\n",
       "      <th>1</th>\n",
       "      <td>Air India</td>\n",
       "      <td>1/05/2019</td>\n",
       "      <td>Kolkata</td>\n",
       "      <td>Banglore</td>\n",
       "      <td>CCU → IXR → BBI → BLR</td>\n",
       "      <td>05:50</td>\n",
       "      <td>13:15</td>\n",
       "      <td>7h 25m</td>\n",
       "      <td>2 stops</td>\n",
       "      <td>No info</td>\n",
       "      <td>7662</td>\n",
       "      <td>2019</td>\n",
       "      <td>1</td>\n",
       "      <td>5</td>\n",
       "      <td>Mid Night</td>\n",
       "    </tr>\n",
       "    <tr>\n",
       "      <th>2</th>\n",
       "      <td>Jet Airways</td>\n",
       "      <td>9/06/2019</td>\n",
       "      <td>Delhi</td>\n",
       "      <td>Cochin</td>\n",
       "      <td>DEL → LKO → BOM → COK</td>\n",
       "      <td>09:25</td>\n",
       "      <td>04:25 10 Jun</td>\n",
       "      <td>19h</td>\n",
       "      <td>2 stops</td>\n",
       "      <td>No info</td>\n",
       "      <td>13882</td>\n",
       "      <td>2019</td>\n",
       "      <td>9</td>\n",
       "      <td>6</td>\n",
       "      <td>Morning</td>\n",
       "    </tr>\n",
       "    <tr>\n",
       "      <th>3</th>\n",
       "      <td>IndiGo</td>\n",
       "      <td>12/05/2019</td>\n",
       "      <td>Kolkata</td>\n",
       "      <td>Banglore</td>\n",
       "      <td>CCU → NAG → BLR</td>\n",
       "      <td>18:05</td>\n",
       "      <td>23:30</td>\n",
       "      <td>5h 25m</td>\n",
       "      <td>1 stop</td>\n",
       "      <td>No info</td>\n",
       "      <td>6218</td>\n",
       "      <td>2019</td>\n",
       "      <td>12</td>\n",
       "      <td>5</td>\n",
       "      <td>Evening</td>\n",
       "    </tr>\n",
       "    <tr>\n",
       "      <th>4</th>\n",
       "      <td>IndiGo</td>\n",
       "      <td>01/03/2019</td>\n",
       "      <td>Banglore</td>\n",
       "      <td>New Delhi</td>\n",
       "      <td>BLR → NAG → DEL</td>\n",
       "      <td>16:50</td>\n",
       "      <td>21:35</td>\n",
       "      <td>4h 45m</td>\n",
       "      <td>1 stop</td>\n",
       "      <td>No info</td>\n",
       "      <td>13302</td>\n",
       "      <td>2019</td>\n",
       "      <td>1</td>\n",
       "      <td>3</td>\n",
       "      <td>Afternoon</td>\n",
       "    </tr>\n",
       "  </tbody>\n",
       "</table>\n",
       "</div>"
      ],
      "text/plain": [
       "       Airline Date_of_Journey    Source Destination                  Route  \\\n",
       "0       IndiGo      24/03/2019  Banglore   New Delhi              BLR → DEL   \n",
       "1    Air India       1/05/2019   Kolkata    Banglore  CCU → IXR → BBI → BLR   \n",
       "2  Jet Airways       9/06/2019     Delhi      Cochin  DEL → LKO → BOM → COK   \n",
       "3       IndiGo      12/05/2019   Kolkata    Banglore        CCU → NAG → BLR   \n",
       "4       IndiGo      01/03/2019  Banglore   New Delhi        BLR → NAG → DEL   \n",
       "\n",
       "  Dep_Time  Arrival_Time Duration Total_Stops Additional_Info  Price  year  \\\n",
       "0    22:20  01:10 22 Mar   2h 50m    non-stop         No info   3897  2019   \n",
       "1    05:50         13:15   7h 25m     2 stops         No info   7662  2019   \n",
       "2    09:25  04:25 10 Jun      19h     2 stops         No info  13882  2019   \n",
       "3    18:05         23:30   5h 25m      1 stop         No info   6218  2019   \n",
       "4    16:50         21:35   4h 45m      1 stop         No info  13302  2019   \n",
       "\n",
       "   month  Day Dep_Period  \n",
       "0      3   24    Evening  \n",
       "1      1    5  Mid Night  \n",
       "2      9    6    Morning  \n",
       "3     12    5    Evening  \n",
       "4      1    3  Afternoon  "
      ]
     },
     "execution_count": 7,
     "metadata": {},
     "output_type": "execute_result"
    }
   ],
   "source": [
    "df.head()"
   ]
  },
  {
   "cell_type": "code",
   "execution_count": 20,
   "id": "f666e61a",
   "metadata": {},
   "outputs": [
    {
     "data": {
      "text/html": [
       "<div>\n",
       "<style scoped>\n",
       "    .dataframe tbody tr th:only-of-type {\n",
       "        vertical-align: middle;\n",
       "    }\n",
       "\n",
       "    .dataframe tbody tr th {\n",
       "        vertical-align: top;\n",
       "    }\n",
       "\n",
       "    .dataframe thead th {\n",
       "        text-align: right;\n",
       "    }\n",
       "</style>\n",
       "<table border=\"1\" class=\"dataframe\">\n",
       "  <thead>\n",
       "    <tr style=\"text-align: right;\">\n",
       "      <th></th>\n",
       "      <th>Airline</th>\n",
       "      <th>Source</th>\n",
       "      <th>Destination</th>\n",
       "      <th>Total_Stops</th>\n",
       "      <th>Additional_Info</th>\n",
       "      <th>Price</th>\n",
       "      <th>year</th>\n",
       "      <th>month</th>\n",
       "      <th>Day</th>\n",
       "      <th>Dep_Period</th>\n",
       "    </tr>\n",
       "  </thead>\n",
       "  <tbody>\n",
       "    <tr>\n",
       "      <th>0</th>\n",
       "      <td>3</td>\n",
       "      <td>0</td>\n",
       "      <td>5</td>\n",
       "      <td>4</td>\n",
       "      <td>8</td>\n",
       "      <td>3897</td>\n",
       "      <td>2019</td>\n",
       "      <td>3</td>\n",
       "      <td>24</td>\n",
       "      <td>1</td>\n",
       "    </tr>\n",
       "    <tr>\n",
       "      <th>1</th>\n",
       "      <td>1</td>\n",
       "      <td>3</td>\n",
       "      <td>0</td>\n",
       "      <td>1</td>\n",
       "      <td>8</td>\n",
       "      <td>7662</td>\n",
       "      <td>2019</td>\n",
       "      <td>1</td>\n",
       "      <td>5</td>\n",
       "      <td>2</td>\n",
       "    </tr>\n",
       "    <tr>\n",
       "      <th>2</th>\n",
       "      <td>4</td>\n",
       "      <td>2</td>\n",
       "      <td>1</td>\n",
       "      <td>1</td>\n",
       "      <td>8</td>\n",
       "      <td>13882</td>\n",
       "      <td>2019</td>\n",
       "      <td>9</td>\n",
       "      <td>6</td>\n",
       "      <td>3</td>\n",
       "    </tr>\n",
       "    <tr>\n",
       "      <th>3</th>\n",
       "      <td>3</td>\n",
       "      <td>3</td>\n",
       "      <td>0</td>\n",
       "      <td>0</td>\n",
       "      <td>8</td>\n",
       "      <td>6218</td>\n",
       "      <td>2019</td>\n",
       "      <td>12</td>\n",
       "      <td>5</td>\n",
       "      <td>1</td>\n",
       "    </tr>\n",
       "    <tr>\n",
       "      <th>4</th>\n",
       "      <td>3</td>\n",
       "      <td>0</td>\n",
       "      <td>5</td>\n",
       "      <td>0</td>\n",
       "      <td>8</td>\n",
       "      <td>13302</td>\n",
       "      <td>2019</td>\n",
       "      <td>1</td>\n",
       "      <td>3</td>\n",
       "      <td>0</td>\n",
       "    </tr>\n",
       "  </tbody>\n",
       "</table>\n",
       "</div>"
      ],
      "text/plain": [
       "   Airline  Source  Destination  Total_Stops  Additional_Info  Price  year  \\\n",
       "0        3       0            5            4                8   3897  2019   \n",
       "1        1       3            0            1                8   7662  2019   \n",
       "2        4       2            1            1                8  13882  2019   \n",
       "3        3       3            0            0                8   6218  2019   \n",
       "4        3       0            5            0                8  13302  2019   \n",
       "\n",
       "   month  Day  Dep_Period  \n",
       "0      3   24           1  \n",
       "1      1    5           2  \n",
       "2      9    6           3  \n",
       "3     12    5           1  \n",
       "4      1    3           0  "
      ]
     },
     "execution_count": 20,
     "metadata": {},
     "output_type": "execute_result"
    }
   ],
   "source": [
    "from sklearn.preprocessing import LabelEncoder\n",
    "\n",
    "le = LabelEncoder()\n",
    "\n",
    "df['Airline'] = le.fit_transform ( df['Airline'] )\n",
    "df['Source'] = le.fit_transform ( df['Source'] )\n",
    "df['Destination'] = le.fit_transform ( df['Destination'] )\n",
    "df['Total_Stops'] = le.fit_transform ( df['Total_Stops'] )\n",
    "df['Additional_Info'] = le.fit_transform ( df['Additional_Info'] )\n",
    "df['Dep_Period'] = le.fit_transform ( df['Dep_Period'] )\n",
    "\n",
    "df.head()"
   ]
  },
  {
   "cell_type": "code",
   "execution_count": 22,
   "id": "bf80005c",
   "metadata": {},
   "outputs": [
    {
     "data": {
      "text/html": [
       "<div>\n",
       "<style scoped>\n",
       "    .dataframe tbody tr th:only-of-type {\n",
       "        vertical-align: middle;\n",
       "    }\n",
       "\n",
       "    .dataframe tbody tr th {\n",
       "        vertical-align: top;\n",
       "    }\n",
       "\n",
       "    .dataframe thead th {\n",
       "        text-align: right;\n",
       "    }\n",
       "</style>\n",
       "<table border=\"1\" class=\"dataframe\">\n",
       "  <thead>\n",
       "    <tr style=\"text-align: right;\">\n",
       "      <th></th>\n",
       "      <th>Airline</th>\n",
       "      <th>Source</th>\n",
       "      <th>Destination</th>\n",
       "      <th>Total_Stops</th>\n",
       "      <th>Additional_Info</th>\n",
       "      <th>Price</th>\n",
       "      <th>year</th>\n",
       "      <th>month</th>\n",
       "      <th>Day</th>\n",
       "      <th>Dep_Period</th>\n",
       "    </tr>\n",
       "  </thead>\n",
       "  <tbody>\n",
       "    <tr>\n",
       "      <th>0</th>\n",
       "      <td>3</td>\n",
       "      <td>0</td>\n",
       "      <td>5</td>\n",
       "      <td>4</td>\n",
       "      <td>8</td>\n",
       "      <td>3897</td>\n",
       "      <td>2019</td>\n",
       "      <td>3</td>\n",
       "      <td>24</td>\n",
       "      <td>1</td>\n",
       "    </tr>\n",
       "    <tr>\n",
       "      <th>1</th>\n",
       "      <td>1</td>\n",
       "      <td>3</td>\n",
       "      <td>0</td>\n",
       "      <td>1</td>\n",
       "      <td>8</td>\n",
       "      <td>7662</td>\n",
       "      <td>2019</td>\n",
       "      <td>1</td>\n",
       "      <td>5</td>\n",
       "      <td>2</td>\n",
       "    </tr>\n",
       "    <tr>\n",
       "      <th>2</th>\n",
       "      <td>4</td>\n",
       "      <td>2</td>\n",
       "      <td>1</td>\n",
       "      <td>1</td>\n",
       "      <td>8</td>\n",
       "      <td>13882</td>\n",
       "      <td>2019</td>\n",
       "      <td>9</td>\n",
       "      <td>6</td>\n",
       "      <td>3</td>\n",
       "    </tr>\n",
       "    <tr>\n",
       "      <th>3</th>\n",
       "      <td>3</td>\n",
       "      <td>3</td>\n",
       "      <td>0</td>\n",
       "      <td>0</td>\n",
       "      <td>8</td>\n",
       "      <td>6218</td>\n",
       "      <td>2019</td>\n",
       "      <td>12</td>\n",
       "      <td>5</td>\n",
       "      <td>1</td>\n",
       "    </tr>\n",
       "    <tr>\n",
       "      <th>4</th>\n",
       "      <td>3</td>\n",
       "      <td>0</td>\n",
       "      <td>5</td>\n",
       "      <td>0</td>\n",
       "      <td>8</td>\n",
       "      <td>13302</td>\n",
       "      <td>2019</td>\n",
       "      <td>1</td>\n",
       "      <td>3</td>\n",
       "      <td>0</td>\n",
       "    </tr>\n",
       "  </tbody>\n",
       "</table>\n",
       "</div>"
      ],
      "text/plain": [
       "   Airline  Source  Destination  Total_Stops  Additional_Info  Price  year  \\\n",
       "0        3       0            5            4                8   3897  2019   \n",
       "1        1       3            0            1                8   7662  2019   \n",
       "2        4       2            1            1                8  13882  2019   \n",
       "3        3       3            0            0                8   6218  2019   \n",
       "4        3       0            5            0                8  13302  2019   \n",
       "\n",
       "   month  Day  Dep_Period  \n",
       "0      3   24           1  \n",
       "1      1    5           2  \n",
       "2      9    6           3  \n",
       "3     12    5           1  \n",
       "4      1    3           0  "
      ]
     },
     "execution_count": 22,
     "metadata": {},
     "output_type": "execute_result"
    }
   ],
   "source": [
    "df.drop( ['Date_of_Journey', 'Route', 'Dep_Time', 'Arrival_Time', 'Duration'], axis = 1, inplace = True )\n",
    "df.head()"
   ]
  },
  {
   "cell_type": "markdown",
   "id": "e4ab4a6f",
   "metadata": {},
   "source": [
    "# Model Selection"
   ]
  },
  {
   "cell_type": "code",
   "execution_count": 23,
   "id": "5e13080d",
   "metadata": {},
   "outputs": [],
   "source": [
    "x = df.drop(['Price'], axis = 1)\n",
    "y = df['Price']"
   ]
  },
  {
   "cell_type": "code",
   "execution_count": 24,
   "id": "1894660c",
   "metadata": {},
   "outputs": [],
   "source": [
    "from sklearn.preprocessing import StandardScaler\n",
    "\n",
    "sc = StandardScaler()\n",
    "x = sc.fit_transform (x)"
   ]
  },
  {
   "cell_type": "code",
   "execution_count": 25,
   "id": "cf0f8c23",
   "metadata": {},
   "outputs": [],
   "source": [
    "from sklearn.model_selection import train_test_split\n",
    "\n",
    "x_train, x_test, y_train, y_test = train_test_split(x, y, test_size = 0.2)"
   ]
  },
  {
   "cell_type": "code",
   "execution_count": 26,
   "id": "ab910234",
   "metadata": {},
   "outputs": [],
   "source": [
    "from sklearn.linear_model import LinearRegression\n",
    "from sklearn.metrics import r2_score, mean_squared_error\n",
    "\n",
    "linreg = LinearRegression()\n",
    "linreg.fit(x_train,y_train)\n",
    "y_pred = linreg.predict(x_test)"
   ]
  },
  {
   "cell_type": "code",
   "execution_count": 27,
   "id": "222a906c",
   "metadata": {},
   "outputs": [
    {
     "name": "stdout",
     "output_type": "stream",
     "text": [
      "Score with Linear Regression is 0.3828525672128481\n",
      "LinearRegression RMSE value :  3624.9931012055204\n"
     ]
    }
   ],
   "source": [
    "import numpy as np\n",
    "\n",
    "print('Score with Linear Regression is', r2_score( y_test, y_pred ))\n",
    "print('LinearRegression RMSE value : ' , np.sqrt(mean_squared_error( y_test, y_pred )))"
   ]
  },
  {
   "cell_type": "markdown",
   "id": "dcd16842",
   "metadata": {},
   "source": [
    "now will try with KNeighborsRegressor"
   ]
  },
  {
   "cell_type": "code",
   "execution_count": 28,
   "id": "e7f52335",
   "metadata": {},
   "outputs": [
    {
     "data": {
      "text/plain": [
       "GridSearchCV(cv=5, estimator=KNeighborsRegressor(), n_jobs=-1,\n",
       "             param_grid=[{'n_neighbors': [1, 2, 3, 4, 5, 6, 7, 8, 9, 10]}],\n",
       "             return_train_score=True, scoring='neg_mean_squared_error')"
      ]
     },
     "execution_count": 28,
     "metadata": {},
     "output_type": "execute_result"
    }
   ],
   "source": [
    "from sklearn.neighbors import KNeighborsRegressor\n",
    "from sklearn.model_selection import GridSearchCV\n",
    "\n",
    "knn = KNeighborsRegressor()\n",
    "knn_grid = [{'n_neighbors': [i+1 for i in range(10)] }, ]\n",
    "\n",
    "knn_search = GridSearchCV (knn, knn_grid, scoring='neg_mean_squared_error', cv=5, return_train_score=True, n_jobs=-1)\n",
    "knn_search.fit(x_train, y_train)"
   ]
  },
  {
   "cell_type": "code",
   "execution_count": 29,
   "id": "08a16291",
   "metadata": {},
   "outputs": [
    {
     "data": {
      "text/plain": [
       "{'n_neighbors': 3}"
      ]
     },
     "execution_count": 29,
     "metadata": {},
     "output_type": "execute_result"
    }
   ],
   "source": [
    "knn_search.best_params_"
   ]
  },
  {
   "cell_type": "code",
   "execution_count": 30,
   "id": "282027d7",
   "metadata": {},
   "outputs": [
    {
     "data": {
      "text/plain": [
       "{'mean_fit_time': array([0.11982961, 0.12303138, 0.11249609, 0.11252789, 0.11497879,\n",
       "        0.11795015, 0.11888928, 0.11544666, 0.11473989, 0.11646361]),\n",
       " 'std_fit_time': array([0.00568108, 0.01865495, 0.00778503, 0.01364937, 0.00386237,\n",
       "        0.00296419, 0.00593808, 0.00354009, 0.0039141 , 0.00422816]),\n",
       " 'mean_score_time': array([0.11349249, 0.12934427, 0.14244599, 0.15135741, 0.17005701,\n",
       "        0.18529468, 0.19066381, 0.19899373, 0.21772265, 0.21170273]),\n",
       " 'std_score_time': array([0.00532712, 0.01229824, 0.00695247, 0.01226654, 0.00643376,\n",
       "        0.00750552, 0.00644329, 0.00738972, 0.00945702, 0.01506302]),\n",
       " 'param_n_neighbors': masked_array(data=[1, 2, 3, 4, 5, 6, 7, 8, 9, 10],\n",
       "              mask=[False, False, False, False, False, False, False, False,\n",
       "                    False, False],\n",
       "        fill_value='?',\n",
       "             dtype=object),\n",
       " 'params': [{'n_neighbors': 1},\n",
       "  {'n_neighbors': 2},\n",
       "  {'n_neighbors': 3},\n",
       "  {'n_neighbors': 4},\n",
       "  {'n_neighbors': 5},\n",
       "  {'n_neighbors': 6},\n",
       "  {'n_neighbors': 7},\n",
       "  {'n_neighbors': 8},\n",
       "  {'n_neighbors': 9},\n",
       "  {'n_neighbors': 10}],\n",
       " 'split0_test_score': array([-9327678.3089526 , -5998607.47132826, -5682718.51010988,\n",
       "        -6151102.50877706, -6021067.02055003, -6198230.35599116,\n",
       "        -6306569.80815849, -6289225.21752487, -6435512.54526147,\n",
       "        -6695402.20726156]),\n",
       " 'split1_test_score': array([-7789868.98244588, -6736782.05368637, -6586841.86840908,\n",
       "        -6695251.67645553, -6792373.01802223, -6685106.16128665,\n",
       "        -6977853.6216071 , -7256951.10041508, -7507560.84743081,\n",
       "        -7673292.77336454]),\n",
       " 'split2_test_score': array([-5792392.1310708 , -5982127.51887068, -6329947.80989533,\n",
       "        -6473836.31838795, -6691730.35435927, -6790061.34032248,\n",
       "        -6917501.41919729, -7116779.67041216, -7354059.29628907,\n",
       "        -7600664.68438853]),\n",
       " 'split3_test_score': array([-6472238.50789936, -4960576.62565828, -5035423.64144074,\n",
       "        -4774098.92744295, -5003236.86157987, -5111734.95343281,\n",
       "        -5183305.05093085, -5313854.48799554, -5468868.98345   ,\n",
       "        -5646833.97485664]),\n",
       " 'split4_test_score': array([-8303280.51023991, -7090553.42641896, -6962409.78193876,\n",
       "        -6984132.14760094, -7054913.0412639 , -7170009.47713088,\n",
       "        -7282910.46064652, -7331230.22251682, -7438024.46274263,\n",
       "        -7654879.0753423 ]),\n",
       " 'mean_test_score': array([-7537091.68812171, -6153729.41919251, -6119468.32235875,\n",
       "        -6215684.31573288, -6312664.05915506, -6391028.45763279,\n",
       "        -6533628.07210805, -6661608.13977289, -6840805.2270348 ,\n",
       "        -7054214.54304271]),\n",
       " 'std_test_score': array([1267677.47934296,  734127.12996154,  683987.31263471,\n",
       "         770646.30301699,  738156.34001094,  710814.08875699,\n",
       "         745794.46229589,  770080.13134351,  788813.64425266,\n",
       "         793993.68367947]),\n",
       " 'rank_test_score': array([10,  2,  1,  3,  4,  5,  6,  7,  8,  9]),\n",
       " 'split0_train_score': array([-4157150.49414863, -3671491.79889555, -3837595.47121449,\n",
       "        -4089258.4938012 , -4460907.21030427, -4762563.81625057,\n",
       "        -5044919.81197382, -5317409.84542541, -5649961.10827211,\n",
       "        -5938502.37161059]),\n",
       " 'split1_train_score': array([-3689439.60708016, -3358532.07829871, -3703834.59736038,\n",
       "        -3967195.10270078, -4365890.61528379, -4704189.80450312,\n",
       "        -4859750.94391636, -5140919.82487246, -5358701.0831419 ,\n",
       "        -5593650.98527209]),\n",
       " 'split2_train_score': array([-4822985.06187829, -3685951.67137215, -3747912.51960211,\n",
       "        -4132655.9640049 , -4437702.55143359, -4721709.90108332,\n",
       "        -4965644.60074515, -5197070.16278937, -5452733.2981384 ,\n",
       "        -5688544.51510094]),\n",
       " 'split3_train_score': array([-4308203.90213575, -3609707.3769017 , -3883860.8940251 ,\n",
       "        -4140038.28146028, -4521703.67997074, -4858803.34363013,\n",
       "        -5162790.6441737 , -5418354.64293584, -5707574.69484176,\n",
       "        -5952697.25361469]),\n",
       " 'split4_train_score': array([-4265281.15374488, -3240280.53850936, -3261427.51435212,\n",
       "        -3557621.9781122 , -3920324.44678174, -4187915.00185294,\n",
       "        -4526492.83439713, -4815203.56891594, -5065294.79660692,\n",
       "        -5356920.98084406]),\n",
       " 'mean_train_score': array([-4248612.04379754, -3513192.69279549, -3686926.19931084,\n",
       "        -3977353.96401587, -4341305.70075483, -4647036.37346401,\n",
       "        -4911919.76704123, -5177791.6089878 , -5446852.99620022,\n",
       "        -5706063.22128847]),\n",
       " 'std_train_score': array([361876.34400564, 180344.28494004, 222053.53389083, 218808.4388607 ,\n",
       "        216319.18039398, 235723.11043545, 216696.5958272 , 205214.5721687 ,\n",
       "        229181.4594314 , 223472.60433404])}"
      ]
     },
     "execution_count": 30,
     "metadata": {},
     "output_type": "execute_result"
    }
   ],
   "source": [
    "result = knn_search.cv_results_\n",
    "result"
   ]
  },
  {
   "cell_type": "code",
   "execution_count": 18,
   "id": "12ec7a48",
   "metadata": {},
   "outputs": [
    {
     "name": "stdout",
     "output_type": "stream",
     "text": [
      "-6756196.821767116 {'n_neighbors': 1}\n",
      "-6022063.802457578 {'n_neighbors': 2}\n",
      "-5840222.2665496385 {'n_neighbors': 3}\n",
      "-5930948.061380925 {'n_neighbors': 4}\n",
      "-6060268.706626097 {'n_neighbors': 5}\n",
      "-6187571.701427085 {'n_neighbors': 6}\n",
      "-6393378.516697913 {'n_neighbors': 7}\n",
      "-6579272.440411059 {'n_neighbors': 8}\n",
      "-6794799.239649206 {'n_neighbors': 9}\n",
      "-6977898.403229957 {'n_neighbors': 10}\n"
     ]
    }
   ],
   "source": [
    "for mts, param in zip(result['mean_test_score'], result['params']):\n",
    "    print (mts, param)"
   ]
  },
  {
   "cell_type": "code",
   "execution_count": 31,
   "id": "aa2daa25",
   "metadata": {},
   "outputs": [
    {
     "name": "stdout",
     "output_type": "stream",
     "text": [
      "KNN RMSE value :  2099.104288950255\n",
      "Score with KNN Regression is 0.7930608838024065\n"
     ]
    }
   ],
   "source": [
    "from sklearn.metrics import mean_squared_error\n",
    "\n",
    "knn_reg = knn_search.best_estimator_\n",
    "knn_reg.fit(x_train, y_train)\n",
    "knn_pred = knn_reg.predict(x_test)\n",
    "print('KNN RMSE value : ' , np.sqrt(mean_squared_error(knn_pred, y_test)))\n",
    "print('Score with KNN Regression is', r2_score( y_test, knn_pred ))"
   ]
  },
  {
   "cell_type": "markdown",
   "id": "74cff161",
   "metadata": {},
   "source": [
    "Now will try with SVR"
   ]
  },
  {
   "cell_type": "code",
   "execution_count": 33,
   "id": "2be78a17",
   "metadata": {},
   "outputs": [],
   "source": [
    "kernel = ['linear', 'rbf', 'poly', 'sigmoid']\n",
    "c = [0.01, 0.1, 1, 10]\n",
    "gamma = [0.01, 0.1, 1]\n",
    "svm_grid = {'kernel': kernel, 'C': c, 'gamma' : gamma}"
   ]
  },
  {
   "cell_type": "code",
   "execution_count": 34,
   "id": "4f920aaa",
   "metadata": {},
   "outputs": [
    {
     "data": {
      "text/plain": [
       "RandomizedSearchCV(cv=5, estimator=SVR(), n_jobs=-1,\n",
       "                   param_distributions={'C': [0.01, 0.1, 1, 10],\n",
       "                                        'gamma': [0.01, 0.1, 1],\n",
       "                                        'kernel': ['linear', 'rbf', 'poly',\n",
       "                                                   'sigmoid']},\n",
       "                   return_train_score=True, scoring='neg_mean_squared_error')"
      ]
     },
     "execution_count": 34,
     "metadata": {},
     "output_type": "execute_result"
    }
   ],
   "source": [
    "from sklearn.svm import SVR\n",
    "from sklearn.model_selection import RandomizedSearchCV\n",
    "\n",
    "svm = SVR()\n",
    "svm_search = RandomizedSearchCV(svm, svm_grid, scoring='neg_mean_squared_error', cv=5, return_train_score=True, n_jobs=-1)\n",
    "svm_search.fit(x_train, y_train)"
   ]
  },
  {
   "cell_type": "code",
   "execution_count": 36,
   "id": "52b2b96f",
   "metadata": {},
   "outputs": [
    {
     "data": {
      "text/plain": [
       "{'kernel': 'poly', 'gamma': 1, 'C': 1}"
      ]
     },
     "execution_count": 36,
     "metadata": {},
     "output_type": "execute_result"
    }
   ],
   "source": [
    "svm_search.best_params_"
   ]
  },
  {
   "cell_type": "code",
   "execution_count": 37,
   "id": "58d469f5",
   "metadata": {},
   "outputs": [
    {
     "data": {
      "text/plain": [
       "{'mean_fit_time': array([18.68873677, 15.42323976,  9.94098907, 10.49126439,  8.48887835,\n",
       "        12.76156011, 13.76215868, 10.28300543,  8.48010535, 10.33823571]),\n",
       " 'std_fit_time': array([0.4863106 , 5.17238692, 0.45150383, 0.10529412, 0.10700497,\n",
       "        0.10256903, 0.17327399, 0.33911942, 0.21570788, 0.40466905]),\n",
       " 'mean_score_time': array([10.10530396,  8.74630871,  1.90703259,  1.89381275,  1.36069026,\n",
       "         2.54631643,  2.64406023,  5.62447486,  1.32979312,  1.45909777]),\n",
       " 'std_score_time': array([0.3955338 , 2.57629204, 0.06850299, 0.05222326, 0.00540629,\n",
       "        0.05065572, 0.0471514 , 0.16427219, 0.04176637, 0.15661871]),\n",
       " 'param_kernel': masked_array(data=['rbf', 'rbf', 'sigmoid', 'sigmoid', 'linear',\n",
       "                    'sigmoid', 'sigmoid', 'rbf', 'linear', 'poly'],\n",
       "              mask=[False, False, False, False, False, False, False, False,\n",
       "                    False, False],\n",
       "        fill_value='?',\n",
       "             dtype=object),\n",
       " 'param_gamma': masked_array(data=[0.01, 0.1, 0.01, 0.01, 1, 1, 1, 1, 0.1, 1],\n",
       "              mask=[False, False, False, False, False, False, False, False,\n",
       "                    False, False],\n",
       "        fill_value='?',\n",
       "             dtype=object),\n",
       " 'param_C': masked_array(data=[10, 1, 1, 0.01, 0.01, 0.1, 10, 10, 0.01, 1],\n",
       "              mask=[False, False, False, False, False, False, False, False,\n",
       "                    False, False],\n",
       "        fill_value='?',\n",
       "             dtype=object),\n",
       " 'params': [{'kernel': 'rbf', 'gamma': 0.01, 'C': 10},\n",
       "  {'kernel': 'rbf', 'gamma': 0.1, 'C': 1},\n",
       "  {'kernel': 'sigmoid', 'gamma': 0.01, 'C': 1},\n",
       "  {'kernel': 'sigmoid', 'gamma': 0.01, 'C': 0.01},\n",
       "  {'kernel': 'linear', 'gamma': 1, 'C': 0.01},\n",
       "  {'kernel': 'sigmoid', 'gamma': 1, 'C': 0.1},\n",
       "  {'kernel': 'sigmoid', 'gamma': 1, 'C': 10},\n",
       "  {'kernel': 'rbf', 'gamma': 1, 'C': 10},\n",
       "  {'kernel': 'linear', 'gamma': 0.1, 'C': 0.01},\n",
       "  {'kernel': 'poly', 'gamma': 1, 'C': 1}],\n",
       " 'split0_test_score': array([-18883167.69941073, -20665369.95638121, -21518872.61288319,\n",
       "        -21737311.81661738, -21518583.55364916, -21230077.08279473,\n",
       "        -27832535.14325716, -20048413.60022432, -21518583.55364916,\n",
       "        -12781133.51178922]),\n",
       " 'split1_test_score': array([-21680600.18828288, -23397648.67295079, -24214678.71229319,\n",
       "        -24425144.3139611 , -24214384.42234109, -23951164.95150648,\n",
       "        -30595732.86689676, -22767761.1759979 , -24214384.42234109,\n",
       "        -13896721.20681828]),\n",
       " 'split2_test_score': array([-17867430.60868661, -19641925.32521294, -20456581.18762152,\n",
       "        -20651434.72498113, -20456314.6476656 , -20204264.86470053,\n",
       "        -27630369.43711927, -18992219.05786758, -20456314.6476656 ,\n",
       "         -9442072.97629287]),\n",
       " 'split3_test_score': array([-18820201.76102709, -20494367.56895886, -21277211.36385125,\n",
       "        -21474541.19883098, -21276902.03572056, -21028215.37752501,\n",
       "        -27780186.96433421, -19900187.4453497 , -21276902.03572056,\n",
       "        -11856117.79788707]),\n",
       " 'split4_test_score': array([-19022257.84077246, -20653120.46971168, -21459414.38933776,\n",
       "        -21647195.64897854, -21459157.8231657 , -21216695.36745053,\n",
       "        -28790065.84730656, -20059475.64927399, -21459157.8231657 ,\n",
       "        -12318193.70036876]),\n",
       " 'mean_test_score': array([-19254731.61963595, -20970486.3986431 , -21785351.65319738,\n",
       "        -21987125.54067383, -21785068.49650842, -21526083.52879546,\n",
       "        -28525778.05178279, -20353611.3857427 , -21785068.49650842,\n",
       "        -12058847.83863124]),\n",
       " 'std_test_score': array([1279872.05688889, 1270960.07394578, 1273005.39219578,\n",
       "        1278178.97256405, 1272998.64901405, 1269601.35743718,\n",
       "        1112906.94692717, 1270178.18196199, 1272998.64901405,\n",
       "        1473454.82025931]),\n",
       " 'rank_test_score': array([ 2,  4,  8,  9,  6,  5, 10,  3,  6,  1]),\n",
       " 'split0_train_score': array([-19348384.2525316 , -21053366.80055361, -21865751.56069209,\n",
       "        -22073289.54436393, -21865492.44576358, -21606796.42656668,\n",
       "        -28973907.70039823, -20398816.09042775, -21865492.44576358,\n",
       "        -11385607.8083906 ]),\n",
       " 'split1_train_score': array([-18625974.49614976, -20355368.81318824, -21186736.41583811,\n",
       "        -21401198.65449898, -21186446.72498877, -20915485.29679283,\n",
       "        -28162281.07953082, -19676593.34733823, -21186446.72498877,\n",
       "        -11058626.94254658]),\n",
       " 'split2_train_score': array([-19553006.16265693, -21256434.6726648 , -22024607.57908371,\n",
       "        -22202402.22411419, -22024337.91384314, -21795792.21760794,\n",
       "        -28816503.65664936, -20563494.03052682, -22024337.91384314,\n",
       "        -11973468.14600164]),\n",
       " 'split3_train_score': array([-19389475.75801689, -21105016.71731725, -21938246.73727581,\n",
       "        -22139220.42298912, -21937948.71306353, -21666490.24408803,\n",
       "        -28707457.43585569, -20385067.90985319, -21937948.71306353,\n",
       "        -11584322.5410147 ]),\n",
       " 'split4_train_score': array([-19315120.92008504, -21052115.44897069, -21891581.59352715,\n",
       "        -22096078.52858509, -21891263.62266051, -21631046.80789446,\n",
       "        -28280299.49354104, -20358583.86295601, -21891263.62266051,\n",
       "        -11597681.61329141]),\n",
       " 'mean_train_score': array([-19246392.31788804, -20964460.49053892, -21781384.77728337,\n",
       "        -21982437.87491026, -21781097.88406391, -21523122.19858999,\n",
       "        -28588089.87319503, -20276511.0482204 , -21781097.88406391,\n",
       "        -11519941.41024899]),\n",
       " 'std_train_score': array([320789.39186508, 313555.5360794 , 302202.1747211 , 293929.35806322,\n",
       "        302204.17854136, 310733.01655532, 313472.45934678, 308460.54608029,\n",
       "        302204.17854136, 298908.5224312 ])}"
      ]
     },
     "execution_count": 37,
     "metadata": {},
     "output_type": "execute_result"
    }
   ],
   "source": [
    "result = svm_search.cv_results_\n",
    "result"
   ]
  },
  {
   "cell_type": "code",
   "execution_count": 38,
   "id": "a2a2ae84",
   "metadata": {},
   "outputs": [
    {
     "name": "stdout",
     "output_type": "stream",
     "text": [
      "-19254731.61963595 {'kernel': 'rbf', 'gamma': 0.01, 'C': 10}\n",
      "-20970486.3986431 {'kernel': 'rbf', 'gamma': 0.1, 'C': 1}\n",
      "-21785351.653197378 {'kernel': 'sigmoid', 'gamma': 0.01, 'C': 1}\n",
      "-21987125.54067383 {'kernel': 'sigmoid', 'gamma': 0.01, 'C': 0.01}\n",
      "-21785068.496508423 {'kernel': 'linear', 'gamma': 1, 'C': 0.01}\n",
      "-21526083.52879546 {'kernel': 'sigmoid', 'gamma': 1, 'C': 0.1}\n",
      "-28525778.051782787 {'kernel': 'sigmoid', 'gamma': 1, 'C': 10}\n",
      "-20353611.3857427 {'kernel': 'rbf', 'gamma': 1, 'C': 10}\n",
      "-21785068.496508423 {'kernel': 'linear', 'gamma': 0.1, 'C': 0.01}\n",
      "-12058847.838631239 {'kernel': 'poly', 'gamma': 1, 'C': 1}\n"
     ]
    }
   ],
   "source": [
    "for mts, params in zip(result['mean_test_score'], result['params']):\n",
    "    print(mts, params)"
   ]
  },
  {
   "cell_type": "code",
   "execution_count": 39,
   "id": "cc63e9d3",
   "metadata": {},
   "outputs": [
    {
     "name": "stdout",
     "output_type": "stream",
     "text": [
      "SVR RMSE value :  3327.754892096182\n",
      "Score with SVR Regression is 0.4606765523306062\n"
     ]
    }
   ],
   "source": [
    "svm_reg = svm_search.best_estimator_\n",
    "svm_reg.fit(x_train, y_train)\n",
    "from sklearn.metrics import mean_squared_error\n",
    "\n",
    "svm_pred = svm_reg.predict(x_test)\n",
    "print('SVR RMSE value : ' , np.sqrt(mean_squared_error(svm_pred, y_test)))\n",
    "print('Score with SVR Regression is', r2_score( y_test, svm_pred ))"
   ]
  },
  {
   "cell_type": "markdown",
   "id": "ba29994d",
   "metadata": {},
   "source": [
    "Now will try with RandomForestRegressor"
   ]
  },
  {
   "cell_type": "code",
   "execution_count": 40,
   "id": "ccc902cf",
   "metadata": {},
   "outputs": [
    {
     "name": "stdout",
     "output_type": "stream",
     "text": [
      "Fitting 5 folds for each of 10 candidates, totalling 50 fits\n"
     ]
    },
    {
     "data": {
      "text/plain": [
       "RandomizedSearchCV(cv=5, estimator=RandomForestRegressor(), n_jobs=-1,\n",
       "                   param_distributions={'bootstrap': [True, False],\n",
       "                                        'criterion': ['mse', 'mae'],\n",
       "                                        'n_estimators': [10, 20, 30, 40, 50, 60,\n",
       "                                                         70, 80, 90, 100, 110,\n",
       "                                                         120, 130, 140, 150,\n",
       "                                                         160, 170, 180, 190,\n",
       "                                                         200]},\n",
       "                   return_train_score=True, scoring='neg_mean_squared_error',\n",
       "                   verbose=1)"
      ]
     },
     "execution_count": 40,
     "metadata": {},
     "output_type": "execute_result"
    }
   ],
   "source": [
    "from sklearn.ensemble import RandomForestRegressor\n",
    "\n",
    "ensemble = RandomForestRegressor()\n",
    "ensemble_grid =  {'n_estimators': [(i+1)*10 for i in range(20)], 'criterion': ['mse', 'mae'], 'bootstrap': [True, False]}\n",
    "\n",
    "\n",
    "ensemble_search = RandomizedSearchCV(ensemble, ensemble_grid, scoring='neg_mean_squared_error', cv=5, return_train_score=True, n_jobs=-1, n_iter=10, verbose=1)\n",
    "ensemble_search.fit(x_train, y_train)"
   ]
  },
  {
   "cell_type": "code",
   "execution_count": 41,
   "id": "2b08ed79",
   "metadata": {},
   "outputs": [
    {
     "data": {
      "text/plain": [
       "{'n_estimators': 110, 'criterion': 'mse', 'bootstrap': True}"
      ]
     },
     "execution_count": 41,
     "metadata": {},
     "output_type": "execute_result"
    }
   ],
   "source": [
    "ensemble_search.best_params_"
   ]
  },
  {
   "cell_type": "code",
   "execution_count": 42,
   "id": "efc8fc8c",
   "metadata": {},
   "outputs": [
    {
     "data": {
      "text/plain": [
       "{'mean_fit_time': array([  2.92428741,   4.75222669,   1.8305759 , 193.37805309,\n",
       "          2.66160846,   2.88646193,   6.24502573,  47.9026773 ,\n",
       "          2.83596849, 518.05946178]),\n",
       " 'std_fit_time': array([1.26840759e-01, 3.70001485e-02, 3.81150996e-02, 2.40059127e+00,\n",
       "        1.01868904e-01, 4.13477704e-02, 1.47641120e-01, 1.02057797e+00,\n",
       "        3.57339115e-02, 7.49761948e+01]),\n",
       " 'mean_score_time': array([0.07938752, 0.17565565, 0.06811357, 0.13730335, 0.08879528,\n",
       "        0.10823317, 0.16609201, 0.03677063, 0.07381105, 0.1566216 ]),\n",
       " 'std_score_time': array([0.01347822, 0.02554689, 0.00712975, 0.00754145, 0.01715082,\n",
       "        0.01640389, 0.02672737, 0.01994246, 0.00445189, 0.04517237]),\n",
       " 'param_n_estimators': masked_array(data=[80, 180, 70, 160, 110, 120, 200, 40, 90, 200],\n",
       "              mask=[False, False, False, False, False, False, False, False,\n",
       "                    False, False],\n",
       "        fill_value='?',\n",
       "             dtype=object),\n",
       " 'param_criterion': masked_array(data=['mse', 'mse', 'mse', 'mae', 'mse', 'mse', 'mse', 'mae',\n",
       "                    'mse', 'mae'],\n",
       "              mask=[False, False, False, False, False, False, False, False,\n",
       "                    False, False],\n",
       "        fill_value='?',\n",
       "             dtype=object),\n",
       " 'param_bootstrap': masked_array(data=[False, True, True, True, True, True, False, True,\n",
       "                    False, False],\n",
       "              mask=[False, False, False, False, False, False, False, False,\n",
       "                    False, False],\n",
       "        fill_value='?',\n",
       "             dtype=object),\n",
       " 'params': [{'n_estimators': 80, 'criterion': 'mse', 'bootstrap': False},\n",
       "  {'n_estimators': 180, 'criterion': 'mse', 'bootstrap': True},\n",
       "  {'n_estimators': 70, 'criterion': 'mse', 'bootstrap': True},\n",
       "  {'n_estimators': 160, 'criterion': 'mae', 'bootstrap': True},\n",
       "  {'n_estimators': 110, 'criterion': 'mse', 'bootstrap': True},\n",
       "  {'n_estimators': 120, 'criterion': 'mse', 'bootstrap': True},\n",
       "  {'n_estimators': 200, 'criterion': 'mse', 'bootstrap': False},\n",
       "  {'n_estimators': 40, 'criterion': 'mae', 'bootstrap': True},\n",
       "  {'n_estimators': 90, 'criterion': 'mse', 'bootstrap': False},\n",
       "  {'n_estimators': 200, 'criterion': 'mae', 'bootstrap': False}],\n",
       " 'split0_test_score': array([-3946053.82569551, -4276753.54473   , -4232680.37060322,\n",
       "        -3754299.45731682, -4180254.82044412, -4215982.84474654,\n",
       "        -3912485.16286984, -4077678.70773515, -3898611.93754504,\n",
       "        -4575990.43277366]),\n",
       " 'split1_test_score': array([-3681967.47780443, -3538096.54734061, -3520417.00005852,\n",
       "        -3732485.60900033, -3529833.73714091, -3505232.19803818,\n",
       "        -3678582.15116313, -3818915.09187244, -3640469.12942331,\n",
       "        -4075704.86155466]),\n",
       " 'split2_test_score': array([-3670677.0272115 , -3422154.83674028, -3403708.49375503,\n",
       "        -3143001.2111257 , -3294569.7731162 , -3371831.32930128,\n",
       "        -3669431.6855062 , -3212113.07322255, -3669007.6664098 ,\n",
       "        -3230319.99270834]),\n",
       " 'split3_test_score': array([-4783419.34761515, -4002406.44683832, -3982568.97121967,\n",
       "        -4292980.22569351, -4043726.02022635, -4046946.79335685,\n",
       "        -4780085.18441235, -4289515.45698426, -4784101.64489883,\n",
       "        -5201752.02724533]),\n",
       " 'split4_test_score': array([-4191542.59288116, -3855720.4185293 , -3923737.47162713,\n",
       "        -4129306.75760079, -3833588.12483091, -3865134.71637095,\n",
       "        -4224259.3435287 , -4122094.44613846, -4206226.41695512,\n",
       "        -4819182.74242477]),\n",
       " 'mean_test_score': array([-4054732.05424155, -3819026.3588357 , -3812622.46145271,\n",
       "        -3810414.65214743, -3776394.4951517 , -3801025.57636276,\n",
       "        -4052968.70549604, -3904063.35519057, -4039683.35904642,\n",
       "        -4380590.01134135]),\n",
       " 'std_test_score': array([411816.6935908 , 310134.63251832, 306682.79161204, 397296.93172878,\n",
       "        325818.25856614, 318897.53393725, 415942.4046923 , 377438.363047  ,\n",
       "        423926.59521635, 681311.68126564]),\n",
       " 'rank_test_score': array([ 9,  5,  4,  3,  1,  2,  8,  6,  7, 10]),\n",
       " 'split0_train_score': array([-1961062.57066877, -2121623.07021028, -2152345.42365682,\n",
       "        -2282166.18449414, -2107540.78702715, -2125854.52008472,\n",
       "        -1961062.57066877, -2294622.57461577, -1961062.57066877,\n",
       "        -2404741.57731227]),\n",
       " 'split1_train_score': array([-1952391.81481976, -2111334.38563895, -2132306.17689278,\n",
       "        -2284069.19550024, -2115966.12617678, -2118921.88385064,\n",
       "        -1952391.81481976, -2366821.10746002, -1952391.81481976,\n",
       "        -2348066.45383178]),\n",
       " 'split2_train_score': array([-1939001.49601253, -2091238.40174405, -2099770.19569975,\n",
       "        -2209813.08885142, -2113212.38694851, -2106660.81177498,\n",
       "        -1939001.49601253, -2258220.40752546, -1939001.49601253,\n",
       "        -2410557.92821152]),\n",
       " 'split3_train_score': array([-1833641.83732946, -1986686.14537673, -2001116.9774127 ,\n",
       "        -2141357.45892582, -1987571.43697296, -1976976.7363133 ,\n",
       "        -1833641.83732946, -2195027.69876287, -1833641.83732946,\n",
       "        -2116229.29246735]),\n",
       " 'split4_train_score': array([-1817551.8331685 , -1973528.03209545, -1991673.04633682,\n",
       "        -2125748.77215946, -1968017.30517548, -2002843.50421037,\n",
       "        -1817551.8331685 , -2136626.73096036, -1817551.8331685 ,\n",
       "        -2095598.55942659]),\n",
       " 'mean_train_score': array([-1900729.91039981, -2056882.00701309, -2075442.36399978,\n",
       "        -2208630.93998622, -2058461.60846018, -2066251.4912468 ,\n",
       "        -1900729.91039981, -2250263.7038649 , -1900729.91039981,\n",
       "        -2275038.7622499 ]),\n",
       " 'std_train_score': array([ 61956.59546639,  63580.14279045,  66754.74345633,  67074.48852347,\n",
       "         66209.92596559,  63166.69878614,  61956.59546639,  79474.5553631 ,\n",
       "         61956.59546639, 139957.52384041])}"
      ]
     },
     "execution_count": 42,
     "metadata": {},
     "output_type": "execute_result"
    }
   ],
   "source": [
    "result = ensemble_search.cv_results_\n",
    "result"
   ]
  },
  {
   "cell_type": "code",
   "execution_count": 43,
   "id": "8ff51dae",
   "metadata": {},
   "outputs": [
    {
     "name": "stdout",
     "output_type": "stream",
     "text": [
      "-4054732.054241549 {'n_estimators': 80, 'criterion': 'mse', 'bootstrap': False}\n",
      "-3819026.358835701 {'n_estimators': 180, 'criterion': 'mse', 'bootstrap': True}\n",
      "-3812622.4614527137 {'n_estimators': 70, 'criterion': 'mse', 'bootstrap': True}\n",
      "-3810414.6521474323 {'n_estimators': 160, 'criterion': 'mae', 'bootstrap': True}\n",
      "-3776394.495151697 {'n_estimators': 110, 'criterion': 'mse', 'bootstrap': True}\n",
      "-3801025.576362761 {'n_estimators': 120, 'criterion': 'mse', 'bootstrap': True}\n",
      "-4052968.7054960444 {'n_estimators': 200, 'criterion': 'mse', 'bootstrap': False}\n",
      "-3904063.3551905723 {'n_estimators': 40, 'criterion': 'mae', 'bootstrap': True}\n",
      "-4039683.359046422 {'n_estimators': 90, 'criterion': 'mse', 'bootstrap': False}\n",
      "-4380590.011341351 {'n_estimators': 200, 'criterion': 'mae', 'bootstrap': False}\n"
     ]
    }
   ],
   "source": [
    "for mts, params in zip(result['mean_test_score'], result['params']):\n",
    "    print(mts, params)"
   ]
  },
  {
   "cell_type": "code",
   "execution_count": 44,
   "id": "d5385366",
   "metadata": {},
   "outputs": [
    {
     "name": "stdout",
     "output_type": "stream",
     "text": [
      "RandomForestRegressor RMSE value :  1699.6867832137764\n",
      "Score with RandomForestRegressor is 0.8593031301159946\n"
     ]
    }
   ],
   "source": [
    "ensemble_reg = ensemble_search.best_estimator_\n",
    "ensemble_reg.fit(x_train, y_train)\n",
    "ensemble_pred = ensemble_reg.predict(x_test)\n",
    "\n",
    "print('RandomForestRegressor RMSE value : ' , np.sqrt(mean_squared_error(ensemble_pred, y_test)))\n",
    "print('Score with RandomForestRegressor is', r2_score( y_test, ensemble_pred ))"
   ]
  },
  {
   "cell_type": "markdown",
   "id": "ecd2de8f",
   "metadata": {},
   "source": [
    "Now will try with XGBRegressor"
   ]
  },
  {
   "cell_type": "code",
   "execution_count": 32,
   "id": "c7572495",
   "metadata": {},
   "outputs": [],
   "source": [
    "max_depth = [1, 2, 3, 4, 5]\n",
    "learning_rate = [0.01, 0.05, 0.1]\n",
    "n_estimators = [100, 200, 300, 400, 500]\n",
    "reg_lambda = [0.001, 0.1, 1.0, 10.0, 100.0] \n",
    "\n",
    "tuned_params = {'max_depth': max_depth, 'learning_rate': learning_rate, \n",
    "                'n_estimators' : n_estimators, 'reg_lambda' : reg_lambda}"
   ]
  },
  {
   "cell_type": "code",
   "execution_count": 34,
   "id": "ba47621a",
   "metadata": {},
   "outputs": [
    {
     "data": {
      "text/plain": [
       "RandomizedSearchCV(cv=5,\n",
       "                   estimator=XGBRegressor(base_score=None, booster=None,\n",
       "                                          colsample_bylevel=None,\n",
       "                                          colsample_bynode=None,\n",
       "                                          colsample_bytree=None,\n",
       "                                          enable_categorical=False, gamma=None,\n",
       "                                          gpu_id=None, importance_type=None,\n",
       "                                          interaction_constraints=None,\n",
       "                                          learning_rate=None,\n",
       "                                          max_delta_step=None, max_depth=None,\n",
       "                                          min_child_weight=None, missing=nan,\n",
       "                                          monotone_constraints=...\n",
       "                                          predictor=None, random_state=None,\n",
       "                                          reg_alpha=None, reg_lambda=None,\n",
       "                                          scale_pos_weight=None, subsample=None,\n",
       "                                          tree_method=None,\n",
       "                                          validate_parameters=None,\n",
       "                                          verbosity=None),\n",
       "                   n_iter=20, n_jobs=-1,\n",
       "                   param_distributions={'learning_rate': [0.01, 0.05, 0.1],\n",
       "                                        'max_depth': [1, 2, 3, 4, 5],\n",
       "                                        'n_estimators': [100, 200, 300, 400,\n",
       "                                                         500],\n",
       "                                        'reg_lambda': [0.001, 0.1, 1.0, 10.0,\n",
       "                                                       100.0]},\n",
       "                   scoring='neg_mean_absolute_error')"
      ]
     },
     "execution_count": 34,
     "metadata": {},
     "output_type": "execute_result"
    }
   ],
   "source": [
    "from xgboost import XGBRegressor\n",
    "from sklearn.model_selection import RandomizedSearchCV\n",
    "\n",
    "xgb =  XGBRegressor()\n",
    "\n",
    "xgb_search = RandomizedSearchCV( xgb, tuned_params, n_iter=20, scoring = 'neg_mean_absolute_error', cv=5, n_jobs=-1)\n",
    "xgb_search.fit(x_train, y_train)"
   ]
  },
  {
   "cell_type": "code",
   "execution_count": 35,
   "id": "c20b92b7",
   "metadata": {},
   "outputs": [
    {
     "data": {
      "text/plain": [
       "{'reg_lambda': 0.1, 'n_estimators': 300, 'max_depth': 5, 'learning_rate': 0.1}"
      ]
     },
     "execution_count": 35,
     "metadata": {},
     "output_type": "execute_result"
    }
   ],
   "source": [
    "xgb_search.best_params_"
   ]
  },
  {
   "cell_type": "code",
   "execution_count": 36,
   "id": "5661dc36",
   "metadata": {},
   "outputs": [
    {
     "data": {
      "text/plain": [
       "{'mean_fit_time': array([1.04317551, 3.28053231, 1.40779662, 2.70708995, 7.23757272,\n",
       "        6.12086496, 1.88650765, 3.36023555, 0.64596062, 3.42928419,\n",
       "        2.3451664 , 0.83845034, 1.45078363, 5.80434046, 2.35535159,\n",
       "        5.97721949, 5.75129848, 1.52275577, 4.42274833, 3.80884562]),\n",
       " 'std_fit_time': array([0.0649018 , 0.24128404, 0.07800595, 0.07576481, 0.12774616,\n",
       "        0.38589145, 0.16939732, 0.03323241, 0.01054657, 0.04554647,\n",
       "        0.04933392, 0.0251004 , 0.03242971, 0.19684451, 0.02814026,\n",
       "        0.07246313, 0.10092833, 0.01330301, 0.02957507, 0.80296534]),\n",
       " 'mean_score_time': array([0.01268682, 0.0170136 , 0.00991006, 0.01267376, 0.02518229,\n",
       "        0.02027793, 0.01066227, 0.01355124, 0.01121764, 0.01826949,\n",
       "        0.01017413, 0.01122413, 0.01296639, 0.02409277, 0.01454339,\n",
       "        0.02118816, 0.0185833 , 0.01376629, 0.01730824, 0.01456628]),\n",
       " 'std_score_time': array([0.00322348, 0.00360355, 0.0019728 , 0.00202122, 0.00340017,\n",
       "        0.00208726, 0.00087976, 0.00229287, 0.00248649, 0.00245191,\n",
       "        0.00190634, 0.00146143, 0.00533594, 0.00532076, 0.00166746,\n",
       "        0.0022533 , 0.00181164, 0.00388629, 0.00338411, 0.00347309]),\n",
       " 'param_reg_lambda': masked_array(data=[1.0, 0.001, 0.1, 100.0, 100.0, 10.0, 0.1, 10.0, 100.0,\n",
       "                    1.0, 10.0, 100.0, 100.0, 10.0, 0.1, 1.0, 1.0, 0.1, 1.0,\n",
       "                    0.1],\n",
       "              mask=[False, False, False, False, False, False, False, False,\n",
       "                    False, False, False, False, False, False, False, False,\n",
       "                    False, False, False, False],\n",
       "        fill_value='?',\n",
       "             dtype=object),\n",
       " 'param_n_estimators': masked_array(data=[200, 200, 200, 400, 500, 400, 200, 300, 100, 300, 200,\n",
       "                    100, 300, 400, 500, 400, 500, 100, 300, 300],\n",
       "              mask=[False, False, False, False, False, False, False, False,\n",
       "                    False, False, False, False, False, False, False, False,\n",
       "                    False, False, False, False],\n",
       "        fill_value='?',\n",
       "             dtype=object),\n",
       " 'param_max_depth': masked_array(data=[1, 5, 2, 2, 5, 5, 3, 4, 2, 4, 4, 3, 1, 5, 1, 5, 4, 5,\n",
       "                    5, 5],\n",
       "              mask=[False, False, False, False, False, False, False, False,\n",
       "                    False, False, False, False, False, False, False, False,\n",
       "                    False, False, False, False],\n",
       "        fill_value='?',\n",
       "             dtype=object),\n",
       " 'param_learning_rate': masked_array(data=[0.01, 0.1, 0.01, 0.01, 0.05, 0.05, 0.1, 0.05, 0.1,\n",
       "                    0.01, 0.01, 0.01, 0.01, 0.1, 0.05, 0.05, 0.05, 0.05,\n",
       "                    0.1, 0.1],\n",
       "              mask=[False, False, False, False, False, False, False, False,\n",
       "                    False, False, False, False, False, False, False, False,\n",
       "                    False, False, False, False],\n",
       "        fill_value='?',\n",
       "             dtype=object),\n",
       " 'params': [{'reg_lambda': 1.0,\n",
       "   'n_estimators': 200,\n",
       "   'max_depth': 1,\n",
       "   'learning_rate': 0.01},\n",
       "  {'reg_lambda': 0.001,\n",
       "   'n_estimators': 200,\n",
       "   'max_depth': 5,\n",
       "   'learning_rate': 0.1},\n",
       "  {'reg_lambda': 0.1,\n",
       "   'n_estimators': 200,\n",
       "   'max_depth': 2,\n",
       "   'learning_rate': 0.01},\n",
       "  {'reg_lambda': 100.0,\n",
       "   'n_estimators': 400,\n",
       "   'max_depth': 2,\n",
       "   'learning_rate': 0.01},\n",
       "  {'reg_lambda': 100.0,\n",
       "   'n_estimators': 500,\n",
       "   'max_depth': 5,\n",
       "   'learning_rate': 0.05},\n",
       "  {'reg_lambda': 10.0,\n",
       "   'n_estimators': 400,\n",
       "   'max_depth': 5,\n",
       "   'learning_rate': 0.05},\n",
       "  {'reg_lambda': 0.1,\n",
       "   'n_estimators': 200,\n",
       "   'max_depth': 3,\n",
       "   'learning_rate': 0.1},\n",
       "  {'reg_lambda': 10.0,\n",
       "   'n_estimators': 300,\n",
       "   'max_depth': 4,\n",
       "   'learning_rate': 0.05},\n",
       "  {'reg_lambda': 100.0,\n",
       "   'n_estimators': 100,\n",
       "   'max_depth': 2,\n",
       "   'learning_rate': 0.1},\n",
       "  {'reg_lambda': 1.0,\n",
       "   'n_estimators': 300,\n",
       "   'max_depth': 4,\n",
       "   'learning_rate': 0.01},\n",
       "  {'reg_lambda': 10.0,\n",
       "   'n_estimators': 200,\n",
       "   'max_depth': 4,\n",
       "   'learning_rate': 0.01},\n",
       "  {'reg_lambda': 100.0,\n",
       "   'n_estimators': 100,\n",
       "   'max_depth': 3,\n",
       "   'learning_rate': 0.01},\n",
       "  {'reg_lambda': 100.0,\n",
       "   'n_estimators': 300,\n",
       "   'max_depth': 1,\n",
       "   'learning_rate': 0.01},\n",
       "  {'reg_lambda': 10.0,\n",
       "   'n_estimators': 400,\n",
       "   'max_depth': 5,\n",
       "   'learning_rate': 0.1},\n",
       "  {'reg_lambda': 0.1,\n",
       "   'n_estimators': 500,\n",
       "   'max_depth': 1,\n",
       "   'learning_rate': 0.05},\n",
       "  {'reg_lambda': 1.0,\n",
       "   'n_estimators': 400,\n",
       "   'max_depth': 5,\n",
       "   'learning_rate': 0.05},\n",
       "  {'reg_lambda': 1.0,\n",
       "   'n_estimators': 500,\n",
       "   'max_depth': 4,\n",
       "   'learning_rate': 0.05},\n",
       "  {'reg_lambda': 0.1,\n",
       "   'n_estimators': 100,\n",
       "   'max_depth': 5,\n",
       "   'learning_rate': 0.05},\n",
       "  {'reg_lambda': 1.0,\n",
       "   'n_estimators': 300,\n",
       "   'max_depth': 5,\n",
       "   'learning_rate': 0.1},\n",
       "  {'reg_lambda': 0.1,\n",
       "   'n_estimators': 300,\n",
       "   'max_depth': 5,\n",
       "   'learning_rate': 0.1}],\n",
       " 'split0_test_score': array([-2547.50686594, -1071.27860438, -2261.98876496, -1856.57979941,\n",
       "        -1194.75130535, -1143.04071348, -1251.13060945, -1254.05556306,\n",
       "        -1546.37750498, -1447.53015187, -1919.32917528, -3637.4573941 ,\n",
       "        -2339.89980006, -1097.27773939, -1733.97818206, -1074.8735848 ,\n",
       "        -1148.45008767, -1201.03419119, -1062.4748498 , -1054.73675291]),\n",
       " 'split1_test_score': array([-2503.0323797 , -1046.51778248, -2214.10681317, -1834.07234005,\n",
       "        -1176.4324384 , -1109.06613154, -1223.9268871 , -1214.46535339,\n",
       "        -1529.64751822, -1423.57890099, -1909.75801307, -3656.12302473,\n",
       "        -2322.25834335, -1068.28740402, -1749.72181511, -1053.71424147,\n",
       "        -1104.36326418, -1178.42621567, -1035.80404043, -1031.11312754]),\n",
       " 'split2_test_score': array([-2500.00696165,  -995.82370125, -2179.19243824, -1800.13547162,\n",
       "        -1116.23147946, -1087.56494991, -1167.98611648, -1170.10372955,\n",
       "        -1486.49483926, -1346.07180277, -1803.84883795, -3601.22266654,\n",
       "        -2308.54969297, -1039.44822126, -1676.31460527, -1013.54530573,\n",
       "        -1076.40171776, -1126.22602129,  -977.25504288,  -972.08259267]),\n",
       " 'split3_test_score': array([-2399.12895111, -1022.55883646, -2128.97771349, -1787.55405322,\n",
       "        -1139.58159804, -1102.96794701, -1211.57130178, -1194.27686433,\n",
       "        -1525.83259782, -1363.10625803, -1781.85837001, -3461.6654502 ,\n",
       "        -2248.73374158, -1071.37748283, -1700.83281424, -1037.51353752,\n",
       "        -1099.53661852, -1141.56771652, -1014.11952941, -1011.22949754]),\n",
       " 'split4_test_score': array([-2548.33272839, -1076.18134363, -2275.49025837, -1866.51012191,\n",
       "        -1187.1158723 , -1140.65914112, -1251.81115266, -1246.10801216,\n",
       "        -1585.35252513, -1459.0595946 , -1931.83699649, -3705.05385236,\n",
       "        -2357.66905103, -1096.65337024, -1781.88431434, -1076.02764018,\n",
       "        -1132.84375836, -1194.07047807, -1058.53727116, -1051.02207273]),\n",
       " 'mean_test_score': array([-2499.60157736, -1042.47205364, -2211.95119765, -1828.97035724,\n",
       "        -1162.82253871, -1116.65977661, -1221.28521349, -1215.8019045 ,\n",
       "        -1534.74099708, -1407.86934165, -1869.32627856, -3612.30447759,\n",
       "        -2315.4221258 , -1074.60884355, -1728.5463462 , -1051.13486194,\n",
       "        -1112.3190893 , -1168.26492455, -1029.63814674, -1024.03680868]),\n",
       " 'std_test_score': array([54.36234933, 30.18312945, 53.85787306, 30.80359175, 30.01902627,\n",
       "        21.74194983, 30.86976801, 31.41731838, 32.03101602, 45.30536742,\n",
       "        63.21476876, 82.42585021, 37.21629756, 21.38462834, 36.9297679 ,\n",
       "        23.61501973, 25.4694145 , 29.4041275 , 31.42051482, 30.27881477]),\n",
       " 'rank_test_score': array([19,  3, 17, 15,  8,  7, 11, 10, 13, 12, 16, 20, 18,  5, 14,  4,  6,\n",
       "         9,  2,  1])}"
      ]
     },
     "execution_count": 36,
     "metadata": {},
     "output_type": "execute_result"
    }
   ],
   "source": [
    "result = xgb_search.cv_results_\n",
    "result"
   ]
  },
  {
   "cell_type": "code",
   "execution_count": 37,
   "id": "978f4979",
   "metadata": {},
   "outputs": [
    {
     "name": "stdout",
     "output_type": "stream",
     "text": [
      "-2499.601577357007 {'reg_lambda': 1.0, 'n_estimators': 200, 'max_depth': 1, 'learning_rate': 0.01}\n",
      "-1042.4720536412237 {'reg_lambda': 0.001, 'n_estimators': 200, 'max_depth': 5, 'learning_rate': 0.1}\n",
      "-2211.9511976461927 {'reg_lambda': 0.1, 'n_estimators': 200, 'max_depth': 2, 'learning_rate': 0.01}\n",
      "-1828.9703572424478 {'reg_lambda': 100.0, 'n_estimators': 400, 'max_depth': 2, 'learning_rate': 0.01}\n",
      "-1162.8225387082175 {'reg_lambda': 100.0, 'n_estimators': 500, 'max_depth': 5, 'learning_rate': 0.05}\n",
      "-1116.659776610614 {'reg_lambda': 10.0, 'n_estimators': 400, 'max_depth': 5, 'learning_rate': 0.05}\n",
      "-1221.2852134923337 {'reg_lambda': 0.1, 'n_estimators': 200, 'max_depth': 3, 'learning_rate': 0.1}\n",
      "-1215.801904496873 {'reg_lambda': 10.0, 'n_estimators': 300, 'max_depth': 4, 'learning_rate': 0.05}\n",
      "-1534.7409970823123 {'reg_lambda': 100.0, 'n_estimators': 100, 'max_depth': 2, 'learning_rate': 0.1}\n",
      "-1407.8693416517333 {'reg_lambda': 1.0, 'n_estimators': 300, 'max_depth': 4, 'learning_rate': 0.01}\n",
      "-1869.3262785597392 {'reg_lambda': 10.0, 'n_estimators': 200, 'max_depth': 4, 'learning_rate': 0.01}\n",
      "-3612.3044775876333 {'reg_lambda': 100.0, 'n_estimators': 100, 'max_depth': 3, 'learning_rate': 0.01}\n",
      "-2315.422125797707 {'reg_lambda': 100.0, 'n_estimators': 300, 'max_depth': 1, 'learning_rate': 0.01}\n",
      "-1074.608843547716 {'reg_lambda': 10.0, 'n_estimators': 400, 'max_depth': 5, 'learning_rate': 0.1}\n",
      "-1728.5463462048344 {'reg_lambda': 0.1, 'n_estimators': 500, 'max_depth': 1, 'learning_rate': 0.05}\n",
      "-1051.134861938405 {'reg_lambda': 1.0, 'n_estimators': 400, 'max_depth': 5, 'learning_rate': 0.05}\n",
      "-1112.319089296898 {'reg_lambda': 1.0, 'n_estimators': 500, 'max_depth': 4, 'learning_rate': 0.05}\n",
      "-1168.2649245492612 {'reg_lambda': 0.1, 'n_estimators': 100, 'max_depth': 5, 'learning_rate': 0.05}\n",
      "-1029.6381467369442 {'reg_lambda': 1.0, 'n_estimators': 300, 'max_depth': 5, 'learning_rate': 0.1}\n",
      "-1024.0368086777494 {'reg_lambda': 0.1, 'n_estimators': 300, 'max_depth': 5, 'learning_rate': 0.1}\n"
     ]
    }
   ],
   "source": [
    "for mts, params in zip(result['mean_test_score'], result['params']):\n",
    "    print(mts, params)"
   ]
  },
  {
   "cell_type": "code",
   "execution_count": 38,
   "id": "ea5906cd",
   "metadata": {},
   "outputs": [
    {
     "name": "stdout",
     "output_type": "stream",
     "text": [
      "XGBRegressor RMSE value :  1683.560797683603\n",
      "Score with XGBRegressor is 0.8668834152034599\n"
     ]
    }
   ],
   "source": [
    "xgb_reg = xgb_search.best_estimator_\n",
    "xgb_reg.fit(x_train, y_train)\n",
    "xgb_pred = xgb_reg.predict(x_test)\n",
    "\n",
    "print('XGBRegressor RMSE value : ' , np.sqrt(mean_squared_error(xgb_pred, y_test)))\n",
    "print('Score with XGBRegressor is', r2_score( y_test, xgb_pred ))"
   ]
  },
  {
   "cell_type": "markdown",
   "id": "8dbf0da8",
   "metadata": {},
   "source": [
    "Now will try with DecisionTreeRegressor"
   ]
  },
  {
   "cell_type": "code",
   "execution_count": 40,
   "id": "0ad0ba47",
   "metadata": {},
   "outputs": [],
   "source": [
    "max_depth = list(range(3,30))\n",
    "param_grid = {'max_depth' : max_depth }"
   ]
  },
  {
   "cell_type": "code",
   "execution_count": 41,
   "id": "20180f24",
   "metadata": {},
   "outputs": [
    {
     "data": {
      "text/plain": [
       "GridSearchCV(cv=10, estimator=DecisionTreeRegressor(),\n",
       "             param_grid={'max_depth': [3, 4, 5, 6, 7, 8, 9, 10, 11, 12, 13, 14,\n",
       "                                       15, 16, 17, 18, 19, 20, 21, 22, 23, 24,\n",
       "                                       25, 26, 27, 28, 29]})"
      ]
     },
     "execution_count": 41,
     "metadata": {},
     "output_type": "execute_result"
    }
   ],
   "source": [
    "from sklearn.tree import DecisionTreeRegressor\n",
    "\n",
    "dtr = DecisionTreeRegressor()\n",
    "\n",
    "dtr_search = GridSearchCV( dtr, param_grid, cv =10 )\n",
    "dtr_search.fit( x_train, y_train )"
   ]
  },
  {
   "cell_type": "code",
   "execution_count": 42,
   "id": "d1e66f3e",
   "metadata": {},
   "outputs": [
    {
     "data": {
      "text/plain": [
       "{'max_depth': 12}"
      ]
     },
     "execution_count": 42,
     "metadata": {},
     "output_type": "execute_result"
    }
   ],
   "source": [
    "dtr_search.best_params_"
   ]
  },
  {
   "cell_type": "code",
   "execution_count": 43,
   "id": "880ec9b1",
   "metadata": {},
   "outputs": [
    {
     "data": {
      "text/plain": [
       "{'mean_fit_time': array([0.00791626, 0.00829439, 0.01305664, 0.01293769, 0.01409628,\n",
       "        0.01516955, 0.01659312, 0.01706195, 0.01892116, 0.02022717,\n",
       "        0.01852715, 0.02378116, 0.02425587, 0.02347336, 0.02568069,\n",
       "        0.02328274, 0.02537196, 0.02439091, 0.02220409, 0.02531636,\n",
       "        0.02316613, 0.0224772 , 0.02262528, 0.02479737, 0.02562335,\n",
       "        0.02433472, 0.02638726]),\n",
       " 'std_fit_time': array([0.00296328, 0.00744314, 0.00491176, 0.00328273, 0.00423769,\n",
       "        0.00422186, 0.00489301, 0.00548419, 0.00542866, 0.00489388,\n",
       "        0.00534224, 0.00383847, 0.0071476 , 0.00728731, 0.0036811 ,\n",
       "        0.00211166, 0.00602584, 0.00497208, 0.00608642, 0.00506916,\n",
       "        0.00506623, 0.00604484, 0.00437909, 0.00682387, 0.00810802,\n",
       "        0.00592783, 0.00659497]),\n",
       " 'mean_score_time': array([0.00041873, 0.00206747, 0.        , 0.00201263, 0.0017112 ,\n",
       "        0.00121586, 0.00304804, 0.00105171, 0.00159786, 0.00267787,\n",
       "        0.00477061, 0.00063622, 0.0001667 , 0.00326238, 0.00040488,\n",
       "        0.00059791, 0.00095799, 0.00030169, 0.0024677 , 0.00174217,\n",
       "        0.00121043, 0.0015219 , 0.00073273, 0.        , 0.00109677,\n",
       "        0.0007755 , 0.0004127 ]),\n",
       " 'std_score_time': array([0.00070949, 0.00468128, 0.        , 0.00311164, 0.00298321,\n",
       "        0.00241247, 0.00427413, 0.00252029, 0.00479357, 0.00497014,\n",
       "        0.00488045, 0.00160364, 0.00034301, 0.00498291, 0.00049613,\n",
       "        0.0004363 , 0.00178166, 0.00064509, 0.00498654, 0.00265497,\n",
       "        0.00232278, 0.00222208, 0.00066008, 0.        , 0.0026953 ,\n",
       "        0.00201619, 0.00082543]),\n",
       " 'param_max_depth': masked_array(data=[3, 4, 5, 6, 7, 8, 9, 10, 11, 12, 13, 14, 15, 16, 17,\n",
       "                    18, 19, 20, 21, 22, 23, 24, 25, 26, 27, 28, 29],\n",
       "              mask=[False, False, False, False, False, False, False, False,\n",
       "                    False, False, False, False, False, False, False, False,\n",
       "                    False, False, False, False, False, False, False, False,\n",
       "                    False, False, False],\n",
       "        fill_value='?',\n",
       "             dtype=object),\n",
       " 'params': [{'max_depth': 3},\n",
       "  {'max_depth': 4},\n",
       "  {'max_depth': 5},\n",
       "  {'max_depth': 6},\n",
       "  {'max_depth': 7},\n",
       "  {'max_depth': 8},\n",
       "  {'max_depth': 9},\n",
       "  {'max_depth': 10},\n",
       "  {'max_depth': 11},\n",
       "  {'max_depth': 12},\n",
       "  {'max_depth': 13},\n",
       "  {'max_depth': 14},\n",
       "  {'max_depth': 15},\n",
       "  {'max_depth': 16},\n",
       "  {'max_depth': 17},\n",
       "  {'max_depth': 18},\n",
       "  {'max_depth': 19},\n",
       "  {'max_depth': 20},\n",
       "  {'max_depth': 21},\n",
       "  {'max_depth': 22},\n",
       "  {'max_depth': 23},\n",
       "  {'max_depth': 24},\n",
       "  {'max_depth': 25},\n",
       "  {'max_depth': 26},\n",
       "  {'max_depth': 27},\n",
       "  {'max_depth': 28},\n",
       "  {'max_depth': 29}],\n",
       " 'split0_test_score': array([0.54322875, 0.65471691, 0.71338864, 0.74412659, 0.76055154,\n",
       "        0.76404009, 0.74609676, 0.737962  , 0.76630666, 0.77062443,\n",
       "        0.75198173, 0.72259946, 0.71830705, 0.72080869, 0.75877449,\n",
       "        0.71802431, 0.71445551, 0.75837989, 0.75863361, 0.71444896,\n",
       "        0.71457811, 0.71800897, 0.71420992, 0.71407644, 0.71806686,\n",
       "        0.75834065, 0.7177411 ]),\n",
       " 'split1_test_score': array([0.58120663, 0.68099326, 0.72937131, 0.77828248, 0.82117827,\n",
       "        0.82990164, 0.84094727, 0.84996182, 0.84888023, 0.842102  ,\n",
       "        0.83874544, 0.83993176, 0.83813252, 0.83672312, 0.83553712,\n",
       "        0.8364972 , 0.83658479, 0.83500743, 0.83501631, 0.83520378,\n",
       "        0.83406524, 0.83616555, 0.83481308, 0.83627344, 0.83623125,\n",
       "        0.83472136, 0.83413328]),\n",
       " 'split2_test_score': array([0.50873236, 0.60453018, 0.66126502, 0.68447979, 0.7274532 ,\n",
       "        0.74146741, 0.75951085, 0.8068726 , 0.81827641, 0.80999871,\n",
       "        0.80932094, 0.81123253, 0.8080413 , 0.80705374, 0.80692607,\n",
       "        0.80517049, 0.80601977, 0.80593503, 0.80519287, 0.8060988 ,\n",
       "        0.80488036, 0.8050898 , 0.80618308, 0.80476321, 0.80494926,\n",
       "        0.80613027, 0.804972  ]),\n",
       " 'split3_test_score': array([0.56856862, 0.6830074 , 0.73352181, 0.75837391, 0.7925217 ,\n",
       "        0.807892  , 0.8042659 , 0.83188718, 0.83162149, 0.82900456,\n",
       "        0.82379713, 0.82301004, 0.82198248, 0.82108152, 0.81923275,\n",
       "        0.81931541, 0.81919699, 0.81974777, 0.81962486, 0.81930775,\n",
       "        0.81955769, 0.81952944, 0.81894246, 0.81941081, 0.81891466,\n",
       "        0.8189697 , 0.81949934]),\n",
       " 'split4_test_score': array([0.5399102 , 0.64828903, 0.70221707, 0.7489614 , 0.84075075,\n",
       "        0.84953231, 0.86086656, 0.86879334, 0.88398831, 0.87927417,\n",
       "        0.87866079, 0.86372757, 0.87466903, 0.87424398, 0.87278824,\n",
       "        0.86121045, 0.87527786, 0.87487304, 0.87486787, 0.86176282,\n",
       "        0.87350613, 0.87350874, 0.87306006, 0.87254603, 0.86092608,\n",
       "        0.86331208, 0.87433909]),\n",
       " 'split5_test_score': array([0.67335061, 0.73165088, 0.78795991, 0.8291761 , 0.83959111,\n",
       "        0.86243464, 0.70641531, 0.86640685, 0.71984004, 0.86455262,\n",
       "        0.6743371 , 0.82158161, 0.81883173, 0.81898988, 0.81917456,\n",
       "        0.67032873, 0.81661301, 0.81671555, 0.81711786, 0.67032505,\n",
       "        0.81636954, 0.81818617, 0.67226851, 0.67219845, 0.81734525,\n",
       "        0.81819014, 0.67221487]),\n",
       " 'split6_test_score': array([0.58375763, 0.70718227, 0.76258965, 0.80743723, 0.81928871,\n",
       "        0.82021208, 0.81257613, 0.83533227, 0.83590963, 0.83400972,\n",
       "        0.82748487, 0.73831919, 0.73629967, 0.73574206, 0.82064409,\n",
       "        0.82036288, 0.81838119, 0.73424496, 0.81943349, 0.8195204 ,\n",
       "        0.81944474, 0.81949414, 0.81935087, 0.81922641, 0.73420929,\n",
       "        0.81845984, 0.8195656 ]),\n",
       " 'split7_test_score': array([0.56937336, 0.68181222, 0.74519664, 0.7597833 , 0.785408  ,\n",
       "        0.80033136, 0.80164609, 0.81599243, 0.82255677, 0.81003089,\n",
       "        0.80789773, 0.8077677 , 0.80330067, 0.79884187, 0.8033692 ,\n",
       "        0.79968173, 0.80307791, 0.7996773 , 0.80272472, 0.79979832,\n",
       "        0.80277545, 0.80315175, 0.80305306, 0.799535  , 0.80275566,\n",
       "        0.80273312, 0.80287566]),\n",
       " 'split8_test_score': array([0.52731779, 0.62373792, 0.66711567, 0.69549277, 0.70825496,\n",
       "        0.69201203, 0.70913701, 0.71109873, 0.72378605, 0.70919345,\n",
       "        0.7062465 , 0.70653295, 0.70506565, 0.70689725, 0.71059036,\n",
       "        0.70302387, 0.70296476, 0.7030087 , 0.70645455, 0.70288746,\n",
       "        0.71018178, 0.70281117, 0.70657362, 0.70647779, 0.70302023,\n",
       "        0.70288352, 0.7028084 ]),\n",
       " 'split9_test_score': array([0.58758173, 0.68190117, 0.76085181, 0.78393095, 0.79142568,\n",
       "        0.78058073, 0.79373815, 0.79787061, 0.79583344, 0.79316913,\n",
       "        0.79431111, 0.78712227, 0.78767737, 0.7871182 , 0.7810948 ,\n",
       "        0.7862452 , 0.78237379, 0.78669387, 0.78585311, 0.78490177,\n",
       "        0.7851713 , 0.78732335, 0.78815908, 0.7868429 , 0.78807336,\n",
       "        0.78806617, 0.78876071]),\n",
       " 'mean_test_score': array([0.56830277, 0.66978213, 0.72634775, 0.75900445, 0.78864239,\n",
       "        0.79484043, 0.78352   , 0.81221778, 0.8046999 , 0.81419597,\n",
       "        0.79127833, 0.79218251, 0.79123075, 0.79075003, 0.80281317,\n",
       "        0.78198603, 0.79749456, 0.79342835, 0.80249193, 0.78142551,\n",
       "        0.79805303, 0.79832691, 0.78366137, 0.78313505, 0.78844919,\n",
       "        0.80118069, 0.783691  ]),\n",
       " 'std_test_score': array([0.04298436, 0.03589638, 0.03900049, 0.04263056, 0.04282224,\n",
       "        0.04920167, 0.04943976, 0.04946784, 0.05073605, 0.04643564,\n",
       "        0.05942898, 0.04992358, 0.05202867, 0.05108394, 0.04213784,\n",
       "        0.05981347, 0.05001491, 0.04769137, 0.04303663, 0.0601567 ,\n",
       "        0.04813509, 0.04913286, 0.06099591, 0.06094208, 0.04996996,\n",
       "        0.04193582, 0.06123371]),\n",
       " 'rank_test_score': array([27, 26, 25, 24, 16, 10, 20,  2,  3,  1, 13, 12, 14, 15,  4, 22,  9,\n",
       "        11,  5, 23,  8,  7, 19, 21, 17,  6, 18])}"
      ]
     },
     "execution_count": 43,
     "metadata": {},
     "output_type": "execute_result"
    }
   ],
   "source": [
    "result = dtr_search.cv_results_\n",
    "result"
   ]
  },
  {
   "cell_type": "code",
   "execution_count": 44,
   "id": "cc2257d5",
   "metadata": {},
   "outputs": [
    {
     "name": "stdout",
     "output_type": "stream",
     "text": [
      "0.5683027677633262 {'max_depth': 3}\n",
      "0.6697821251717969 {'max_depth': 4}\n",
      "0.7263477540559744 {'max_depth': 5}\n",
      "0.7590044528974632 {'max_depth': 6}\n",
      "0.788642390238561 {'max_depth': 7}\n",
      "0.7948404295941685 {'max_depth': 8}\n",
      "0.7835200010574658 {'max_depth': 9}\n",
      "0.8122177830556214 {'max_depth': 10}\n",
      "0.804699902165039 {'max_depth': 11}\n",
      "0.8141959676843117 {'max_depth': 12}\n",
      "0.7912783345253451 {'max_depth': 13}\n",
      "0.7921825084789808 {'max_depth': 14}\n",
      "0.7912307468098135 {'max_depth': 15}\n",
      "0.7907500312971045 {'max_depth': 16}\n",
      "0.80281316878539 {'max_depth': 17}\n",
      "0.7819860280182167 {'max_depth': 18}\n",
      "0.7974945594165945 {'max_depth': 19}\n",
      "0.7934283542771666 {'max_depth': 20}\n",
      "0.8024919266391312 {'max_depth': 21}\n",
      "0.7814255123922696 {'max_depth': 22}\n",
      "0.798053034038837 {'max_depth': 23}\n",
      "0.7983269077921592 {'max_depth': 24}\n",
      "0.7836613743873224 {'max_depth': 25}\n",
      "0.7831350482607122 {'max_depth': 26}\n",
      "0.788449190243727 {'max_depth': 27}\n",
      "0.8011806857312521 {'max_depth': 28}\n",
      "0.7836910040746828 {'max_depth': 29}\n"
     ]
    }
   ],
   "source": [
    "for mts, params in zip(result['mean_test_score'], result['params']):\n",
    "    print(mts, params)"
   ]
  },
  {
   "cell_type": "code",
   "execution_count": 45,
   "id": "85d907cc",
   "metadata": {},
   "outputs": [
    {
     "name": "stdout",
     "output_type": "stream",
     "text": [
      "DecisionTreeRegressor RMSE value :  2335.263614708219\n",
      "Score with DecisionTreeRegressor is 0.7438782955043219\n"
     ]
    }
   ],
   "source": [
    "dtr_reg = dtr_search.best_estimator_\n",
    "dtr_reg.fit(x_train, y_train)\n",
    "dtr_pred = dtr_reg.predict(x_test)\n",
    "\n",
    "print('DecisionTreeRegressor RMSE value : ' , np.sqrt(mean_squared_error(dtr_pred, y_test)))\n",
    "print('Score with DecisionTreeRegressor is', r2_score( y_test, dtr_pred ))"
   ]
  },
  {
   "cell_type": "markdown",
   "id": "ce8709f3",
   "metadata": {},
   "source": [
    "# Saving the Model"
   ]
  },
  {
   "cell_type": "code",
   "execution_count": 46,
   "id": "75c36942",
   "metadata": {},
   "outputs": [],
   "source": [
    "import pickle\n",
    "filename = 'flight_price_prediction.pkl'\n",
    "pickle.dump(xgb_reg, open(filename, 'wb' ))"
   ]
  },
  {
   "cell_type": "markdown",
   "id": "ea68f27b",
   "metadata": {},
   "source": [
    "Saving the model with XGBRegressor  as the accuracy is 87 % the greatest among all the other models"
   ]
  },
  {
   "cell_type": "code",
   "execution_count": 47,
   "id": "2e2e408b",
   "metadata": {},
   "outputs": [
    {
     "name": "stdout",
     "output_type": "stream",
     "text": [
      "0.8668834152034599\n"
     ]
    }
   ],
   "source": [
    "filename = 'flight_price_prediction.pkl'\n",
    "loaded_model = pickle.load(open(filename, 'rb'))\n",
    "result = loaded_model.score(x_test, y_test)\n",
    "print(result)"
   ]
  }
 ],
 "metadata": {
  "kernelspec": {
   "display_name": "Python 3",
   "language": "python",
   "name": "python3"
  },
  "language_info": {
   "codemirror_mode": {
    "name": "ipython",
    "version": 3
   },
   "file_extension": ".py",
   "mimetype": "text/x-python",
   "name": "python",
   "nbconvert_exporter": "python",
   "pygments_lexer": "ipython3",
   "version": "3.8.8"
  }
 },
 "nbformat": 4,
 "nbformat_minor": 5
}
