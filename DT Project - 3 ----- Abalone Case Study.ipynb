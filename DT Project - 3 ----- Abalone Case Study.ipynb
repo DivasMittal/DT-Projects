{
 "cells": [
  {
   "cell_type": "code",
   "execution_count": 3,
   "id": "0ea096c0",
   "metadata": {},
   "outputs": [],
   "source": [
    "import pandas as pd\n",
    "import warnings\n",
    "warnings.filterwarnings('ignore')"
   ]
  },
  {
   "cell_type": "code",
   "execution_count": 4,
   "id": "16be9b49",
   "metadata": {},
   "outputs": [
    {
     "data": {
      "text/html": [
       "<div>\n",
       "<style scoped>\n",
       "    .dataframe tbody tr th:only-of-type {\n",
       "        vertical-align: middle;\n",
       "    }\n",
       "\n",
       "    .dataframe tbody tr th {\n",
       "        vertical-align: top;\n",
       "    }\n",
       "\n",
       "    .dataframe thead th {\n",
       "        text-align: right;\n",
       "    }\n",
       "</style>\n",
       "<table border=\"1\" class=\"dataframe\">\n",
       "  <thead>\n",
       "    <tr style=\"text-align: right;\">\n",
       "      <th></th>\n",
       "      <th>Sex</th>\n",
       "      <th>Length</th>\n",
       "      <th>Diameter</th>\n",
       "      <th>Height</th>\n",
       "      <th>Whole weight</th>\n",
       "      <th>Shucked weight</th>\n",
       "      <th>Viscera weight</th>\n",
       "      <th>Shell weight</th>\n",
       "      <th>Rings</th>\n",
       "    </tr>\n",
       "  </thead>\n",
       "  <tbody>\n",
       "    <tr>\n",
       "      <th>0</th>\n",
       "      <td>M</td>\n",
       "      <td>0.455</td>\n",
       "      <td>0.365</td>\n",
       "      <td>0.095</td>\n",
       "      <td>0.5140</td>\n",
       "      <td>0.2245</td>\n",
       "      <td>0.1010</td>\n",
       "      <td>0.150</td>\n",
       "      <td>15</td>\n",
       "    </tr>\n",
       "    <tr>\n",
       "      <th>1</th>\n",
       "      <td>M</td>\n",
       "      <td>0.350</td>\n",
       "      <td>0.265</td>\n",
       "      <td>0.090</td>\n",
       "      <td>0.2255</td>\n",
       "      <td>0.0995</td>\n",
       "      <td>0.0485</td>\n",
       "      <td>0.070</td>\n",
       "      <td>7</td>\n",
       "    </tr>\n",
       "    <tr>\n",
       "      <th>2</th>\n",
       "      <td>F</td>\n",
       "      <td>0.530</td>\n",
       "      <td>0.420</td>\n",
       "      <td>0.135</td>\n",
       "      <td>0.6770</td>\n",
       "      <td>0.2565</td>\n",
       "      <td>0.1415</td>\n",
       "      <td>0.210</td>\n",
       "      <td>9</td>\n",
       "    </tr>\n",
       "    <tr>\n",
       "      <th>3</th>\n",
       "      <td>M</td>\n",
       "      <td>0.440</td>\n",
       "      <td>0.365</td>\n",
       "      <td>0.125</td>\n",
       "      <td>0.5160</td>\n",
       "      <td>0.2155</td>\n",
       "      <td>0.1140</td>\n",
       "      <td>0.155</td>\n",
       "      <td>10</td>\n",
       "    </tr>\n",
       "    <tr>\n",
       "      <th>4</th>\n",
       "      <td>I</td>\n",
       "      <td>0.330</td>\n",
       "      <td>0.255</td>\n",
       "      <td>0.080</td>\n",
       "      <td>0.2050</td>\n",
       "      <td>0.0895</td>\n",
       "      <td>0.0395</td>\n",
       "      <td>0.055</td>\n",
       "      <td>7</td>\n",
       "    </tr>\n",
       "  </tbody>\n",
       "</table>\n",
       "</div>"
      ],
      "text/plain": [
       "  Sex  Length  Diameter  Height  Whole weight  Shucked weight  Viscera weight  \\\n",
       "0   M   0.455     0.365   0.095        0.5140          0.2245          0.1010   \n",
       "1   M   0.350     0.265   0.090        0.2255          0.0995          0.0485   \n",
       "2   F   0.530     0.420   0.135        0.6770          0.2565          0.1415   \n",
       "3   M   0.440     0.365   0.125        0.5160          0.2155          0.1140   \n",
       "4   I   0.330     0.255   0.080        0.2050          0.0895          0.0395   \n",
       "\n",
       "   Shell weight  Rings  \n",
       "0         0.150     15  \n",
       "1         0.070      7  \n",
       "2         0.210      9  \n",
       "3         0.155     10  \n",
       "4         0.055      7  "
      ]
     },
     "execution_count": 4,
     "metadata": {},
     "output_type": "execute_result"
    }
   ],
   "source": [
    "df = pd.read_csv('abalone.csv')\n",
    "df.head()"
   ]
  },
  {
   "cell_type": "code",
   "execution_count": 5,
   "id": "a44c2e52",
   "metadata": {},
   "outputs": [
    {
     "data": {
      "text/plain": [
       "Index(['Sex', 'Length', 'Diameter', 'Height', 'Whole weight', 'Shucked weight',\n",
       "       'Viscera weight', 'Shell weight', 'Rings'],\n",
       "      dtype='object')"
      ]
     },
     "execution_count": 5,
     "metadata": {},
     "output_type": "execute_result"
    }
   ],
   "source": [
    "df.columns"
   ]
  },
  {
   "cell_type": "code",
   "execution_count": 6,
   "id": "560f38d6",
   "metadata": {},
   "outputs": [
    {
     "data": {
      "text/plain": [
       "9"
      ]
     },
     "execution_count": 6,
     "metadata": {},
     "output_type": "execute_result"
    }
   ],
   "source": [
    "len(df.columnsumns)"
   ]
  },
  {
   "cell_type": "markdown",
   "id": "d4eb9016",
   "metadata": {},
   "source": [
    "There are 9 columns in the dataset"
   ]
  },
  {
   "cell_type": "code",
   "execution_count": 7,
   "id": "7e5ddfd1",
   "metadata": {
    "scrolled": true
   },
   "outputs": [
    {
     "data": {
      "text/html": [
       "<div>\n",
       "<style scoped>\n",
       "    .dataframe tbody tr th:only-of-type {\n",
       "        vertical-align: middle;\n",
       "    }\n",
       "\n",
       "    .dataframe tbody tr th {\n",
       "        vertical-align: top;\n",
       "    }\n",
       "\n",
       "    .dataframe thead th {\n",
       "        text-align: right;\n",
       "    }\n",
       "</style>\n",
       "<table border=\"1\" class=\"dataframe\">\n",
       "  <thead>\n",
       "    <tr style=\"text-align: right;\">\n",
       "      <th></th>\n",
       "      <th>Length</th>\n",
       "      <th>Diameter</th>\n",
       "      <th>Height</th>\n",
       "      <th>Whole weight</th>\n",
       "      <th>Shucked weight</th>\n",
       "      <th>Viscera weight</th>\n",
       "      <th>Shell weight</th>\n",
       "      <th>Rings</th>\n",
       "    </tr>\n",
       "  </thead>\n",
       "  <tbody>\n",
       "    <tr>\n",
       "      <th>count</th>\n",
       "      <td>4177.000000</td>\n",
       "      <td>4177.000000</td>\n",
       "      <td>4177.000000</td>\n",
       "      <td>4177.000000</td>\n",
       "      <td>4177.000000</td>\n",
       "      <td>4177.000000</td>\n",
       "      <td>4177.000000</td>\n",
       "      <td>4177.000000</td>\n",
       "    </tr>\n",
       "    <tr>\n",
       "      <th>mean</th>\n",
       "      <td>0.523992</td>\n",
       "      <td>0.407881</td>\n",
       "      <td>0.139516</td>\n",
       "      <td>0.828742</td>\n",
       "      <td>0.359367</td>\n",
       "      <td>0.180594</td>\n",
       "      <td>0.238831</td>\n",
       "      <td>9.933684</td>\n",
       "    </tr>\n",
       "    <tr>\n",
       "      <th>std</th>\n",
       "      <td>0.120093</td>\n",
       "      <td>0.099240</td>\n",
       "      <td>0.041827</td>\n",
       "      <td>0.490389</td>\n",
       "      <td>0.221963</td>\n",
       "      <td>0.109614</td>\n",
       "      <td>0.139203</td>\n",
       "      <td>3.224169</td>\n",
       "    </tr>\n",
       "    <tr>\n",
       "      <th>min</th>\n",
       "      <td>0.075000</td>\n",
       "      <td>0.055000</td>\n",
       "      <td>0.000000</td>\n",
       "      <td>0.002000</td>\n",
       "      <td>0.001000</td>\n",
       "      <td>0.000500</td>\n",
       "      <td>0.001500</td>\n",
       "      <td>1.000000</td>\n",
       "    </tr>\n",
       "    <tr>\n",
       "      <th>25%</th>\n",
       "      <td>0.450000</td>\n",
       "      <td>0.350000</td>\n",
       "      <td>0.115000</td>\n",
       "      <td>0.441500</td>\n",
       "      <td>0.186000</td>\n",
       "      <td>0.093500</td>\n",
       "      <td>0.130000</td>\n",
       "      <td>8.000000</td>\n",
       "    </tr>\n",
       "    <tr>\n",
       "      <th>50%</th>\n",
       "      <td>0.545000</td>\n",
       "      <td>0.425000</td>\n",
       "      <td>0.140000</td>\n",
       "      <td>0.799500</td>\n",
       "      <td>0.336000</td>\n",
       "      <td>0.171000</td>\n",
       "      <td>0.234000</td>\n",
       "      <td>9.000000</td>\n",
       "    </tr>\n",
       "    <tr>\n",
       "      <th>75%</th>\n",
       "      <td>0.615000</td>\n",
       "      <td>0.480000</td>\n",
       "      <td>0.165000</td>\n",
       "      <td>1.153000</td>\n",
       "      <td>0.502000</td>\n",
       "      <td>0.253000</td>\n",
       "      <td>0.329000</td>\n",
       "      <td>11.000000</td>\n",
       "    </tr>\n",
       "    <tr>\n",
       "      <th>max</th>\n",
       "      <td>0.815000</td>\n",
       "      <td>0.650000</td>\n",
       "      <td>1.130000</td>\n",
       "      <td>2.825500</td>\n",
       "      <td>1.488000</td>\n",
       "      <td>0.760000</td>\n",
       "      <td>1.005000</td>\n",
       "      <td>29.000000</td>\n",
       "    </tr>\n",
       "  </tbody>\n",
       "</table>\n",
       "</div>"
      ],
      "text/plain": [
       "            Length     Diameter       Height  Whole weight  Shucked weight  \\\n",
       "count  4177.000000  4177.000000  4177.000000   4177.000000     4177.000000   \n",
       "mean      0.523992     0.407881     0.139516      0.828742        0.359367   \n",
       "std       0.120093     0.099240     0.041827      0.490389        0.221963   \n",
       "min       0.075000     0.055000     0.000000      0.002000        0.001000   \n",
       "25%       0.450000     0.350000     0.115000      0.441500        0.186000   \n",
       "50%       0.545000     0.425000     0.140000      0.799500        0.336000   \n",
       "75%       0.615000     0.480000     0.165000      1.153000        0.502000   \n",
       "max       0.815000     0.650000     1.130000      2.825500        1.488000   \n",
       "\n",
       "       Viscera weight  Shell weight        Rings  \n",
       "count     4177.000000   4177.000000  4177.000000  \n",
       "mean         0.180594      0.238831     9.933684  \n",
       "std          0.109614      0.139203     3.224169  \n",
       "min          0.000500      0.001500     1.000000  \n",
       "25%          0.093500      0.130000     8.000000  \n",
       "50%          0.171000      0.234000     9.000000  \n",
       "75%          0.253000      0.329000    11.000000  \n",
       "max          0.760000      1.005000    29.000000  "
      ]
     },
     "execution_count": 7,
     "metadata": {},
     "output_type": "execute_result"
    }
   ],
   "source": [
    "df.describe()"
   ]
  },
  {
   "cell_type": "markdown",
   "id": "0a88be82",
   "metadata": {},
   "source": [
    "As per data, following are the observations :-\n",
    "\n",
    "1) No feature has Minimum Value = 0, except Height\n",
    "\n",
    "2) All features are not Normally Distributed, ( Theortically if feature is normally distributed, Mean = Median = Mode ).\n",
    "\n",
    "3) But features are close to Normality\n",
    "\n",
    "4) All columns are numerical, except Sex\n",
    "\n",
    "5) Each feature has different Scale"
   ]
  },
  {
   "cell_type": "code",
   "execution_count": 9,
   "id": "1f3c15df",
   "metadata": {},
   "outputs": [
    {
     "data": {
      "text/plain": [
       "(4177, 9)"
      ]
     },
     "execution_count": 9,
     "metadata": {},
     "output_type": "execute_result"
    }
   ],
   "source": [
    "df.shape"
   ]
  },
  {
   "cell_type": "code",
   "execution_count": 10,
   "id": "403fd5d3",
   "metadata": {},
   "outputs": [
    {
     "name": "stdout",
     "output_type": "stream",
     "text": [
      "<class 'pandas.core.frame.DataFrame'>\n",
      "RangeIndex: 4177 entries, 0 to 4176\n",
      "Data columns (total 9 columns):\n",
      " #   Column          Non-Null Count  Dtype  \n",
      "---  ------          --------------  -----  \n",
      " 0   Sex             4177 non-null   object \n",
      " 1   Length          4177 non-null   float64\n",
      " 2   Diameter        4177 non-null   float64\n",
      " 3   Height          4177 non-null   float64\n",
      " 4   Whole weight    4177 non-null   float64\n",
      " 5   Shucked weight  4177 non-null   float64\n",
      " 6   Viscera weight  4177 non-null   float64\n",
      " 7   Shell weight    4177 non-null   float64\n",
      " 8   Rings           4177 non-null   int64  \n",
      "dtypes: float64(7), int64(1), object(1)\n",
      "memory usage: 293.8+ KB\n"
     ]
    }
   ],
   "source": [
    "df.info()"
   ]
  },
  {
   "cell_type": "markdown",
   "id": "46f96db4",
   "metadata": {},
   "source": [
    "As per data, no null value is present in the dataset in any of the 9 columns, 1 - Object Type, 7 - Float Type and 1 - Int Type"
   ]
  },
  {
   "cell_type": "code",
   "execution_count": 6,
   "id": "f723f0ba",
   "metadata": {},
   "outputs": [
    {
     "data": {
      "text/plain": [
       "array([[<AxesSubplot:title={'center':'Length'}>,\n",
       "        <AxesSubplot:title={'center':'Diameter'}>,\n",
       "        <AxesSubplot:title={'center':'Height'}>,\n",
       "        <AxesSubplot:title={'center':'Whole weight'}>],\n",
       "       [<AxesSubplot:title={'center':'Shucked weight'}>,\n",
       "        <AxesSubplot:title={'center':'Viscera weight'}>,\n",
       "        <AxesSubplot:title={'center':'Shell weight'}>,\n",
       "        <AxesSubplot:title={'center':'Rings'}>]], dtype=object)"
      ]
     },
     "execution_count": 6,
     "metadata": {},
     "output_type": "execute_result"
    },
    {
     "data": {
      "image/png": "[encoded data removed]",
      "text/plain": [
       "<Figure size 1440x1440 with 8 Axes>"
      ]
     },
     "metadata": {
      "needs_background": "light"
     },
     "output_type": "display_data"
    }
   ],
   "source": [
    "df.hist(figsize=(20,20), grid = True, layout = (2,4), bins = 30)"
   ]
  },
  {
   "cell_type": "code",
   "execution_count": 8,
   "id": "b16e95f4",
   "metadata": {},
   "outputs": [],
   "source": [
    "import numpy as np\n",
    "\n",
    "nf = df.select_dtypes(include=[np.number]).columns\n",
    "cf = df.select_dtypes(include=[np.object]).columns"
   ]
  },
  {
   "cell_type": "markdown",
   "id": "bb27ca03",
   "metadata": {},
   "source": [
    "Bifurcating Numerical Features and Categorical Features"
   ]
  },
  {
   "cell_type": "code",
   "execution_count": 9,
   "id": "ec560b0e",
   "metadata": {},
   "outputs": [
    {
     "data": {
      "text/plain": [
       "array([-0.63964346, -0.60897935,  3.12769368,  0.53076787,  0.71883966,\n",
       "        0.59163959,  0.62070382,  1.11370177])"
      ]
     },
     "execution_count": 9,
     "metadata": {},
     "output_type": "execute_result"
    }
   ],
   "source": [
    "from scipy.stats import skew\n",
    "\n",
    "skew_list = skew(df[nf],nan_policy='omit')\n",
    "skew_list"
   ]
  },
  {
   "cell_type": "markdown",
   "id": "39faa9f4",
   "metadata": {},
   "source": [
    "Sending all numerical features and omitting nan values"
   ]
  },
  {
   "cell_type": "code",
   "execution_count": 10,
   "id": "66326eac",
   "metadata": {},
   "outputs": [
    {
     "data": {
      "text/html": [
       "<div>\n",
       "<style scoped>\n",
       "    .dataframe tbody tr th:only-of-type {\n",
       "        vertical-align: middle;\n",
       "    }\n",
       "\n",
       "    .dataframe tbody tr th {\n",
       "        vertical-align: top;\n",
       "    }\n",
       "\n",
       "    .dataframe thead th {\n",
       "        text-align: right;\n",
       "    }\n",
       "</style>\n",
       "<table border=\"1\" class=\"dataframe\">\n",
       "  <thead>\n",
       "    <tr style=\"text-align: right;\">\n",
       "      <th></th>\n",
       "      <th>Features</th>\n",
       "      <th>Skewness</th>\n",
       "    </tr>\n",
       "  </thead>\n",
       "  <tbody>\n",
       "    <tr>\n",
       "      <th>0</th>\n",
       "      <td>Length</td>\n",
       "      <td>-0.639643</td>\n",
       "    </tr>\n",
       "    <tr>\n",
       "      <th>1</th>\n",
       "      <td>Diameter</td>\n",
       "      <td>-0.608979</td>\n",
       "    </tr>\n",
       "    <tr>\n",
       "      <th>2</th>\n",
       "      <td>Height</td>\n",
       "      <td>3.127694</td>\n",
       "    </tr>\n",
       "    <tr>\n",
       "      <th>3</th>\n",
       "      <td>Whole weight</td>\n",
       "      <td>0.530768</td>\n",
       "    </tr>\n",
       "    <tr>\n",
       "      <th>4</th>\n",
       "      <td>Shucked weight</td>\n",
       "      <td>0.718840</td>\n",
       "    </tr>\n",
       "    <tr>\n",
       "      <th>5</th>\n",
       "      <td>Viscera weight</td>\n",
       "      <td>0.591640</td>\n",
       "    </tr>\n",
       "    <tr>\n",
       "      <th>6</th>\n",
       "      <td>Shell weight</td>\n",
       "      <td>0.620704</td>\n",
       "    </tr>\n",
       "    <tr>\n",
       "      <th>7</th>\n",
       "      <td>Rings</td>\n",
       "      <td>1.113702</td>\n",
       "    </tr>\n",
       "  </tbody>\n",
       "</table>\n",
       "</div>"
      ],
      "text/plain": [
       "         Features  Skewness\n",
       "0          Length -0.639643\n",
       "1        Diameter -0.608979\n",
       "2          Height  3.127694\n",
       "3    Whole weight  0.530768\n",
       "4  Shucked weight  0.718840\n",
       "5  Viscera weight  0.591640\n",
       "6    Shell weight  0.620704\n",
       "7           Rings  1.113702"
      ]
     },
     "execution_count": 10,
     "metadata": {},
     "output_type": "execute_result"
    }
   ],
   "source": [
    "skew_list_df = pd.concat([pd.DataFrame(nf,columns=['Features']),pd.DataFrame(skew_list,columns=['Skewness'])],axis = 1)\n",
    "skew_list_df"
   ]
  },
  {
   "cell_type": "markdown",
   "id": "30c6d671",
   "metadata": {},
   "source": [
    "According to the rules :-\n",
    "1) For a normally Distributed Data, Skewness should be greater than 0.\n",
    "\n",
    "2) Skewness > 0 , More weight is on the right tail of the distribution"
   ]
  },
  {
   "cell_type": "code",
   "execution_count": 11,
   "id": "746c5337",
   "metadata": {},
   "outputs": [
    {
     "data": {
      "text/plain": [
       "9     689\n",
       "10    634\n",
       "8     568\n",
       "11    487\n",
       "7     391\n",
       "12    267\n",
       "6     259\n",
       "13    203\n",
       "14    126\n",
       "5     115\n",
       "15    103\n",
       "16     67\n",
       "17     58\n",
       "4      57\n",
       "18     42\n",
       "19     32\n",
       "20     26\n",
       "3      15\n",
       "21     14\n",
       "23      9\n",
       "22      6\n",
       "27      2\n",
       "24      2\n",
       "26      1\n",
       "29      1\n",
       "25      1\n",
       "1       1\n",
       "2       1\n",
       "Name: Rings, dtype: int64"
      ]
     },
     "execution_count": 11,
     "metadata": {},
     "output_type": "execute_result"
    }
   ],
   "source": [
    "df['Rings'].value_counts()"
   ]
  },
  {
   "cell_type": "code",
   "execution_count": 12,
   "id": "33142eb1",
   "metadata": {},
   "outputs": [
    {
     "data": {
      "text/plain": [
       "array([15,  7,  9, 10,  8, 20, 16, 19, 14, 11, 12, 18, 13,  5,  4,  6, 21,\n",
       "       17, 22,  1,  3, 26, 23, 29,  2, 27, 25, 24], dtype=int64)"
      ]
     },
     "execution_count": 12,
     "metadata": {},
     "output_type": "execute_result"
    }
   ],
   "source": [
    "df['Rings'].unique()"
   ]
  },
  {
   "cell_type": "code",
   "execution_count": 13,
   "id": "0292e9b1",
   "metadata": {},
   "outputs": [
    {
     "data": {
      "text/plain": [
       "28"
      ]
     },
     "execution_count": 13,
     "metadata": {},
     "output_type": "execute_result"
    }
   ],
   "source": [
    "df['Rings'].nunique()"
   ]
  },
  {
   "cell_type": "markdown",
   "id": "de3b9a3a",
   "metadata": {},
   "source": [
    "# Visualization of the Data"
   ]
  },
  {
   "cell_type": "code",
   "execution_count": 14,
   "id": "6f6b641d",
   "metadata": {},
   "outputs": [
    {
     "data": {
      "image/png": "[encoded data removed]",
      "text/plain": [
       "<Figure size 720x720 with 2 Axes>"
      ]
     },
     "metadata": {
      "needs_background": "light"
     },
     "output_type": "display_data"
    }
   ],
   "source": [
    "import matplotlib.pyplot as plt\n",
    "import seaborn as sns\n",
    "\n",
    "f,ax = plt.subplots(figsize=(10, 10))\n",
    "sns.heatmap(df.corr(), annot=True, linewidths=.5, fmt= '.1f',ax=ax)\n",
    "plt.show()"
   ]
  },
  {
   "cell_type": "code",
   "execution_count": 15,
   "id": "67f4166b",
   "metadata": {},
   "outputs": [
    {
     "data": {
      "text/plain": [
       "<AxesSubplot:xlabel='Sex', ylabel='count'>"
      ]
     },
     "execution_count": 15,
     "metadata": {},
     "output_type": "execute_result"
    },
    {
     "data": {
      "image/png": "[encoded data removed]",
      "text/plain": [
       "<Figure size 432x288 with 1 Axes>"
      ]
     },
     "metadata": {
      "needs_background": "light"
     },
     "output_type": "display_data"
    }
   ],
   "source": [
    "import seaborn as sns\n",
    "sns.countplot(x='Sex', data = df)"
   ]
  },
  {
   "cell_type": "code",
   "execution_count": 16,
   "id": "d336a3f1",
   "metadata": {},
   "outputs": [
    {
     "data": {
      "text/plain": [
       "M    0.365813\n",
       "I    0.321283\n",
       "F    0.312904\n",
       "Name: Sex, dtype: float64"
      ]
     },
     "execution_count": 16,
     "metadata": {},
     "output_type": "execute_result"
    }
   ],
   "source": [
    "df['Sex'].value_counts(normalize = True)"
   ]
  },
  {
   "cell_type": "code",
   "execution_count": 17,
   "id": "c8b1c5dd",
   "metadata": {},
   "outputs": [],
   "source": [
    "df['Age'] = df['Rings'] + 1.5"
   ]
  },
  {
   "cell_type": "markdown",
   "id": "d4aed090",
   "metadata": {},
   "source": [
    "Calculating Age from Rings, Age = Rings + 1.5"
   ]
  },
  {
   "cell_type": "code",
   "execution_count": 18,
   "id": "234615c7",
   "metadata": {},
   "outputs": [
    {
     "data": {
      "text/plain": [
       "<AxesSubplot:xlabel='Sex', ylabel='Age'>"
      ]
     },
     "execution_count": 18,
     "metadata": {},
     "output_type": "execute_result"
    },
    {
     "data": {
      "image/png": "[encoded data removed]",
      "text/plain": [
       "<Figure size 1440x504 with 1 Axes>"
      ]
     },
     "metadata": {
      "needs_background": "light"
     },
     "output_type": "display_data"
    }
   ],
   "source": [
    "'''Sex and Age Visulization'''\n",
    "plt.figure(figsize = (20,7))\n",
    "sns.swarmplot(x = 'Sex', y = 'Age', data = df, hue = 'Sex')\n",
    "sns.violinplot(x = 'Sex', y = 'Age', data = df)"
   ]
  },
  {
   "cell_type": "markdown",
   "id": "ca65b358",
   "metadata": {},
   "source": [
    "Sex and Age Visualization, as per graph :-\n",
    "\n",
    "Male : Majority are between of Age 7.5 to 19\n",
    "    \n",
    "Female : Majority are between of Age 8 to 19\n",
    "\n",
    "Infant : Majority are between of Age 6 to < 10"
   ]
  },
  {
   "cell_type": "code",
   "execution_count": 20,
   "id": "7280e1ad",
   "metadata": {},
   "outputs": [
    {
     "data": {
      "text/html": [
       "<div>\n",
       "<style scoped>\n",
       "    .dataframe tbody tr th:only-of-type {\n",
       "        vertical-align: middle;\n",
       "    }\n",
       "\n",
       "    .dataframe tbody tr th {\n",
       "        vertical-align: top;\n",
       "    }\n",
       "\n",
       "    .dataframe thead th {\n",
       "        text-align: right;\n",
       "    }\n",
       "</style>\n",
       "<table border=\"1\" class=\"dataframe\">\n",
       "  <thead>\n",
       "    <tr style=\"text-align: right;\">\n",
       "      <th></th>\n",
       "      <th>Sex</th>\n",
       "      <th>Length</th>\n",
       "      <th>Diameter</th>\n",
       "      <th>Height</th>\n",
       "      <th>Whole weight</th>\n",
       "      <th>Shucked weight</th>\n",
       "      <th>Viscera weight</th>\n",
       "      <th>Shell weight</th>\n",
       "      <th>Rings</th>\n",
       "      <th>Age</th>\n",
       "    </tr>\n",
       "  </thead>\n",
       "  <tbody>\n",
       "    <tr>\n",
       "      <th>0</th>\n",
       "      <td>2</td>\n",
       "      <td>0.455</td>\n",
       "      <td>0.365</td>\n",
       "      <td>0.095</td>\n",
       "      <td>0.5140</td>\n",
       "      <td>0.2245</td>\n",
       "      <td>0.1010</td>\n",
       "      <td>0.1500</td>\n",
       "      <td>15</td>\n",
       "      <td>16.5</td>\n",
       "    </tr>\n",
       "    <tr>\n",
       "      <th>1</th>\n",
       "      <td>2</td>\n",
       "      <td>0.350</td>\n",
       "      <td>0.265</td>\n",
       "      <td>0.090</td>\n",
       "      <td>0.2255</td>\n",
       "      <td>0.0995</td>\n",
       "      <td>0.0485</td>\n",
       "      <td>0.0700</td>\n",
       "      <td>7</td>\n",
       "      <td>8.5</td>\n",
       "    </tr>\n",
       "    <tr>\n",
       "      <th>2</th>\n",
       "      <td>0</td>\n",
       "      <td>0.530</td>\n",
       "      <td>0.420</td>\n",
       "      <td>0.135</td>\n",
       "      <td>0.6770</td>\n",
       "      <td>0.2565</td>\n",
       "      <td>0.1415</td>\n",
       "      <td>0.2100</td>\n",
       "      <td>9</td>\n",
       "      <td>10.5</td>\n",
       "    </tr>\n",
       "    <tr>\n",
       "      <th>3</th>\n",
       "      <td>2</td>\n",
       "      <td>0.440</td>\n",
       "      <td>0.365</td>\n",
       "      <td>0.125</td>\n",
       "      <td>0.5160</td>\n",
       "      <td>0.2155</td>\n",
       "      <td>0.1140</td>\n",
       "      <td>0.1550</td>\n",
       "      <td>10</td>\n",
       "      <td>11.5</td>\n",
       "    </tr>\n",
       "    <tr>\n",
       "      <th>4</th>\n",
       "      <td>1</td>\n",
       "      <td>0.330</td>\n",
       "      <td>0.255</td>\n",
       "      <td>0.080</td>\n",
       "      <td>0.2050</td>\n",
       "      <td>0.0895</td>\n",
       "      <td>0.0395</td>\n",
       "      <td>0.0550</td>\n",
       "      <td>7</td>\n",
       "      <td>8.5</td>\n",
       "    </tr>\n",
       "    <tr>\n",
       "      <th>...</th>\n",
       "      <td>...</td>\n",
       "      <td>...</td>\n",
       "      <td>...</td>\n",
       "      <td>...</td>\n",
       "      <td>...</td>\n",
       "      <td>...</td>\n",
       "      <td>...</td>\n",
       "      <td>...</td>\n",
       "      <td>...</td>\n",
       "      <td>...</td>\n",
       "    </tr>\n",
       "    <tr>\n",
       "      <th>4172</th>\n",
       "      <td>0</td>\n",
       "      <td>0.565</td>\n",
       "      <td>0.450</td>\n",
       "      <td>0.165</td>\n",
       "      <td>0.8870</td>\n",
       "      <td>0.3700</td>\n",
       "      <td>0.2390</td>\n",
       "      <td>0.2490</td>\n",
       "      <td>11</td>\n",
       "      <td>12.5</td>\n",
       "    </tr>\n",
       "    <tr>\n",
       "      <th>4173</th>\n",
       "      <td>2</td>\n",
       "      <td>0.590</td>\n",
       "      <td>0.440</td>\n",
       "      <td>0.135</td>\n",
       "      <td>0.9660</td>\n",
       "      <td>0.4390</td>\n",
       "      <td>0.2145</td>\n",
       "      <td>0.2605</td>\n",
       "      <td>10</td>\n",
       "      <td>11.5</td>\n",
       "    </tr>\n",
       "    <tr>\n",
       "      <th>4174</th>\n",
       "      <td>2</td>\n",
       "      <td>0.600</td>\n",
       "      <td>0.475</td>\n",
       "      <td>0.205</td>\n",
       "      <td>1.1760</td>\n",
       "      <td>0.5255</td>\n",
       "      <td>0.2875</td>\n",
       "      <td>0.3080</td>\n",
       "      <td>9</td>\n",
       "      <td>10.5</td>\n",
       "    </tr>\n",
       "    <tr>\n",
       "      <th>4175</th>\n",
       "      <td>0</td>\n",
       "      <td>0.625</td>\n",
       "      <td>0.485</td>\n",
       "      <td>0.150</td>\n",
       "      <td>1.0945</td>\n",
       "      <td>0.5310</td>\n",
       "      <td>0.2610</td>\n",
       "      <td>0.2960</td>\n",
       "      <td>10</td>\n",
       "      <td>11.5</td>\n",
       "    </tr>\n",
       "    <tr>\n",
       "      <th>4176</th>\n",
       "      <td>2</td>\n",
       "      <td>0.710</td>\n",
       "      <td>0.555</td>\n",
       "      <td>0.195</td>\n",
       "      <td>1.9485</td>\n",
       "      <td>0.9455</td>\n",
       "      <td>0.3765</td>\n",
       "      <td>0.4950</td>\n",
       "      <td>12</td>\n",
       "      <td>13.5</td>\n",
       "    </tr>\n",
       "  </tbody>\n",
       "</table>\n",
       "<p>4177 rows × 10 columns</p>\n",
       "</div>"
      ],
      "text/plain": [
       "      Sex  Length  Diameter  Height  Whole weight  Shucked weight  \\\n",
       "0       2   0.455     0.365   0.095        0.5140          0.2245   \n",
       "1       2   0.350     0.265   0.090        0.2255          0.0995   \n",
       "2       0   0.530     0.420   0.135        0.6770          0.2565   \n",
       "3       2   0.440     0.365   0.125        0.5160          0.2155   \n",
       "4       1   0.330     0.255   0.080        0.2050          0.0895   \n",
       "...   ...     ...       ...     ...           ...             ...   \n",
       "4172    0   0.565     0.450   0.165        0.8870          0.3700   \n",
       "4173    2   0.590     0.440   0.135        0.9660          0.4390   \n",
       "4174    2   0.600     0.475   0.205        1.1760          0.5255   \n",
       "4175    0   0.625     0.485   0.150        1.0945          0.5310   \n",
       "4176    2   0.710     0.555   0.195        1.9485          0.9455   \n",
       "\n",
       "      Viscera weight  Shell weight  Rings   Age  \n",
       "0             0.1010        0.1500     15  16.5  \n",
       "1             0.0485        0.0700      7   8.5  \n",
       "2             0.1415        0.2100      9  10.5  \n",
       "3             0.1140        0.1550     10  11.5  \n",
       "4             0.0395        0.0550      7   8.5  \n",
       "...              ...           ...    ...   ...  \n",
       "4172          0.2390        0.2490     11  12.5  \n",
       "4173          0.2145        0.2605     10  11.5  \n",
       "4174          0.2875        0.3080      9  10.5  \n",
       "4175          0.2610        0.2960     10  11.5  \n",
       "4176          0.3765        0.4950     12  13.5  \n",
       "\n",
       "[4177 rows x 10 columns]"
      ]
     },
     "execution_count": 20,
     "metadata": {},
     "output_type": "execute_result"
    }
   ],
   "source": [
    "from sklearn.preprocessing import LabelEncoder\n",
    "\n",
    "df['Sex'] = LabelEncoder().fit_transform(df['Sex'])\n",
    "df"
   ]
  },
  {
   "cell_type": "code",
   "execution_count": 21,
   "id": "454e2075",
   "metadata": {},
   "outputs": [],
   "source": [
    "x = df.drop( ['Rings','Sex'], axis = 1 )\n",
    "y = df['Rings']"
   ]
  },
  {
   "cell_type": "code",
   "execution_count": 22,
   "id": "ff7f11b9",
   "metadata": {},
   "outputs": [],
   "source": [
    "from sklearn.model_selection import train_test_split\n",
    "\n",
    "x_train, x_test, y_train, y_test = train_test_split(x, y , test_size=0.25, random_state = 25)"
   ]
  },
  {
   "cell_type": "code",
   "execution_count": 23,
   "id": "b681b337",
   "metadata": {},
   "outputs": [],
   "source": [
    "from sklearn.preprocessing import StandardScaler\n",
    "\n",
    "sc = StandardScaler()\n",
    "x_train = sc.fit_transform(x_train)\n",
    "x_test = sc.fit_transform(x_test)"
   ]
  },
  {
   "cell_type": "markdown",
   "id": "1e54f001",
   "metadata": {},
   "source": [
    "# Using KNN"
   ]
  },
  {
   "cell_type": "code",
   "execution_count": 24,
   "id": "0a98f826",
   "metadata": {},
   "outputs": [
    {
     "data": {
      "text/plain": [
       "GridSearchCV(cv=5, estimator=KNeighborsRegressor(), n_jobs=-1,\n",
       "             param_grid=[{'n_neighbors': [1, 2, 3, 4, 5, 6, 7, 8, 9, 10]}],\n",
       "             return_train_score=True, scoring='neg_mean_squared_error')"
      ]
     },
     "execution_count": 24,
     "metadata": {},
     "output_type": "execute_result"
    }
   ],
   "source": [
    "from sklearn.neighbors import KNeighborsRegressor\n",
    "from sklearn.model_selection import GridSearchCV\n",
    "\n",
    "knn = KNeighborsRegressor()\n",
    "knn_grid = [{'n_neighbors': [i+1 for i in range(10)] }, ]\n",
    "\n",
    "knn_search = GridSearchCV (knn, knn_grid, scoring='neg_mean_squared_error', cv=5, return_train_score=True, n_jobs=-1)\n",
    "knn_search.fit(x_train, y_train)"
   ]
  },
  {
   "cell_type": "code",
   "execution_count": 25,
   "id": "84412071",
   "metadata": {},
   "outputs": [
    {
     "data": {
      "text/plain": [
       "{'n_neighbors': 4}"
      ]
     },
     "execution_count": 25,
     "metadata": {},
     "output_type": "execute_result"
    }
   ],
   "source": [
    "knn_search.best_params_"
   ]
  },
  {
   "cell_type": "code",
   "execution_count": 26,
   "id": "71611fc7",
   "metadata": {},
   "outputs": [
    {
     "data": {
      "text/plain": [
       "{'mean_fit_time': array([0.00708728, 0.01196241, 0.01416922, 0.01942143, 0.00526505,\n",
       "        0.00398083, 0.01175804, 0.02118392, 0.01997252, 0.00855865]),\n",
       " 'std_fit_time': array([0.00251545, 0.01106193, 0.0150124 , 0.01336754, 0.00192138,\n",
       "        0.00383851, 0.00535592, 0.02289886, 0.01608331, 0.00224705]),\n",
       " 'mean_score_time': array([0.00747433, 0.01742358, 0.02330651, 0.01519775, 0.01489511,\n",
       "        0.02684336, 0.019519  , 0.02033601, 0.02540255, 0.03660979]),\n",
       " 'std_score_time': array([0.00568769, 0.01332056, 0.01597756, 0.01210602, 0.01348527,\n",
       "        0.01715894, 0.01286406, 0.01901533, 0.01845385, 0.0204629 ]),\n",
       " 'param_n_neighbors': masked_array(data=[1, 2, 3, 4, 5, 6, 7, 8, 9, 10],\n",
       "              mask=[False, False, False, False, False, False, False, False,\n",
       "                    False, False],\n",
       "        fill_value='?',\n",
       "             dtype=object),\n",
       " 'params': [{'n_neighbors': 1},\n",
       "  {'n_neighbors': 2},\n",
       "  {'n_neighbors': 3},\n",
       "  {'n_neighbors': 4},\n",
       "  {'n_neighbors': 5},\n",
       "  {'n_neighbors': 6},\n",
       "  {'n_neighbors': 7},\n",
       "  {'n_neighbors': 8},\n",
       "  {'n_neighbors': 9},\n",
       "  {'n_neighbors': 10}],\n",
       " 'split0_test_score': array([-0.22328549, -0.14513557, -0.12794613, -0.12490032, -0.12835726,\n",
       "        -0.12892079, -0.12746151, -0.12769139, -0.1252289 , -0.13094099]),\n",
       " 'split1_test_score': array([-0.29665072, -0.24720893, -0.2284246 , -0.20913078, -0.22035088,\n",
       "        -0.22120326, -0.24629756, -0.25284091, -0.26707622, -0.27318979]),\n",
       " 'split2_test_score': array([-0.26837061, -0.21765176, -0.1799787 , -0.1649361 , -0.16728435,\n",
       "        -0.1721246 , -0.17350199, -0.18333167, -0.18753205, -0.20507987]),\n",
       " 'split3_test_score': array([-0.20926518, -0.17531949, -0.14873979, -0.14666534, -0.14881789,\n",
       "        -0.14758608, -0.1449436 , -0.15283047, -0.15956692, -0.16961661]),\n",
       " 'split4_test_score': array([-0.23961661, -0.19488818, -0.17589634, -0.18769968, -0.19769968,\n",
       "        -0.19999113, -0.20747213, -0.21717752, -0.2226561 , -0.22190096]),\n",
       " 'mean_test_score': array([-0.24743772, -0.19604078, -0.17219711, -0.16666644, -0.17250201,\n",
       "        -0.17396517, -0.17993536, -0.18677439, -0.19241204, -0.20014565]),\n",
       " 'std_test_score': array([0.03150158, 0.03494926, 0.03389443, 0.02964141, 0.03304953,\n",
       "        0.03357686, 0.04285215, 0.04459591, 0.04920495, 0.0480716 ]),\n",
       " 'rank_test_score': array([10,  8,  2,  1,  3,  4,  5,  6,  7,  9]),\n",
       " 'split0_train_score': array([-0.        , -0.06027944, -0.08711466, -0.10548902, -0.11324551,\n",
       "        -0.12466179, -0.1306041 , -0.13883483, -0.1472906 , -0.16122954]),\n",
       " 'split1_train_score': array([-0.        , -0.05728543, -0.07793302, -0.09346307, -0.10115768,\n",
       "        -0.11128853, -0.11746303, -0.12332211, -0.12951874, -0.14092615]),\n",
       " 'split2_train_score': array([-0.        , -0.05985634, -0.08694688, -0.09394952, -0.11047087,\n",
       "        -0.12057728, -0.13144779, -0.13921588, -0.14812844, -0.15768955]),\n",
       " 'split3_train_score': array([-0.        , -0.0655427 , -0.08162632, -0.09811453, -0.11042298,\n",
       "        -0.11859315, -0.12495725, -0.13534392, -0.14485235, -0.15519952]),\n",
       " 'split4_train_score': array([-0.        , -0.06245012, -0.08681387, -0.09684258, -0.11174781,\n",
       "        -0.12001197, -0.12778312, -0.13839286, -0.14713823, -0.15224262]),\n",
       " 'mean_train_score': array([ 0.        , -0.06108281, -0.08408695, -0.09757174, -0.10940897,\n",
       "        -0.11902655, -0.12645106, -0.13502192, -0.14338567, -0.15345747]),\n",
       " 'std_train_score': array([0.        , 0.00276875, 0.00370696, 0.00432461, 0.00425273,\n",
       "        0.0043634 , 0.00503995, 0.006008  , 0.00701808, 0.00692618])}"
      ]
     },
     "execution_count": 26,
     "metadata": {},
     "output_type": "execute_result"
    }
   ],
   "source": [
    "result = knn_search.cv_results_\n",
    "result"
   ]
  },
  {
   "cell_type": "code",
   "execution_count": 27,
   "id": "414008e6",
   "metadata": {},
   "outputs": [
    {
     "name": "stdout",
     "output_type": "stream",
     "text": [
      "-0.24743772006257295 {'n_neighbors': 1}\n",
      "-0.19604078450555668 {'n_neighbors': 2}\n",
      "-0.17219711265448617 {'n_neighbors': 3}\n",
      "-0.1666664437378663 {'n_neighbors': 4}\n",
      "-0.17250201018083983 {'n_neighbors': 5}\n",
      "-0.17396517158582064 {'n_neighbors': 6}\n",
      "-0.1799353576672273 {'n_neighbors': 7}\n",
      "-0.1867743906400477 {'n_neighbors': 8}\n",
      "-0.19241203520485323 {'n_neighbors': 9}\n",
      "-0.20014564511773186 {'n_neighbors': 10}\n"
     ]
    }
   ],
   "source": [
    "for mts, param in zip(result['mean_test_score'], result['params']):\n",
    "    print (mts, param)"
   ]
  },
  {
   "cell_type": "code",
   "execution_count": 28,
   "id": "2be188ba",
   "metadata": {},
   "outputs": [],
   "source": [
    "kernel = ['linear', 'rbf', 'poly', 'sigmoid']\n",
    "c = [0.01, 0.1, 1, 10]\n",
    "gamma = [0.01, 0.1, 1]\n",
    "svm_grid = {'kernel': kernel, 'C': c, 'gamma' : gamma}"
   ]
  },
  {
   "cell_type": "markdown",
   "id": "607b37da",
   "metadata": {},
   "source": [
    "# Trying with SVR"
   ]
  },
  {
   "cell_type": "code",
   "execution_count": 30,
   "id": "78d082ae",
   "metadata": {},
   "outputs": [
    {
     "name": "stdout",
     "output_type": "stream",
     "text": [
      "Fitting 5 folds for each of 20 candidates, totalling 100 fits\n"
     ]
    },
    {
     "data": {
      "text/plain": [
       "RandomizedSearchCV(cv=5, estimator=SVR(), n_iter=20, n_jobs=-1,\n",
       "                   param_distributions={'C': [0.01, 0.1, 1, 10],\n",
       "                                        'gamma': [0.01, 0.1, 1],\n",
       "                                        'kernel': ['linear', 'rbf', 'poly',\n",
       "                                                   'sigmoid']},\n",
       "                   return_train_score=True, scoring='neg_mean_squared_error',\n",
       "                   verbose=1)"
      ]
     },
     "execution_count": 30,
     "metadata": {},
     "output_type": "execute_result"
    }
   ],
   "source": [
    "from sklearn.svm import SVR\n",
    "from sklearn.model_selection import RandomizedSearchCV\n",
    "\n",
    "svm = SVR()\n",
    "svm_search = RandomizedSearchCV(svm, svm_grid, scoring='neg_mean_squared_error', cv=5, return_train_score=True, n_jobs=-1, n_iter=20, verbose=1)\n",
    "svm_search.fit(x_train, y_train)"
   ]
  },
  {
   "cell_type": "code",
   "execution_count": 31,
   "id": "8ed376c2",
   "metadata": {},
   "outputs": [
    {
     "data": {
      "text/plain": [
       "{'kernel': 'linear', 'gamma': 0.1, 'C': 1}"
      ]
     },
     "execution_count": 31,
     "metadata": {},
     "output_type": "execute_result"
    }
   ],
   "source": [
    "svm_search.best_params_"
   ]
  },
  {
   "cell_type": "code",
   "execution_count": 32,
   "id": "76a80a38",
   "metadata": {},
   "outputs": [
    {
     "data": {
      "text/plain": [
       "{'mean_fit_time': array([3.10105648e+00, 2.21643066e+00, 2.34191942e+00, 2.82355776e+00,\n",
       "        1.31875224e+00, 2.93245602e-01, 2.70290337e+00, 3.25979967e+00,\n",
       "        2.95369864e-01, 2.97165489e-01, 5.23178339e-01, 9.01792364e+00,\n",
       "        2.51164513e+00, 6.66820431e-01, 9.19471827e+00, 1.58039274e+00,\n",
       "        2.51985693e+00, 3.28324296e+03, 6.15951872e-01, 1.02793207e+00]),\n",
       " 'std_fit_time': array([6.33764842e-02, 3.20482632e-02, 6.23623516e-02, 4.64524103e-02,\n",
       "        3.00365536e-02, 2.29866514e-02, 4.21244678e-02, 6.15852093e-02,\n",
       "        2.50690218e-02, 2.52641703e-02, 4.43480701e-02, 5.64834305e-01,\n",
       "        1.10442308e-01, 4.03120501e-02, 3.78616317e-01, 5.82336644e-02,\n",
       "        5.99449537e-02, 1.15867955e+03, 4.88169809e-02, 6.71126248e-02]),\n",
       " 'mean_score_time': array([0.63392763, 0.38111963, 1.28580036, 0.50960002, 0.47212915,\n",
       "        0.00832691, 0.52350292, 0.63731093, 0.00140491, 0.00160851,\n",
       "        0.22218094, 0.35856748, 0.48893533, 0.10680375, 0.36727214,\n",
       "        0.8084434 , 1.27067013, 0.0857111 , 0.12307286, 0.11644068]),\n",
       " 'std_score_time': array([0.01308671, 0.01496121, 0.05577138, 0.01106156, 0.02978893,\n",
       "        0.01665382, 0.02496558, 0.01257407, 0.00280981, 0.00234367,\n",
       "        0.02290652, 0.02516005, 0.03570847, 0.02395862, 0.02553238,\n",
       "        0.04492135, 0.04673213, 0.04207054, 0.01018027, 0.0074081 ]),\n",
       " 'param_kernel': masked_array(data=['sigmoid', 'poly', 'rbf', 'sigmoid', 'rbf', 'linear',\n",
       "                    'sigmoid', 'sigmoid', 'linear', 'linear', 'rbf',\n",
       "                    'poly', 'sigmoid', 'rbf', 'poly', 'rbf', 'rbf', 'poly',\n",
       "                    'rbf', 'poly'],\n",
       "              mask=[False, False, False, False, False, False, False, False,\n",
       "                    False, False, False, False, False, False, False, False,\n",
       "                    False, False, False, False],\n",
       "        fill_value='?',\n",
       "             dtype=object),\n",
       " 'param_gamma': masked_array(data=[1, 0.01, 1, 0.1, 1, 0.1, 0.1, 1, 1, 0.01, 0.01, 0.1,\n",
       "                    0.1, 0.1, 1, 1, 0.01, 1, 1, 0.1],\n",
       "              mask=[False, False, False, False, False, False, False, False,\n",
       "                    False, False, False, False, False, False, False, False,\n",
       "                    False, False, False, False],\n",
       "        fill_value='?',\n",
       "             dtype=object),\n",
       " 'param_C': masked_array(data=[1, 0.01, 0.01, 0.1, 1, 1, 10, 0.1, 10, 10, 1, 10, 0.01,\n",
       "                    10, 0.01, 0.1, 0.01, 10, 10, 1],\n",
       "              mask=[False, False, False, False, False, False, False, False,\n",
       "                    False, False, False, False, False, False, False, False,\n",
       "                    False, False, False, False],\n",
       "        fill_value='?',\n",
       "             dtype=object),\n",
       " 'params': [{'kernel': 'sigmoid', 'gamma': 1, 'C': 1},\n",
       "  {'kernel': 'poly', 'gamma': 0.01, 'C': 0.01},\n",
       "  {'kernel': 'rbf', 'gamma': 1, 'C': 0.01},\n",
       "  {'kernel': 'sigmoid', 'gamma': 0.1, 'C': 0.1},\n",
       "  {'kernel': 'rbf', 'gamma': 1, 'C': 1},\n",
       "  {'kernel': 'linear', 'gamma': 0.1, 'C': 1},\n",
       "  {'kernel': 'sigmoid', 'gamma': 0.1, 'C': 10},\n",
       "  {'kernel': 'sigmoid', 'gamma': 1, 'C': 0.1},\n",
       "  {'kernel': 'linear', 'gamma': 1, 'C': 10},\n",
       "  {'kernel': 'linear', 'gamma': 0.01, 'C': 10},\n",
       "  {'kernel': 'rbf', 'gamma': 0.01, 'C': 1},\n",
       "  {'kernel': 'poly', 'gamma': 0.1, 'C': 10},\n",
       "  {'kernel': 'sigmoid', 'gamma': 0.1, 'C': 0.01},\n",
       "  {'kernel': 'rbf', 'gamma': 0.1, 'C': 10},\n",
       "  {'kernel': 'poly', 'gamma': 1, 'C': 0.01},\n",
       "  {'kernel': 'rbf', 'gamma': 1, 'C': 0.1},\n",
       "  {'kernel': 'rbf', 'gamma': 0.01, 'C': 0.01},\n",
       "  {'kernel': 'poly', 'gamma': 1, 'C': 10},\n",
       "  {'kernel': 'rbf', 'gamma': 1, 'C': 10},\n",
       "  {'kernel': 'poly', 'gamma': 0.1, 'C': 1}],\n",
       " 'split0_test_score': array([-4.69949413e+04, -1.01362770e+01, -6.77305956e+00, -5.95765545e+01,\n",
       "        -7.34902267e-01, -1.65661492e-03, -6.91403672e+05, -4.47110642e+02,\n",
       "        -1.65661492e-03, -1.65661492e-03, -1.55881278e-02, -2.42586159e+00,\n",
       "        -3.60817053e+00, -1.41015823e-02, -2.42582840e+00, -2.50584043e+00,\n",
       "        -6.28187412e+00, -3.98140973e+00, -2.88380622e-01, -2.55135183e+00]),\n",
       " 'split1_test_score': array([-4.34227022e+04, -1.23598901e+01, -8.74038736e+00, -8.12408546e+01,\n",
       "        -1.59993537e+00, -2.39808904e-03, -7.23282375e+05, -4.41988607e+02,\n",
       "        -2.39808904e-03, -2.39808904e-03, -5.76100948e-02, -6.43121596e+00,\n",
       "        -4.44490218e+00, -1.03115062e-01, -6.42825274e+00, -3.81383263e+00,\n",
       "        -8.09352440e+00, -6.37391953e+00, -9.57386127e-01, -6.24058290e+00]),\n",
       " 'split2_test_score': array([-4.90512584e+04, -1.01400129e+01, -7.20151218e+00, -6.11618073e+01,\n",
       "        -7.51743531e-01, -1.70499335e-03, -6.91308797e+05, -4.60364681e+02,\n",
       "        -1.70499335e-03, -1.70499335e-03, -2.89858565e-02, -5.40352454e+00,\n",
       "        -3.73104317e+00, -3.66236432e-02, -5.40322640e+00, -2.77867622e+00,\n",
       "        -6.73615922e+00, -5.44076770e+00, -3.50785624e-01, -5.50053128e+00]),\n",
       " 'split3_test_score': array([-4.39245283e+04, -1.05439264e+01, -7.49965248e+00, -8.24321243e+01,\n",
       "        -7.69687838e-01, -2.78250903e-03, -7.59054125e+05, -4.05433620e+02,\n",
       "        -2.78250903e-03, -2.78250903e-03, -1.52625713e-02, -3.57259512e+00,\n",
       "        -3.71200220e+00, -1.05812772e-02, -3.57187367e+00, -2.91368338e+00,\n",
       "        -6.96022281e+00, -4.99475353e+00, -3.43400608e-01, -3.12518565e+00]),\n",
       " 'split4_test_score': array([-4.88091000e+04, -1.22024572e+01, -8.58610495e+00, -6.89694941e+01,\n",
       "        -1.29378370e+00, -1.64529838e-03, -6.37702856e+05, -4.79054756e+02,\n",
       "        -1.64529838e-03, -1.64529838e-03, -2.09172629e-02, -5.94022830e+00,\n",
       "        -4.22022590e+00, -6.93553180e-03, -5.94153385e+00, -3.86861716e+00,\n",
       "        -8.12648640e+00, -6.35920000e+00, -4.22601646e-01, -4.53176944e+00]),\n",
       " 'mean_test_score': array([-4.64405060e+04, -1.10765127e+01, -7.76014331e+00, -7.06761669e+01,\n",
       "        -1.03001054e+00, -2.03750094e-03, -7.00550365e+05, -4.46790461e+02,\n",
       "        -2.03750094e-03, -2.03750094e-03, -2.76727827e-02, -4.75468510e+00,\n",
       "        -3.94326879e+00, -3.42714192e-02, -4.75414301e+00, -3.17612996e+00,\n",
       "        -7.23965339e+00, -5.43001010e+00, -4.72510925e-01, -4.38988422e+00]),\n",
       " 'std_test_score': array([2.37364478e+03, 9.95944948e-01, 7.74254425e-01, 9.65869893e+00,\n",
       "        3.54028226e-01, 4.67871593e-04, 4.01455158e+04, 2.43260881e+01,\n",
       "        4.67871593e-04, 4.67871593e-04, 1.57712149e-02, 1.51380426e+00,\n",
       "        3.28376640e-01, 3.59451692e-02, 1.51345032e+00, 5.58988185e-01,\n",
       "        7.43572115e-01, 8.99151370e-01, 2.46164737e-01, 1.38985019e+00]),\n",
       " 'rank_test_score': array([19, 16, 15, 17,  7,  1, 20, 18,  1,  1,  4, 12,  9,  5, 11,  8, 14,\n",
       "        13,  6, 10]),\n",
       " 'split0_train_score': array([-4.67801942e+04, -1.15140108e+01, -7.96180107e+00, -6.38849944e+01,\n",
       "        -8.05484081e-01, -1.69553132e-03, -7.12324428e+05, -4.51520225e+02,\n",
       "        -1.69553132e-03, -1.69553132e-03, -2.97496806e-02, -3.47799334e+00,\n",
       "        -3.96021072e+00, -5.56050623e-03, -3.47800707e+00, -3.18179017e+00,\n",
       "        -7.47071184e+00, -3.04779678e+00, -1.37441600e-02, -3.70786284e+00]),\n",
       " 'split1_train_score': array([-4.78711881e+04, -1.09446030e+01, -7.49804462e+00, -7.67893693e+01,\n",
       "        -6.04795455e-01, -2.40711584e-03, -6.97594170e+05, -4.87999565e+02,\n",
       "        -2.40711584e-03, -2.40711584e-03, -1.97854238e-02, -3.48763508e+00,\n",
       "        -3.87404885e+00, -4.60321248e-03, -3.48659714e+00, -2.92655117e+00,\n",
       "        -7.05127989e+00, -2.72052504e+00, -5.88236095e-03, -3.34824540e+00]),\n",
       " 'split2_train_score': array([-4.51011844e+04, -1.06857665e+01, -7.79179790e+00, -6.21554022e+01,\n",
       "        -7.76238847e-01, -1.70528800e-03, -6.95787722e+05, -4.27654226e+02,\n",
       "        -1.70528800e-03, -1.70528800e-03, -2.57572978e-02, -3.18068223e+00,\n",
       "        -3.93479563e+00, -5.30532086e-03, -3.18056368e+00, -3.14356815e+00,\n",
       "        -7.27585150e+00, -3.05119352e+00, -1.40475635e-02, -3.58907564e+00]),\n",
       " 'split3_train_score': array([-4.75719496e+04, -1.05887502e+01, -7.74773175e+00, -7.40480747e+01,\n",
       "        -7.66534728e-01, -2.65697768e-03, -6.64885616e+05, -4.50497834e+02,\n",
       "        -2.65697768e-03, -2.65697768e-03, -2.87528383e-02, -3.45537283e+00,\n",
       "        -3.94287656e+00, -5.65555492e-03, -3.45489575e+00, -3.09843534e+00,\n",
       "        -7.25478648e+00, -2.80419897e+00, -1.35771944e-02, -3.58842704e+00]),\n",
       " 'split4_train_score': array([-4.45822288e+04, -1.10212927e+01, -7.58149339e+00, -8.06499880e+01,\n",
       "        -7.56843270e-01, -1.62649254e-03, -7.27423878e+05, -4.55639220e+02,\n",
       "        -1.62649254e-03, -1.62649254e-03, -2.85537622e-02, -3.45616514e+00,\n",
       "        -3.97641910e+00, -5.81648723e-03, -3.45615682e+00, -2.97922707e+00,\n",
       "        -7.06902742e+00, -2.77709806e+00, -1.67906220e-02, -3.87046465e+00]),\n",
       " 'mean_train_score': array([-4.63813490e+04, -1.09508846e+01, -7.71617375e+00, -7.15055657e+01,\n",
       "        -7.41979276e-01, -2.01828108e-03, -6.99603163e+05, -4.54662214e+02,\n",
       "        -2.01828108e-03, -2.01828108e-03, -2.65198005e-02, -3.41156972e+00,\n",
       "        -3.93767017e+00, -5.38821634e-03, -3.41124409e+00, -3.06591438e+00,\n",
       "        -7.22433143e+00, -2.88016247e+00, -1.28083802e-02, -3.62081512e+00]),\n",
       " 'std_train_score': array([1.31695731e+03, 3.23585198e-01, 1.62952025e-01, 7.25950488e+00,\n",
       "        7.04980680e-02, 4.27727988e-04, 2.07832841e+04, 1.93337999e+01,\n",
       "        4.27727988e-04, 4.27727988e-04, 3.61908340e-03, 1.16115916e-01,\n",
       "        3.49072983e-02, 4.26068632e-04, 1.15992627e-01, 9.74183903e-02,\n",
       "        1.53851424e-01, 1.40875632e-01, 3.65596298e-03, 1.71027968e-01])}"
      ]
     },
     "execution_count": 32,
     "metadata": {},
     "output_type": "execute_result"
    }
   ],
   "source": [
    "result = svm_search.cv_results_\n",
    "result"
   ]
  },
  {
   "cell_type": "code",
   "execution_count": 33,
   "id": "c59a9024",
   "metadata": {},
   "outputs": [
    {
     "name": "stdout",
     "output_type": "stream",
     "text": [
      "-46440.50601801531 {'kernel': 'sigmoid', 'gamma': 1, 'C': 1}\n",
      "-11.076512713611127 {'kernel': 'poly', 'gamma': 0.01, 'C': 0.01}\n",
      "-7.760143306218009 {'kernel': 'rbf', 'gamma': 1, 'C': 0.01}\n",
      "-70.67616693602221 {'kernel': 'sigmoid', 'gamma': 0.1, 'C': 0.1}\n",
      "-1.0300105414189022 {'kernel': 'rbf', 'gamma': 1, 'C': 1}\n",
      "-0.0020375009436257815 {'kernel': 'linear', 'gamma': 0.1, 'C': 1}\n",
      "-700550.3651796274 {'kernel': 'sigmoid', 'gamma': 0.1, 'C': 10}\n",
      "-446.7904610947195 {'kernel': 'sigmoid', 'gamma': 1, 'C': 0.1}\n",
      "-0.0020375009436257815 {'kernel': 'linear', 'gamma': 1, 'C': 10}\n",
      "-0.0020375009436257815 {'kernel': 'linear', 'gamma': 0.01, 'C': 10}\n",
      "-0.027672782661199817 {'kernel': 'rbf', 'gamma': 0.01, 'C': 1}\n",
      "-4.754685098476843 {'kernel': 'poly', 'gamma': 0.1, 'C': 10}\n",
      "-3.943268794300925 {'kernel': 'sigmoid', 'gamma': 0.1, 'C': 0.01}\n",
      "-0.034271419228473585 {'kernel': 'rbf', 'gamma': 0.1, 'C': 10}\n",
      "-4.754143009209673 {'kernel': 'poly', 'gamma': 1, 'C': 0.01}\n",
      "-3.1761299625103416 {'kernel': 'rbf', 'gamma': 1, 'C': 0.1}\n",
      "-7.239653388977163 {'kernel': 'rbf', 'gamma': 0.01, 'C': 0.01}\n",
      "-5.430010097536689 {'kernel': 'poly', 'gamma': 1, 'C': 10}\n",
      "-0.47251092530446803 {'kernel': 'rbf', 'gamma': 1, 'C': 10}\n",
      "-4.389884222838333 {'kernel': 'poly', 'gamma': 0.1, 'C': 1}\n"
     ]
    }
   ],
   "source": [
    "for mts, params in zip(result['mean_test_score'], result['params']):\n",
    "    print(mts, params)"
   ]
  },
  {
   "cell_type": "markdown",
   "id": "379d8e56",
   "metadata": {},
   "source": [
    "# Trying with RandomForestRegressor"
   ]
  },
  {
   "cell_type": "code",
   "execution_count": 35,
   "id": "4d301db1",
   "metadata": {},
   "outputs": [
    {
     "name": "stdout",
     "output_type": "stream",
     "text": [
      "Fitting 5 folds for each of 10 candidates, totalling 50 fits\n"
     ]
    },
    {
     "data": {
      "text/plain": [
       "RandomizedSearchCV(cv=5, estimator=RandomForestRegressor(), n_jobs=-1,\n",
       "                   param_distributions={'bootstrap': [True, False],\n",
       "                                        'criterion': ['mse', 'mae'],\n",
       "                                        'n_estimators': [10, 20, 30, 40, 50, 60,\n",
       "                                                         70, 80, 90, 100, 110,\n",
       "                                                         120, 130, 140, 150,\n",
       "                                                         160, 170, 180, 190,\n",
       "                                                         200]},\n",
       "                   return_train_score=True, scoring='neg_mean_squared_error',\n",
       "                   verbose=1)"
      ]
     },
     "execution_count": 35,
     "metadata": {},
     "output_type": "execute_result"
    }
   ],
   "source": [
    "from sklearn.ensemble import RandomForestRegressor\n",
    "\n",
    "ensemble = RandomForestRegressor()\n",
    "ensemble_grid =  {'n_estimators': [(i+1)*10 for i in range(20)], 'criterion': ['mse', 'mae'], 'bootstrap': [True, False]}\n",
    "\n",
    "\n",
    "ensemble_search = RandomizedSearchCV(ensemble, ensemble_grid, scoring='neg_mean_squared_error', cv=5, return_train_score=True, n_jobs=-1, n_iter=10, verbose=1)\n",
    "ensemble_search.fit(x_train, y_train)"
   ]
  },
  {
   "cell_type": "code",
   "execution_count": 36,
   "id": "ade184ff",
   "metadata": {},
   "outputs": [
    {
     "data": {
      "text/plain": [
       "{'n_estimators': 70, 'criterion': 'mse', 'bootstrap': False}"
      ]
     },
     "execution_count": 36,
     "metadata": {},
     "output_type": "execute_result"
    }
   ],
   "source": [
    "ensemble_search.best_params_"
   ]
  },
  {
   "cell_type": "code",
   "execution_count": 37,
   "id": "71c0ff90",
   "metadata": {},
   "outputs": [
    {
     "data": {
      "text/plain": [
       "{'mean_fit_time': array([ 7.14485712,  0.48988891,  0.43004913,  0.95325041,  0.29261656,\n",
       "         0.61415672,  0.56911387, 20.20421686, 17.33869963,  0.10627127]),\n",
       " 'std_fit_time': array([0.09744892, 0.00665782, 0.00498289, 0.01179008, 0.004991  ,\n",
       "        0.00793811, 0.00626441, 1.22164588, 4.1867758 , 0.00801111]),\n",
       " 'mean_score_time': array([0.00538621, 0.01017313, 0.00877657, 0.02333779, 0.00817838,\n",
       "        0.01156921, 0.01417799, 0.01042113, 0.01362538, 0.00520735]),\n",
       " 'std_score_time': array([0.00048893, 0.00074647, 0.00039895, 0.00101714, 0.0003988 ,\n",
       "        0.00048858, 0.00360482, 0.00080324, 0.00446531, 0.00431423]),\n",
       " 'param_n_estimators': masked_array(data=[40, 80, 70, 200, 60, 100, 120, 110, 100, 20],\n",
       "              mask=[False, False, False, False, False, False, False, False,\n",
       "                    False, False],\n",
       "        fill_value='?',\n",
       "             dtype=object),\n",
       " 'param_criterion': masked_array(data=['mae', 'mse', 'mse', 'mse', 'mse', 'mse', 'mse', 'mae',\n",
       "                    'mae', 'mse'],\n",
       "              mask=[False, False, False, False, False, False, False, False,\n",
       "                    False, False],\n",
       "        fill_value='?',\n",
       "             dtype=object),\n",
       " 'param_bootstrap': masked_array(data=[False, False, False, True, True, False, True, False,\n",
       "                    False, True],\n",
       "              mask=[False, False, False, False, False, False, False, False,\n",
       "                    False, False],\n",
       "        fill_value='?',\n",
       "             dtype=object),\n",
       " 'params': [{'n_estimators': 40, 'criterion': 'mae', 'bootstrap': False},\n",
       "  {'n_estimators': 80, 'criterion': 'mse', 'bootstrap': False},\n",
       "  {'n_estimators': 70, 'criterion': 'mse', 'bootstrap': False},\n",
       "  {'n_estimators': 200, 'criterion': 'mse', 'bootstrap': True},\n",
       "  {'n_estimators': 60, 'criterion': 'mse', 'bootstrap': True},\n",
       "  {'n_estimators': 100, 'criterion': 'mse', 'bootstrap': False},\n",
       "  {'n_estimators': 120, 'criterion': 'mse', 'bootstrap': True},\n",
       "  {'n_estimators': 110, 'criterion': 'mae', 'bootstrap': False},\n",
       "  {'n_estimators': 100, 'criterion': 'mae', 'bootstrap': False},\n",
       "  {'n_estimators': 20, 'criterion': 'mse', 'bootstrap': True}],\n",
       " 'split0_test_score': array([-9.96810207e-05, -0.00000000e+00, -0.00000000e+00, -1.20295056e-04,\n",
       "        -1.15186957e-05, -0.00000000e+00, -1.11310473e-04, -7.59223378e-05,\n",
       "        -1.02073365e-05, -1.67464115e-04]),\n",
       " 'split1_test_score': array([-0.00637959, -0.00637959, -0.00637959, -0.01900889, -0.01801923,\n",
       "        -0.00637959, -0.01629475, -0.00637959, -0.00637959, -0.02061005]),\n",
       " 'split2_test_score': array([-0.00129393, -0.00129393, -0.0010592 , -0.00105252, -0.00154065,\n",
       "        -0.00123706, -0.00076577, -0.0012167 , -0.00132284, -0.00066294]),\n",
       " 'split3_test_score': array([-0.00319489, -0.00319489, -0.00319489, -0.00282819, -0.00338791,\n",
       "        -0.00319489, -0.00284933, -0.00319489, -0.00319489, -0.00307109]),\n",
       " 'split4_test_score': array([-0.00199681, -0.00193915, -0.00197431, -0.0014024 , -0.00106807,\n",
       "        -0.00202939, -0.00132266, -0.00191442, -0.00201294, -0.00059904]),\n",
       " 'mean_test_score': array([-0.00259298, -0.00256151, -0.0025216 , -0.00488246, -0.00480547,\n",
       "        -0.00256819, -0.00426876, -0.0025563 , -0.00258409, -0.00502212]),\n",
       " 'std_test_score': array([0.0021429 , 0.00216953, 0.002197  , 0.00711665, 0.0066966 ,\n",
       "        0.00217151, 0.00608069, 0.0021626 , 0.00215966, 0.00786033]),\n",
       " 'rank_test_score': array([ 6,  3,  1,  9,  8,  4,  7,  2,  5, 10]),\n",
       " 'split0_train_score': array([-0.        , -0.        , -0.        , -0.00055422, -0.00085374,\n",
       "        -0.        , -0.00077986, -0.        , -0.        , -0.00067565]),\n",
       " 'split1_train_score': array([-0.        , -0.        , -0.        , -0.00059809, -0.00060102,\n",
       "        -0.        , -0.00049282, -0.        , -0.        , -0.00076148]),\n",
       " 'split2_train_score': array([-0.        , -0.        , -0.        , -0.00070772, -0.00102532,\n",
       "        -0.        , -0.00070883, -0.        , -0.        , -0.0004569 ]),\n",
       " 'split3_train_score': array([-0.        , -0.        , -0.        , -0.00056225, -0.0004599 ,\n",
       "        -0.        , -0.00062688, -0.        , -0.        , -0.00160016]),\n",
       " 'split4_train_score': array([-0.        , -0.        , -0.        , -0.00063111, -0.00059125,\n",
       "        -0.        , -0.00062977, -0.        , -0.        , -0.00052275]),\n",
       " 'mean_train_score': array([ 0.        ,  0.        ,  0.        , -0.00061068, -0.00070624,\n",
       "         0.        , -0.00064763,  0.        ,  0.        , -0.00080339]),\n",
       " 'std_train_score': array([0.00000000e+00, 0.00000000e+00, 0.00000000e+00, 5.57236328e-05,\n",
       "        2.04227906e-04, 0.00000000e+00, 9.58589005e-05, 0.00000000e+00,\n",
       "        0.00000000e+00, 4.12730102e-04])}"
      ]
     },
     "execution_count": 37,
     "metadata": {},
     "output_type": "execute_result"
    }
   ],
   "source": [
    "result = ensemble_search.cv_results_\n",
    "result"
   ]
  },
  {
   "cell_type": "code",
   "execution_count": 38,
   "id": "2fe93b20",
   "metadata": {},
   "outputs": [
    {
     "name": "stdout",
     "output_type": "stream",
     "text": [
      "-0.0025929778701764567 {'n_estimators': 40, 'criterion': 'mae', 'bootstrap': False}\n",
      "-0.0025615101165089595 {'n_estimators': 80, 'criterion': 'mse', 'bootstrap': False}\n",
      "-0.0025215974461692586 {'n_estimators': 70, 'criterion': 'mse', 'bootstrap': False}\n",
      "-0.004882458726324958 {'n_estimators': 200, 'criterion': 'mse', 'bootstrap': True}\n",
      "-0.0048054747350190444 {'n_estimators': 60, 'criterion': 'mse', 'bootstrap': True}\n",
      "-0.0025681854359977776 {'n_estimators': 100, 'criterion': 'mse', 'bootstrap': False}\n",
      "-0.004268764483294918 {'n_estimators': 120, 'criterion': 'mse', 'bootstrap': True}\n",
      "-0.002556303655830189 {'n_estimators': 110, 'criterion': 'mae', 'bootstrap': False}\n",
      "-0.002584092717998889 {'n_estimators': 100, 'criterion': 'mae', 'bootstrap': False}\n",
      "-0.005022115810874849 {'n_estimators': 20, 'criterion': 'mse', 'bootstrap': True}\n"
     ]
    }
   ],
   "source": [
    "for mts, params in zip(result['mean_test_score'], result['params']):\n",
    "    print(mts, params)"
   ]
  },
  {
   "cell_type": "code",
   "execution_count": 40,
   "id": "485e234c",
   "metadata": {},
   "outputs": [
    {
     "data": {
      "text/plain": [
       "SVR(C=1, gamma=0.1, kernel='linear')"
      ]
     },
     "execution_count": 40,
     "metadata": {},
     "output_type": "execute_result"
    }
   ],
   "source": [
    "svm_reg = svm_search.best_estimator_\n",
    "svm_reg.fit(x_train, y_train)"
   ]
  },
  {
   "cell_type": "code",
   "execution_count": 54,
   "id": "c2c1608f",
   "metadata": {},
   "outputs": [
    {
     "name": "stdout",
     "output_type": "stream",
     "text": [
      "SVR RMSE value :  0.16996505260630465\n"
     ]
    }
   ],
   "source": [
    "from sklearn.metrics import mean_squared_error\n",
    "\n",
    "svm_pred = svm_reg.predict(x_test)\n",
    "print('SVR RMSE value : ' , np.sqrt(mean_squared_error(svm_pred, y_test)))"
   ]
  },
  {
   "cell_type": "code",
   "execution_count": 45,
   "id": "47d333c7",
   "metadata": {},
   "outputs": [
    {
     "data": {
      "text/plain": [
       "KNeighborsRegressor(n_neighbors=4)"
      ]
     },
     "execution_count": 45,
     "metadata": {},
     "output_type": "execute_result"
    }
   ],
   "source": [
    "knn_reg = knn_search.best_estimator_\n",
    "knn_reg.fit(x_train, y_train)"
   ]
  },
  {
   "cell_type": "code",
   "execution_count": 52,
   "id": "99509b28",
   "metadata": {},
   "outputs": [
    {
     "name": "stdout",
     "output_type": "stream",
     "text": [
      "KNN RMSE value :  0.41495661847392074\n"
     ]
    }
   ],
   "source": [
    "knn_pred = knn_reg.predict(x_test)\n",
    "print('KNN RMSE value : ' , np.sqrt(mean_squared_error(knn_pred, y_test)))"
   ]
  },
  {
   "cell_type": "code",
   "execution_count": 49,
   "id": "1169852e",
   "metadata": {},
   "outputs": [
    {
     "data": {
      "text/plain": [
       "RandomForestRegressor(bootstrap=False, n_estimators=70)"
      ]
     },
     "execution_count": 49,
     "metadata": {},
     "output_type": "execute_result"
    }
   ],
   "source": [
    "ensemble_reg = ensemble_search.best_estimator_\n",
    "ensemble_reg.fit(x_train, y_train)"
   ]
  },
  {
   "cell_type": "code",
   "execution_count": 55,
   "id": "52d12d16",
   "metadata": {},
   "outputs": [
    {
     "name": "stdout",
     "output_type": "stream",
     "text": [
      "RandomForestRegressor RMSE value :  0.1773768656987401\n"
     ]
    }
   ],
   "source": [
    "ensemble_pred = ensemble_reg.predict(x_test)\n",
    "print('RandomForestRegressor RMSE value : ' , np.sqrt(mean_squared_error(ensemble_pred, y_test)))"
   ]
  },
  {
   "cell_type": "code",
   "execution_count": 61,
   "id": "1e7c6fbf",
   "metadata": {},
   "outputs": [],
   "source": [
    "import pickle\n",
    "filename = 'abalone_case_Study.pkl'\n",
    "pickle.dump(svm_reg, open(filename, 'wb' ))"
   ]
  },
  {
   "cell_type": "markdown",
   "id": "28e85019",
   "metadata": {},
   "source": [
    "Saving the model with SVM as the error value is least as compared to other models."
   ]
  },
  {
   "cell_type": "code",
   "execution_count": 64,
   "id": "e77b22e9",
   "metadata": {},
   "outputs": [
    {
     "name": "stdout",
     "output_type": "stream",
     "text": [
      "0.9969636048688963\n"
     ]
    }
   ],
   "source": [
    "filename = 'abalone_case_Study.pkl'\n",
    "loaded_model = pickle.load(open(filename, 'rb'))\n",
    "result = loaded_model.score(x_test, y_test)\n",
    "print(result)"
   ]
  },
  {
   "cell_type": "markdown",
   "id": "595b0e60",
   "metadata": {},
   "source": [
    "Trying to Load the model just to check if saved model is working or not"
   ]
  }
 ],
 "metadata": {
  "kernelspec": {
   "display_name": "Python 3",
   "language": "python",
   "name": "python3"
  },
  "language_info": {
   "codemirror_mode": {
    "name": "ipython",
    "version": 3
   },
   "file_extension": ".py",
   "mimetype": "text/x-python",
   "name": "python",
   "nbconvert_exporter": "python",
   "pygments_lexer": "ipython3",
   "version": "3.8.8"
  }
 },
 "nbformat": 4,
 "nbformat_minor": 5
}
